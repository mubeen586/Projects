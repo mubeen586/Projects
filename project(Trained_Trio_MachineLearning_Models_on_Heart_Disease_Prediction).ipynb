{
  "nbformat": 4,
  "nbformat_minor": 0,
  "metadata": {
    "colab": {
      "provenance": [],
      "mount_file_id": "1YAMWsRcq40u7Fp0CGE7flW1wkXSsilF8",
      "authorship_tag": "ABX9TyPbyhOxO6Ssa/mI7W+2Njjm"
    },
    "kernelspec": {
      "name": "python3",
      "display_name": "Python 3"
    },
    "language_info": {
      "name": "python"
    }
  },
  "cells": [
    {
      "cell_type": "markdown",
      "source": [
        "***Heart Disease predicition on UCI Dataset***"
      ],
      "metadata": {
        "id": "-UvC-qhzm4LG"
      }
    },
    {
      "cell_type": "markdown",
      "source": [
        "**Author: Mubeen Ul Haq**\n",
        "\n",
        "**Email: Mubeenawan1379@gmail.com**\n",
        "\n",
        "**LinkedIn:  https://www.linkedin.com/in/mubeen-alvi-a8184921b/**\n",
        "\n",
        "**Github: https://github.com/mubeen586**\n",
        "\n",
        "**Facebook: https://www.facebook.com/profile.php?id=100008919760810**\n",
        "\n"
      ],
      "metadata": {
        "id": "VHAQlVY-hDfl"
      }
    },
    {
      "cell_type": "markdown",
      "source": [
        "**Objectives**\n",
        "\n",
        "Modify or develop new characteristics of data to optimize the accuracy and efficiency of machine learning models.\n",
        "\n",
        "To ensure the model's performance, separate the dataset into two subsets: a training set used to develop the model and a testing set used to assess its accuracy and reliability\n",
        "\n",
        "Gain insights into the data, understanding relationships and distributions that might influence model selection and performance.\n",
        "\n",
        "Choose a diverse set of models to compare. This might include decision trees, random forest and XGboost\n",
        "\n",
        "Utilize metrics such as accuracy, precision, recall, F1-score,to assess each model's performance\n",
        "\n",
        "Determine which model performs best on the test data based on the chosen evaluation metrics\n",
        "\n",
        "Draw conclusions from the model comparisons and provide insights into which models are most effective for predicting heart disease in this specific dataset."
      ],
      "metadata": {
        "id": "ooZybiTPnb-t"
      }
    },
    {
      "cell_type": "markdown",
      "source": [
        "**Methods used to measure the performance of a model:**\n",
        "\n",
        "To evaluate the usefulness of these models in a clinical setting, their performance will be measured using essential metrics\n",
        "\n",
        "Accuracy Score\n",
        "\n",
        "Precision Score\n",
        "\n",
        "Recall Score\n",
        "\n",
        "F1 Score"
      ],
      "metadata": {
        "id": "FlqIcTwDp3Hk"
      }
    },
    {
      "cell_type": "markdown",
      "source": [
        "**Dataset Info:**\n",
        "The UCI Heart Disease dataset comprises a series of attributes designed to forecast the likelihood of heart disease in individuals. Each record in this dataset corresponds to a distinct patient, with the columns detailing diverse health-related characteristics and the presence or absence of heart disease\n",
        "\n",
        "1. id: (Unique id for each patient)\n",
        "\n",
        "2. age: (Age of the patient in years)\n",
        "\n",
        "3. origin: (place of study)\n",
        "\n",
        "4. sex: (Male/Female)\n",
        "\n",
        "5. cp: chest pain type includes:\n",
        "\n",
        "*. typical angina\n",
        "*. atypical angina\n",
        "*. non-anginal\n",
        "*. asymptomatic\n",
        "\n",
        "6. trestbps: resting blood pressure (in mm Hg on admission to the hospital)\n",
        "\n",
        "7. chol: Serum Cholesterol in mg/dl\n",
        "\n",
        "8. fbs: if fasting blood sugar > 120 mg/dl\n",
        "\n",
        "9. restecg: resting electrocardiographic results -- Values include:\n",
        "*. normal\n",
        "*. stt abnormality\n",
        "*. lv hypertrophy\n",
        "\n",
        "10. thalach: maximum heart rate achieved\n",
        "\n",
        "11. exang: exercise-induced angina (True/ False)\n",
        "\n",
        "12. oldpeak: ST depression induced by exercise relative to rest\n",
        "\n",
        "13. slope: the slope of the peak exercise ST segment\n",
        "\n",
        "14. ca: number of major vessels (0-3) colored by fluoroscopy\n",
        "\n",
        "15. thal: Thalassemia Categories includes\n",
        "*. normal\n",
        "*. fixed defect\n",
        "*. reversible defect\n",
        "*. num: the predicted attribute diagnosis of heart disease"
      ],
      "metadata": {
        "id": "Nn41vFirqa8w"
      }
    },
    {
      "cell_type": "markdown",
      "source": [
        "#Libraries Import"
      ],
      "metadata": {
        "id": "ns31pDXGrfzL"
      }
    },
    {
      "cell_type": "code",
      "source": [
        "# import libraries\n",
        "import pandas as pd\n",
        "import numpy as np\n",
        "import matplotlib.pyplot as plt\n",
        "import seaborn as sns\n",
        "import plotly.express as px\n",
        "\n",
        "# import ML libraries\n",
        "from sklearn.model_selection import train_test_split\n",
        "from sklearn.svm import SVC\n",
        "from sklearn.neighbors import KNeighborsClassifier\n",
        "from sklearn.tree import DecisionTreeClassifier\n",
        "from sklearn.ensemble import RandomForestClassifier, RandomForestRegressor\n",
        "from xgboost import XGBClassifier\n",
        "\n",
        "# import metrics\n",
        "from sklearn.metrics import accuracy_score, precision_score, recall_score, f1_score, confusion_matrix,mean_absolute_error, mean_squared_error, r2_score\n",
        "\n",
        "\n",
        "# To preprocess the data\n",
        "from sklearn.preprocessing import StandardScaler, MinMaxScaler, LabelEncoder\n",
        "\n",
        "from sklearn.impute import SimpleImputer, KNNImputer\n",
        "# import iterative imputer\n",
        "from sklearn.experimental import enable_iterative_imputer\n",
        "from sklearn.impute import IterativeImputer\n",
        "\n",
        "# import warnings\n",
        "import warnings\n",
        "warnings.filterwarnings('ignore')"
      ],
      "metadata": {
        "id": "KGWuSoOflmHy"
      },
      "execution_count": null,
      "outputs": []
    },
    {
      "cell_type": "code",
      "source": [
        "df = pd.read_csv('../content/drive/MyDrive/UCI heart Disease Dataset/heart_disease_uci.csv')\n",
        "df.head()\n"
      ],
      "metadata": {
        "colab": {
          "base_uri": "https://localhost:8080/",
          "height": 206
        },
        "id": "4hqAkHz5hKHL",
        "outputId": "3ec6703d-b85c-4737-f0a5-2a9f1b16e7c9"
      },
      "execution_count": null,
      "outputs": [
        {
          "output_type": "execute_result",
          "data": {
            "text/plain": [
              "   id  age     sex    dataset               cp  trestbps   chol    fbs  \\\n",
              "0   1   63    Male  Cleveland   typical angina     145.0  233.0   True   \n",
              "1   2   67    Male  Cleveland     asymptomatic     160.0  286.0  False   \n",
              "2   3   67    Male  Cleveland     asymptomatic     120.0  229.0  False   \n",
              "3   4   37    Male  Cleveland      non-anginal     130.0  250.0  False   \n",
              "4   5   41  Female  Cleveland  atypical angina     130.0  204.0  False   \n",
              "\n",
              "          restecg  thalch  exang  oldpeak        slope   ca  \\\n",
              "0  lv hypertrophy   150.0  False      2.3  downsloping  0.0   \n",
              "1  lv hypertrophy   108.0   True      1.5         flat  3.0   \n",
              "2  lv hypertrophy   129.0   True      2.6         flat  2.0   \n",
              "3          normal   187.0  False      3.5  downsloping  0.0   \n",
              "4  lv hypertrophy   172.0  False      1.4    upsloping  0.0   \n",
              "\n",
              "                thal  num  \n",
              "0       fixed defect    0  \n",
              "1             normal    2  \n",
              "2  reversable defect    1  \n",
              "3             normal    0  \n",
              "4             normal    0  "
            ],
            "text/html": [
              "\n",
              "  <div id=\"df-44bdafa6-e97e-4d76-9296-6df57490c769\" class=\"colab-df-container\">\n",
              "    <div>\n",
              "<style scoped>\n",
              "    .dataframe tbody tr th:only-of-type {\n",
              "        vertical-align: middle;\n",
              "    }\n",
              "\n",
              "    .dataframe tbody tr th {\n",
              "        vertical-align: top;\n",
              "    }\n",
              "\n",
              "    .dataframe thead th {\n",
              "        text-align: right;\n",
              "    }\n",
              "</style>\n",
              "<table border=\"1\" class=\"dataframe\">\n",
              "  <thead>\n",
              "    <tr style=\"text-align: right;\">\n",
              "      <th></th>\n",
              "      <th>id</th>\n",
              "      <th>age</th>\n",
              "      <th>sex</th>\n",
              "      <th>dataset</th>\n",
              "      <th>cp</th>\n",
              "      <th>trestbps</th>\n",
              "      <th>chol</th>\n",
              "      <th>fbs</th>\n",
              "      <th>restecg</th>\n",
              "      <th>thalch</th>\n",
              "      <th>exang</th>\n",
              "      <th>oldpeak</th>\n",
              "      <th>slope</th>\n",
              "      <th>ca</th>\n",
              "      <th>thal</th>\n",
              "      <th>num</th>\n",
              "    </tr>\n",
              "  </thead>\n",
              "  <tbody>\n",
              "    <tr>\n",
              "      <th>0</th>\n",
              "      <td>1</td>\n",
              "      <td>63</td>\n",
              "      <td>Male</td>\n",
              "      <td>Cleveland</td>\n",
              "      <td>typical angina</td>\n",
              "      <td>145.0</td>\n",
              "      <td>233.0</td>\n",
              "      <td>True</td>\n",
              "      <td>lv hypertrophy</td>\n",
              "      <td>150.0</td>\n",
              "      <td>False</td>\n",
              "      <td>2.3</td>\n",
              "      <td>downsloping</td>\n",
              "      <td>0.0</td>\n",
              "      <td>fixed defect</td>\n",
              "      <td>0</td>\n",
              "    </tr>\n",
              "    <tr>\n",
              "      <th>1</th>\n",
              "      <td>2</td>\n",
              "      <td>67</td>\n",
              "      <td>Male</td>\n",
              "      <td>Cleveland</td>\n",
              "      <td>asymptomatic</td>\n",
              "      <td>160.0</td>\n",
              "      <td>286.0</td>\n",
              "      <td>False</td>\n",
              "      <td>lv hypertrophy</td>\n",
              "      <td>108.0</td>\n",
              "      <td>True</td>\n",
              "      <td>1.5</td>\n",
              "      <td>flat</td>\n",
              "      <td>3.0</td>\n",
              "      <td>normal</td>\n",
              "      <td>2</td>\n",
              "    </tr>\n",
              "    <tr>\n",
              "      <th>2</th>\n",
              "      <td>3</td>\n",
              "      <td>67</td>\n",
              "      <td>Male</td>\n",
              "      <td>Cleveland</td>\n",
              "      <td>asymptomatic</td>\n",
              "      <td>120.0</td>\n",
              "      <td>229.0</td>\n",
              "      <td>False</td>\n",
              "      <td>lv hypertrophy</td>\n",
              "      <td>129.0</td>\n",
              "      <td>True</td>\n",
              "      <td>2.6</td>\n",
              "      <td>flat</td>\n",
              "      <td>2.0</td>\n",
              "      <td>reversable defect</td>\n",
              "      <td>1</td>\n",
              "    </tr>\n",
              "    <tr>\n",
              "      <th>3</th>\n",
              "      <td>4</td>\n",
              "      <td>37</td>\n",
              "      <td>Male</td>\n",
              "      <td>Cleveland</td>\n",
              "      <td>non-anginal</td>\n",
              "      <td>130.0</td>\n",
              "      <td>250.0</td>\n",
              "      <td>False</td>\n",
              "      <td>normal</td>\n",
              "      <td>187.0</td>\n",
              "      <td>False</td>\n",
              "      <td>3.5</td>\n",
              "      <td>downsloping</td>\n",
              "      <td>0.0</td>\n",
              "      <td>normal</td>\n",
              "      <td>0</td>\n",
              "    </tr>\n",
              "    <tr>\n",
              "      <th>4</th>\n",
              "      <td>5</td>\n",
              "      <td>41</td>\n",
              "      <td>Female</td>\n",
              "      <td>Cleveland</td>\n",
              "      <td>atypical angina</td>\n",
              "      <td>130.0</td>\n",
              "      <td>204.0</td>\n",
              "      <td>False</td>\n",
              "      <td>lv hypertrophy</td>\n",
              "      <td>172.0</td>\n",
              "      <td>False</td>\n",
              "      <td>1.4</td>\n",
              "      <td>upsloping</td>\n",
              "      <td>0.0</td>\n",
              "      <td>normal</td>\n",
              "      <td>0</td>\n",
              "    </tr>\n",
              "  </tbody>\n",
              "</table>\n",
              "</div>\n",
              "    <div class=\"colab-df-buttons\">\n",
              "\n",
              "  <div class=\"colab-df-container\">\n",
              "    <button class=\"colab-df-convert\" onclick=\"convertToInteractive('df-44bdafa6-e97e-4d76-9296-6df57490c769')\"\n",
              "            title=\"Convert this dataframe to an interactive table.\"\n",
              "            style=\"display:none;\">\n",
              "\n",
              "  <svg xmlns=\"http://www.w3.org/2000/svg\" height=\"24px\" viewBox=\"0 -960 960 960\">\n",
              "    <path d=\"M120-120v-720h720v720H120Zm60-500h600v-160H180v160Zm220 220h160v-160H400v160Zm0 220h160v-160H400v160ZM180-400h160v-160H180v160Zm440 0h160v-160H620v160ZM180-180h160v-160H180v160Zm440 0h160v-160H620v160Z\"/>\n",
              "  </svg>\n",
              "    </button>\n",
              "\n",
              "  <style>\n",
              "    .colab-df-container {\n",
              "      display:flex;\n",
              "      gap: 12px;\n",
              "    }\n",
              "\n",
              "    .colab-df-convert {\n",
              "      background-color: #E8F0FE;\n",
              "      border: none;\n",
              "      border-radius: 50%;\n",
              "      cursor: pointer;\n",
              "      display: none;\n",
              "      fill: #1967D2;\n",
              "      height: 32px;\n",
              "      padding: 0 0 0 0;\n",
              "      width: 32px;\n",
              "    }\n",
              "\n",
              "    .colab-df-convert:hover {\n",
              "      background-color: #E2EBFA;\n",
              "      box-shadow: 0px 1px 2px rgba(60, 64, 67, 0.3), 0px 1px 3px 1px rgba(60, 64, 67, 0.15);\n",
              "      fill: #174EA6;\n",
              "    }\n",
              "\n",
              "    .colab-df-buttons div {\n",
              "      margin-bottom: 4px;\n",
              "    }\n",
              "\n",
              "    [theme=dark] .colab-df-convert {\n",
              "      background-color: #3B4455;\n",
              "      fill: #D2E3FC;\n",
              "    }\n",
              "\n",
              "    [theme=dark] .colab-df-convert:hover {\n",
              "      background-color: #434B5C;\n",
              "      box-shadow: 0px 1px 3px 1px rgba(0, 0, 0, 0.15);\n",
              "      filter: drop-shadow(0px 1px 2px rgba(0, 0, 0, 0.3));\n",
              "      fill: #FFFFFF;\n",
              "    }\n",
              "  </style>\n",
              "\n",
              "    <script>\n",
              "      const buttonEl =\n",
              "        document.querySelector('#df-44bdafa6-e97e-4d76-9296-6df57490c769 button.colab-df-convert');\n",
              "      buttonEl.style.display =\n",
              "        google.colab.kernel.accessAllowed ? 'block' : 'none';\n",
              "\n",
              "      async function convertToInteractive(key) {\n",
              "        const element = document.querySelector('#df-44bdafa6-e97e-4d76-9296-6df57490c769');\n",
              "        const dataTable =\n",
              "          await google.colab.kernel.invokeFunction('convertToInteractive',\n",
              "                                                    [key], {});\n",
              "        if (!dataTable) return;\n",
              "\n",
              "        const docLinkHtml = 'Like what you see? Visit the ' +\n",
              "          '<a target=\"_blank\" href=https://colab.research.google.com/notebooks/data_table.ipynb>data table notebook</a>'\n",
              "          + ' to learn more about interactive tables.';\n",
              "        element.innerHTML = '';\n",
              "        dataTable['output_type'] = 'display_data';\n",
              "        await google.colab.output.renderOutput(dataTable, element);\n",
              "        const docLink = document.createElement('div');\n",
              "        docLink.innerHTML = docLinkHtml;\n",
              "        element.appendChild(docLink);\n",
              "      }\n",
              "    </script>\n",
              "  </div>\n",
              "\n",
              "\n",
              "<div id=\"df-dfac3a36-a84e-43bd-9b3f-999c5ce590e0\">\n",
              "  <button class=\"colab-df-quickchart\" onclick=\"quickchart('df-dfac3a36-a84e-43bd-9b3f-999c5ce590e0')\"\n",
              "            title=\"Suggest charts\"\n",
              "            style=\"display:none;\">\n",
              "\n",
              "<svg xmlns=\"http://www.w3.org/2000/svg\" height=\"24px\"viewBox=\"0 0 24 24\"\n",
              "     width=\"24px\">\n",
              "    <g>\n",
              "        <path d=\"M19 3H5c-1.1 0-2 .9-2 2v14c0 1.1.9 2 2 2h14c1.1 0 2-.9 2-2V5c0-1.1-.9-2-2-2zM9 17H7v-7h2v7zm4 0h-2V7h2v10zm4 0h-2v-4h2v4z\"/>\n",
              "    </g>\n",
              "</svg>\n",
              "  </button>\n",
              "\n",
              "<style>\n",
              "  .colab-df-quickchart {\n",
              "      --bg-color: #E8F0FE;\n",
              "      --fill-color: #1967D2;\n",
              "      --hover-bg-color: #E2EBFA;\n",
              "      --hover-fill-color: #174EA6;\n",
              "      --disabled-fill-color: #AAA;\n",
              "      --disabled-bg-color: #DDD;\n",
              "  }\n",
              "\n",
              "  [theme=dark] .colab-df-quickchart {\n",
              "      --bg-color: #3B4455;\n",
              "      --fill-color: #D2E3FC;\n",
              "      --hover-bg-color: #434B5C;\n",
              "      --hover-fill-color: #FFFFFF;\n",
              "      --disabled-bg-color: #3B4455;\n",
              "      --disabled-fill-color: #666;\n",
              "  }\n",
              "\n",
              "  .colab-df-quickchart {\n",
              "    background-color: var(--bg-color);\n",
              "    border: none;\n",
              "    border-radius: 50%;\n",
              "    cursor: pointer;\n",
              "    display: none;\n",
              "    fill: var(--fill-color);\n",
              "    height: 32px;\n",
              "    padding: 0;\n",
              "    width: 32px;\n",
              "  }\n",
              "\n",
              "  .colab-df-quickchart:hover {\n",
              "    background-color: var(--hover-bg-color);\n",
              "    box-shadow: 0 1px 2px rgba(60, 64, 67, 0.3), 0 1px 3px 1px rgba(60, 64, 67, 0.15);\n",
              "    fill: var(--button-hover-fill-color);\n",
              "  }\n",
              "\n",
              "  .colab-df-quickchart-complete:disabled,\n",
              "  .colab-df-quickchart-complete:disabled:hover {\n",
              "    background-color: var(--disabled-bg-color);\n",
              "    fill: var(--disabled-fill-color);\n",
              "    box-shadow: none;\n",
              "  }\n",
              "\n",
              "  .colab-df-spinner {\n",
              "    border: 2px solid var(--fill-color);\n",
              "    border-color: transparent;\n",
              "    border-bottom-color: var(--fill-color);\n",
              "    animation:\n",
              "      spin 1s steps(1) infinite;\n",
              "  }\n",
              "\n",
              "  @keyframes spin {\n",
              "    0% {\n",
              "      border-color: transparent;\n",
              "      border-bottom-color: var(--fill-color);\n",
              "      border-left-color: var(--fill-color);\n",
              "    }\n",
              "    20% {\n",
              "      border-color: transparent;\n",
              "      border-left-color: var(--fill-color);\n",
              "      border-top-color: var(--fill-color);\n",
              "    }\n",
              "    30% {\n",
              "      border-color: transparent;\n",
              "      border-left-color: var(--fill-color);\n",
              "      border-top-color: var(--fill-color);\n",
              "      border-right-color: var(--fill-color);\n",
              "    }\n",
              "    40% {\n",
              "      border-color: transparent;\n",
              "      border-right-color: var(--fill-color);\n",
              "      border-top-color: var(--fill-color);\n",
              "    }\n",
              "    60% {\n",
              "      border-color: transparent;\n",
              "      border-right-color: var(--fill-color);\n",
              "    }\n",
              "    80% {\n",
              "      border-color: transparent;\n",
              "      border-right-color: var(--fill-color);\n",
              "      border-bottom-color: var(--fill-color);\n",
              "    }\n",
              "    90% {\n",
              "      border-color: transparent;\n",
              "      border-bottom-color: var(--fill-color);\n",
              "    }\n",
              "  }\n",
              "</style>\n",
              "\n",
              "  <script>\n",
              "    async function quickchart(key) {\n",
              "      const quickchartButtonEl =\n",
              "        document.querySelector('#' + key + ' button');\n",
              "      quickchartButtonEl.disabled = true;  // To prevent multiple clicks.\n",
              "      quickchartButtonEl.classList.add('colab-df-spinner');\n",
              "      try {\n",
              "        const charts = await google.colab.kernel.invokeFunction(\n",
              "            'suggestCharts', [key], {});\n",
              "      } catch (error) {\n",
              "        console.error('Error during call to suggestCharts:', error);\n",
              "      }\n",
              "      quickchartButtonEl.classList.remove('colab-df-spinner');\n",
              "      quickchartButtonEl.classList.add('colab-df-quickchart-complete');\n",
              "    }\n",
              "    (() => {\n",
              "      let quickchartButtonEl =\n",
              "        document.querySelector('#df-dfac3a36-a84e-43bd-9b3f-999c5ce590e0 button');\n",
              "      quickchartButtonEl.style.display =\n",
              "        google.colab.kernel.accessAllowed ? 'block' : 'none';\n",
              "    })();\n",
              "  </script>\n",
              "</div>\n",
              "\n",
              "    </div>\n",
              "  </div>\n"
            ],
            "application/vnd.google.colaboratory.intrinsic+json": {
              "type": "dataframe",
              "variable_name": "df",
              "summary": "{\n  \"name\": \"df\",\n  \"rows\": 920,\n  \"fields\": [\n    {\n      \"column\": \"id\",\n      \"properties\": {\n        \"dtype\": \"number\",\n        \"std\": 265,\n        \"min\": 1,\n        \"max\": 920,\n        \"num_unique_values\": 920,\n        \"samples\": [\n          320,\n          378,\n          539\n        ],\n        \"semantic_type\": \"\",\n        \"description\": \"\"\n      }\n    },\n    {\n      \"column\": \"age\",\n      \"properties\": {\n        \"dtype\": \"number\",\n        \"std\": 9,\n        \"min\": 28,\n        \"max\": 77,\n        \"num_unique_values\": 50,\n        \"samples\": [\n          64,\n          74,\n          39\n        ],\n        \"semantic_type\": \"\",\n        \"description\": \"\"\n      }\n    },\n    {\n      \"column\": \"sex\",\n      \"properties\": {\n        \"dtype\": \"category\",\n        \"num_unique_values\": 2,\n        \"samples\": [\n          \"Female\",\n          \"Male\"\n        ],\n        \"semantic_type\": \"\",\n        \"description\": \"\"\n      }\n    },\n    {\n      \"column\": \"dataset\",\n      \"properties\": {\n        \"dtype\": \"category\",\n        \"num_unique_values\": 4,\n        \"samples\": [\n          \"Hungary\",\n          \"VA Long Beach\"\n        ],\n        \"semantic_type\": \"\",\n        \"description\": \"\"\n      }\n    },\n    {\n      \"column\": \"cp\",\n      \"properties\": {\n        \"dtype\": \"category\",\n        \"num_unique_values\": 4,\n        \"samples\": [\n          \"asymptomatic\",\n          \"atypical angina\"\n        ],\n        \"semantic_type\": \"\",\n        \"description\": \"\"\n      }\n    },\n    {\n      \"column\": \"trestbps\",\n      \"properties\": {\n        \"dtype\": \"number\",\n        \"std\": 19.066069518587476,\n        \"min\": 0.0,\n        \"max\": 200.0,\n        \"num_unique_values\": 61,\n        \"samples\": [\n          145.0,\n          172.0\n        ],\n        \"semantic_type\": \"\",\n        \"description\": \"\"\n      }\n    },\n    {\n      \"column\": \"chol\",\n      \"properties\": {\n        \"dtype\": \"number\",\n        \"std\": 110.7808103532305,\n        \"min\": 0.0,\n        \"max\": 603.0,\n        \"num_unique_values\": 217,\n        \"samples\": [\n          384.0,\n          333.0\n        ],\n        \"semantic_type\": \"\",\n        \"description\": \"\"\n      }\n    },\n    {\n      \"column\": \"fbs\",\n      \"properties\": {\n        \"dtype\": \"category\",\n        \"num_unique_values\": 2,\n        \"samples\": [\n          false,\n          true\n        ],\n        \"semantic_type\": \"\",\n        \"description\": \"\"\n      }\n    },\n    {\n      \"column\": \"restecg\",\n      \"properties\": {\n        \"dtype\": \"category\",\n        \"num_unique_values\": 3,\n        \"samples\": [\n          \"lv hypertrophy\",\n          \"normal\"\n        ],\n        \"semantic_type\": \"\",\n        \"description\": \"\"\n      }\n    },\n    {\n      \"column\": \"thalch\",\n      \"properties\": {\n        \"dtype\": \"number\",\n        \"std\": 25.926276492797594,\n        \"min\": 60.0,\n        \"max\": 202.0,\n        \"num_unique_values\": 119,\n        \"samples\": [\n          185.0,\n          134.0\n        ],\n        \"semantic_type\": \"\",\n        \"description\": \"\"\n      }\n    },\n    {\n      \"column\": \"exang\",\n      \"properties\": {\n        \"dtype\": \"category\",\n        \"num_unique_values\": 2,\n        \"samples\": [\n          true,\n          false\n        ],\n        \"semantic_type\": \"\",\n        \"description\": \"\"\n      }\n    },\n    {\n      \"column\": \"oldpeak\",\n      \"properties\": {\n        \"dtype\": \"number\",\n        \"std\": 1.0912262483465298,\n        \"min\": -2.6,\n        \"max\": 6.2,\n        \"num_unique_values\": 53,\n        \"samples\": [\n          2.4,\n          -1.1\n        ],\n        \"semantic_type\": \"\",\n        \"description\": \"\"\n      }\n    },\n    {\n      \"column\": \"slope\",\n      \"properties\": {\n        \"dtype\": \"category\",\n        \"num_unique_values\": 3,\n        \"samples\": [\n          \"downsloping\",\n          \"flat\"\n        ],\n        \"semantic_type\": \"\",\n        \"description\": \"\"\n      }\n    },\n    {\n      \"column\": \"ca\",\n      \"properties\": {\n        \"dtype\": \"number\",\n        \"std\": 0.935653012559987,\n        \"min\": 0.0,\n        \"max\": 3.0,\n        \"num_unique_values\": 4,\n        \"samples\": [\n          3.0,\n          1.0\n        ],\n        \"semantic_type\": \"\",\n        \"description\": \"\"\n      }\n    },\n    {\n      \"column\": \"thal\",\n      \"properties\": {\n        \"dtype\": \"category\",\n        \"num_unique_values\": 3,\n        \"samples\": [\n          \"fixed defect\",\n          \"normal\"\n        ],\n        \"semantic_type\": \"\",\n        \"description\": \"\"\n      }\n    },\n    {\n      \"column\": \"num\",\n      \"properties\": {\n        \"dtype\": \"number\",\n        \"std\": 1,\n        \"min\": 0,\n        \"max\": 4,\n        \"num_unique_values\": 5,\n        \"samples\": [\n          2,\n          4\n        ],\n        \"semantic_type\": \"\",\n        \"description\": \"\"\n      }\n    }\n  ]\n}"
            }
          },
          "metadata": {},
          "execution_count": 23
        }
      ]
    },
    {
      "cell_type": "code",
      "source": [
        "df.shape\n",
        "print(f\"There are {df.shape[0]} patients and {df.shape[1]} features in the dataset.\")"
      ],
      "metadata": {
        "colab": {
          "base_uri": "https://localhost:8080/"
        },
        "id": "8x8buRfVlJjp",
        "outputId": "3ce8bd3b-0ba9-4271-ac2d-e28ca9525141"
      },
      "execution_count": null,
      "outputs": [
        {
          "output_type": "stream",
          "name": "stdout",
          "text": [
            "There are 920 patients and 16 features in the dataset.\n"
          ]
        }
      ]
    },
    {
      "cell_type": "code",
      "source": [
        "\n",
        "df.info()"
      ],
      "metadata": {
        "colab": {
          "base_uri": "https://localhost:8080/"
        },
        "id": "Gz5oS_c54PPg",
        "outputId": "e7b70078-da58-4831-945d-acb20ac0b8a8"
      },
      "execution_count": null,
      "outputs": [
        {
          "output_type": "stream",
          "name": "stdout",
          "text": [
            "<class 'pandas.core.frame.DataFrame'>\n",
            "RangeIndex: 920 entries, 0 to 919\n",
            "Data columns (total 16 columns):\n",
            " #   Column    Non-Null Count  Dtype  \n",
            "---  ------    --------------  -----  \n",
            " 0   id        920 non-null    int64  \n",
            " 1   age       920 non-null    int64  \n",
            " 2   sex       920 non-null    object \n",
            " 3   dataset   920 non-null    object \n",
            " 4   cp        920 non-null    object \n",
            " 5   trestbps  861 non-null    float64\n",
            " 6   chol      890 non-null    float64\n",
            " 7   fbs       830 non-null    object \n",
            " 8   restecg   918 non-null    object \n",
            " 9   thalch    865 non-null    float64\n",
            " 10  exang     865 non-null    object \n",
            " 11  oldpeak   858 non-null    float64\n",
            " 12  slope     611 non-null    object \n",
            " 13  ca        309 non-null    float64\n",
            " 14  thal      434 non-null    object \n",
            " 15  num       920 non-null    int64  \n",
            "dtypes: float64(5), int64(3), object(8)\n",
            "memory usage: 115.1+ KB\n"
          ]
        }
      ]
    },
    {
      "cell_type": "code",
      "source": [
        "df.columns"
      ],
      "metadata": {
        "colab": {
          "base_uri": "https://localhost:8080/"
        },
        "id": "zZXkzi-C6BEX",
        "outputId": "db367006-61c3-4823-ef31-f0a404686878"
      },
      "execution_count": null,
      "outputs": [
        {
          "output_type": "execute_result",
          "data": {
            "text/plain": [
              "Index(['id', 'age', 'sex', 'dataset', 'cp', 'trestbps', 'chol', 'fbs',\n",
              "       'restecg', 'thalch', 'exang', 'oldpeak', 'slope', 'ca', 'thal', 'num'],\n",
              "      dtype='object')"
            ]
          },
          "metadata": {},
          "execution_count": 26
        }
      ]
    },
    {
      "cell_type": "markdown",
      "source": [
        "**A breakdown of the data's key characteristics**"
      ],
      "metadata": {
        "id": "vtsYxsaR6op_"
      }
    },
    {
      "cell_type": "code",
      "source": [
        "statistical_summary = df.describe()\n",
        "statistical_summary"
      ],
      "metadata": {
        "colab": {
          "base_uri": "https://localhost:8080/",
          "height": 300
        },
        "id": "XUB94ZR26McZ",
        "outputId": "5da0bab8-2fed-4d50-94c1-e146fc6d57d0"
      },
      "execution_count": null,
      "outputs": [
        {
          "output_type": "execute_result",
          "data": {
            "text/plain": [
              "               id         age    trestbps        chol      thalch     oldpeak  \\\n",
              "count  920.000000  920.000000  861.000000  890.000000  865.000000  858.000000   \n",
              "mean   460.500000   53.510870  132.132404  199.130337  137.545665    0.878788   \n",
              "std    265.725422    9.424685   19.066070  110.780810   25.926276    1.091226   \n",
              "min      1.000000   28.000000    0.000000    0.000000   60.000000   -2.600000   \n",
              "25%    230.750000   47.000000  120.000000  175.000000  120.000000    0.000000   \n",
              "50%    460.500000   54.000000  130.000000  223.000000  140.000000    0.500000   \n",
              "75%    690.250000   60.000000  140.000000  268.000000  157.000000    1.500000   \n",
              "max    920.000000   77.000000  200.000000  603.000000  202.000000    6.200000   \n",
              "\n",
              "               ca         num  \n",
              "count  309.000000  920.000000  \n",
              "mean     0.676375    0.995652  \n",
              "std      0.935653    1.142693  \n",
              "min      0.000000    0.000000  \n",
              "25%      0.000000    0.000000  \n",
              "50%      0.000000    1.000000  \n",
              "75%      1.000000    2.000000  \n",
              "max      3.000000    4.000000  "
            ],
            "text/html": [
              "\n",
              "  <div id=\"df-6146c1bf-8582-4078-85de-1ef3014e9c12\" class=\"colab-df-container\">\n",
              "    <div>\n",
              "<style scoped>\n",
              "    .dataframe tbody tr th:only-of-type {\n",
              "        vertical-align: middle;\n",
              "    }\n",
              "\n",
              "    .dataframe tbody tr th {\n",
              "        vertical-align: top;\n",
              "    }\n",
              "\n",
              "    .dataframe thead th {\n",
              "        text-align: right;\n",
              "    }\n",
              "</style>\n",
              "<table border=\"1\" class=\"dataframe\">\n",
              "  <thead>\n",
              "    <tr style=\"text-align: right;\">\n",
              "      <th></th>\n",
              "      <th>id</th>\n",
              "      <th>age</th>\n",
              "      <th>trestbps</th>\n",
              "      <th>chol</th>\n",
              "      <th>thalch</th>\n",
              "      <th>oldpeak</th>\n",
              "      <th>ca</th>\n",
              "      <th>num</th>\n",
              "    </tr>\n",
              "  </thead>\n",
              "  <tbody>\n",
              "    <tr>\n",
              "      <th>count</th>\n",
              "      <td>920.000000</td>\n",
              "      <td>920.000000</td>\n",
              "      <td>861.000000</td>\n",
              "      <td>890.000000</td>\n",
              "      <td>865.000000</td>\n",
              "      <td>858.000000</td>\n",
              "      <td>309.000000</td>\n",
              "      <td>920.000000</td>\n",
              "    </tr>\n",
              "    <tr>\n",
              "      <th>mean</th>\n",
              "      <td>460.500000</td>\n",
              "      <td>53.510870</td>\n",
              "      <td>132.132404</td>\n",
              "      <td>199.130337</td>\n",
              "      <td>137.545665</td>\n",
              "      <td>0.878788</td>\n",
              "      <td>0.676375</td>\n",
              "      <td>0.995652</td>\n",
              "    </tr>\n",
              "    <tr>\n",
              "      <th>std</th>\n",
              "      <td>265.725422</td>\n",
              "      <td>9.424685</td>\n",
              "      <td>19.066070</td>\n",
              "      <td>110.780810</td>\n",
              "      <td>25.926276</td>\n",
              "      <td>1.091226</td>\n",
              "      <td>0.935653</td>\n",
              "      <td>1.142693</td>\n",
              "    </tr>\n",
              "    <tr>\n",
              "      <th>min</th>\n",
              "      <td>1.000000</td>\n",
              "      <td>28.000000</td>\n",
              "      <td>0.000000</td>\n",
              "      <td>0.000000</td>\n",
              "      <td>60.000000</td>\n",
              "      <td>-2.600000</td>\n",
              "      <td>0.000000</td>\n",
              "      <td>0.000000</td>\n",
              "    </tr>\n",
              "    <tr>\n",
              "      <th>25%</th>\n",
              "      <td>230.750000</td>\n",
              "      <td>47.000000</td>\n",
              "      <td>120.000000</td>\n",
              "      <td>175.000000</td>\n",
              "      <td>120.000000</td>\n",
              "      <td>0.000000</td>\n",
              "      <td>0.000000</td>\n",
              "      <td>0.000000</td>\n",
              "    </tr>\n",
              "    <tr>\n",
              "      <th>50%</th>\n",
              "      <td>460.500000</td>\n",
              "      <td>54.000000</td>\n",
              "      <td>130.000000</td>\n",
              "      <td>223.000000</td>\n",
              "      <td>140.000000</td>\n",
              "      <td>0.500000</td>\n",
              "      <td>0.000000</td>\n",
              "      <td>1.000000</td>\n",
              "    </tr>\n",
              "    <tr>\n",
              "      <th>75%</th>\n",
              "      <td>690.250000</td>\n",
              "      <td>60.000000</td>\n",
              "      <td>140.000000</td>\n",
              "      <td>268.000000</td>\n",
              "      <td>157.000000</td>\n",
              "      <td>1.500000</td>\n",
              "      <td>1.000000</td>\n",
              "      <td>2.000000</td>\n",
              "    </tr>\n",
              "    <tr>\n",
              "      <th>max</th>\n",
              "      <td>920.000000</td>\n",
              "      <td>77.000000</td>\n",
              "      <td>200.000000</td>\n",
              "      <td>603.000000</td>\n",
              "      <td>202.000000</td>\n",
              "      <td>6.200000</td>\n",
              "      <td>3.000000</td>\n",
              "      <td>4.000000</td>\n",
              "    </tr>\n",
              "  </tbody>\n",
              "</table>\n",
              "</div>\n",
              "    <div class=\"colab-df-buttons\">\n",
              "\n",
              "  <div class=\"colab-df-container\">\n",
              "    <button class=\"colab-df-convert\" onclick=\"convertToInteractive('df-6146c1bf-8582-4078-85de-1ef3014e9c12')\"\n",
              "            title=\"Convert this dataframe to an interactive table.\"\n",
              "            style=\"display:none;\">\n",
              "\n",
              "  <svg xmlns=\"http://www.w3.org/2000/svg\" height=\"24px\" viewBox=\"0 -960 960 960\">\n",
              "    <path d=\"M120-120v-720h720v720H120Zm60-500h600v-160H180v160Zm220 220h160v-160H400v160Zm0 220h160v-160H400v160ZM180-400h160v-160H180v160Zm440 0h160v-160H620v160ZM180-180h160v-160H180v160Zm440 0h160v-160H620v160Z\"/>\n",
              "  </svg>\n",
              "    </button>\n",
              "\n",
              "  <style>\n",
              "    .colab-df-container {\n",
              "      display:flex;\n",
              "      gap: 12px;\n",
              "    }\n",
              "\n",
              "    .colab-df-convert {\n",
              "      background-color: #E8F0FE;\n",
              "      border: none;\n",
              "      border-radius: 50%;\n",
              "      cursor: pointer;\n",
              "      display: none;\n",
              "      fill: #1967D2;\n",
              "      height: 32px;\n",
              "      padding: 0 0 0 0;\n",
              "      width: 32px;\n",
              "    }\n",
              "\n",
              "    .colab-df-convert:hover {\n",
              "      background-color: #E2EBFA;\n",
              "      box-shadow: 0px 1px 2px rgba(60, 64, 67, 0.3), 0px 1px 3px 1px rgba(60, 64, 67, 0.15);\n",
              "      fill: #174EA6;\n",
              "    }\n",
              "\n",
              "    .colab-df-buttons div {\n",
              "      margin-bottom: 4px;\n",
              "    }\n",
              "\n",
              "    [theme=dark] .colab-df-convert {\n",
              "      background-color: #3B4455;\n",
              "      fill: #D2E3FC;\n",
              "    }\n",
              "\n",
              "    [theme=dark] .colab-df-convert:hover {\n",
              "      background-color: #434B5C;\n",
              "      box-shadow: 0px 1px 3px 1px rgba(0, 0, 0, 0.15);\n",
              "      filter: drop-shadow(0px 1px 2px rgba(0, 0, 0, 0.3));\n",
              "      fill: #FFFFFF;\n",
              "    }\n",
              "  </style>\n",
              "\n",
              "    <script>\n",
              "      const buttonEl =\n",
              "        document.querySelector('#df-6146c1bf-8582-4078-85de-1ef3014e9c12 button.colab-df-convert');\n",
              "      buttonEl.style.display =\n",
              "        google.colab.kernel.accessAllowed ? 'block' : 'none';\n",
              "\n",
              "      async function convertToInteractive(key) {\n",
              "        const element = document.querySelector('#df-6146c1bf-8582-4078-85de-1ef3014e9c12');\n",
              "        const dataTable =\n",
              "          await google.colab.kernel.invokeFunction('convertToInteractive',\n",
              "                                                    [key], {});\n",
              "        if (!dataTable) return;\n",
              "\n",
              "        const docLinkHtml = 'Like what you see? Visit the ' +\n",
              "          '<a target=\"_blank\" href=https://colab.research.google.com/notebooks/data_table.ipynb>data table notebook</a>'\n",
              "          + ' to learn more about interactive tables.';\n",
              "        element.innerHTML = '';\n",
              "        dataTable['output_type'] = 'display_data';\n",
              "        await google.colab.output.renderOutput(dataTable, element);\n",
              "        const docLink = document.createElement('div');\n",
              "        docLink.innerHTML = docLinkHtml;\n",
              "        element.appendChild(docLink);\n",
              "      }\n",
              "    </script>\n",
              "  </div>\n",
              "\n",
              "\n",
              "<div id=\"df-26aede31-3955-43bc-b191-5f5cc1cb2edc\">\n",
              "  <button class=\"colab-df-quickchart\" onclick=\"quickchart('df-26aede31-3955-43bc-b191-5f5cc1cb2edc')\"\n",
              "            title=\"Suggest charts\"\n",
              "            style=\"display:none;\">\n",
              "\n",
              "<svg xmlns=\"http://www.w3.org/2000/svg\" height=\"24px\"viewBox=\"0 0 24 24\"\n",
              "     width=\"24px\">\n",
              "    <g>\n",
              "        <path d=\"M19 3H5c-1.1 0-2 .9-2 2v14c0 1.1.9 2 2 2h14c1.1 0 2-.9 2-2V5c0-1.1-.9-2-2-2zM9 17H7v-7h2v7zm4 0h-2V7h2v10zm4 0h-2v-4h2v4z\"/>\n",
              "    </g>\n",
              "</svg>\n",
              "  </button>\n",
              "\n",
              "<style>\n",
              "  .colab-df-quickchart {\n",
              "      --bg-color: #E8F0FE;\n",
              "      --fill-color: #1967D2;\n",
              "      --hover-bg-color: #E2EBFA;\n",
              "      --hover-fill-color: #174EA6;\n",
              "      --disabled-fill-color: #AAA;\n",
              "      --disabled-bg-color: #DDD;\n",
              "  }\n",
              "\n",
              "  [theme=dark] .colab-df-quickchart {\n",
              "      --bg-color: #3B4455;\n",
              "      --fill-color: #D2E3FC;\n",
              "      --hover-bg-color: #434B5C;\n",
              "      --hover-fill-color: #FFFFFF;\n",
              "      --disabled-bg-color: #3B4455;\n",
              "      --disabled-fill-color: #666;\n",
              "  }\n",
              "\n",
              "  .colab-df-quickchart {\n",
              "    background-color: var(--bg-color);\n",
              "    border: none;\n",
              "    border-radius: 50%;\n",
              "    cursor: pointer;\n",
              "    display: none;\n",
              "    fill: var(--fill-color);\n",
              "    height: 32px;\n",
              "    padding: 0;\n",
              "    width: 32px;\n",
              "  }\n",
              "\n",
              "  .colab-df-quickchart:hover {\n",
              "    background-color: var(--hover-bg-color);\n",
              "    box-shadow: 0 1px 2px rgba(60, 64, 67, 0.3), 0 1px 3px 1px rgba(60, 64, 67, 0.15);\n",
              "    fill: var(--button-hover-fill-color);\n",
              "  }\n",
              "\n",
              "  .colab-df-quickchart-complete:disabled,\n",
              "  .colab-df-quickchart-complete:disabled:hover {\n",
              "    background-color: var(--disabled-bg-color);\n",
              "    fill: var(--disabled-fill-color);\n",
              "    box-shadow: none;\n",
              "  }\n",
              "\n",
              "  .colab-df-spinner {\n",
              "    border: 2px solid var(--fill-color);\n",
              "    border-color: transparent;\n",
              "    border-bottom-color: var(--fill-color);\n",
              "    animation:\n",
              "      spin 1s steps(1) infinite;\n",
              "  }\n",
              "\n",
              "  @keyframes spin {\n",
              "    0% {\n",
              "      border-color: transparent;\n",
              "      border-bottom-color: var(--fill-color);\n",
              "      border-left-color: var(--fill-color);\n",
              "    }\n",
              "    20% {\n",
              "      border-color: transparent;\n",
              "      border-left-color: var(--fill-color);\n",
              "      border-top-color: var(--fill-color);\n",
              "    }\n",
              "    30% {\n",
              "      border-color: transparent;\n",
              "      border-left-color: var(--fill-color);\n",
              "      border-top-color: var(--fill-color);\n",
              "      border-right-color: var(--fill-color);\n",
              "    }\n",
              "    40% {\n",
              "      border-color: transparent;\n",
              "      border-right-color: var(--fill-color);\n",
              "      border-top-color: var(--fill-color);\n",
              "    }\n",
              "    60% {\n",
              "      border-color: transparent;\n",
              "      border-right-color: var(--fill-color);\n",
              "    }\n",
              "    80% {\n",
              "      border-color: transparent;\n",
              "      border-right-color: var(--fill-color);\n",
              "      border-bottom-color: var(--fill-color);\n",
              "    }\n",
              "    90% {\n",
              "      border-color: transparent;\n",
              "      border-bottom-color: var(--fill-color);\n",
              "    }\n",
              "  }\n",
              "</style>\n",
              "\n",
              "  <script>\n",
              "    async function quickchart(key) {\n",
              "      const quickchartButtonEl =\n",
              "        document.querySelector('#' + key + ' button');\n",
              "      quickchartButtonEl.disabled = true;  // To prevent multiple clicks.\n",
              "      quickchartButtonEl.classList.add('colab-df-spinner');\n",
              "      try {\n",
              "        const charts = await google.colab.kernel.invokeFunction(\n",
              "            'suggestCharts', [key], {});\n",
              "      } catch (error) {\n",
              "        console.error('Error during call to suggestCharts:', error);\n",
              "      }\n",
              "      quickchartButtonEl.classList.remove('colab-df-spinner');\n",
              "      quickchartButtonEl.classList.add('colab-df-quickchart-complete');\n",
              "    }\n",
              "    (() => {\n",
              "      let quickchartButtonEl =\n",
              "        document.querySelector('#df-26aede31-3955-43bc-b191-5f5cc1cb2edc button');\n",
              "      quickchartButtonEl.style.display =\n",
              "        google.colab.kernel.accessAllowed ? 'block' : 'none';\n",
              "    })();\n",
              "  </script>\n",
              "</div>\n",
              "\n",
              "  <div id=\"id_9a472f11-3fcf-4167-a6b4-8cf12c783d9f\">\n",
              "    <style>\n",
              "      .colab-df-generate {\n",
              "        background-color: #E8F0FE;\n",
              "        border: none;\n",
              "        border-radius: 50%;\n",
              "        cursor: pointer;\n",
              "        display: none;\n",
              "        fill: #1967D2;\n",
              "        height: 32px;\n",
              "        padding: 0 0 0 0;\n",
              "        width: 32px;\n",
              "      }\n",
              "\n",
              "      .colab-df-generate:hover {\n",
              "        background-color: #E2EBFA;\n",
              "        box-shadow: 0px 1px 2px rgba(60, 64, 67, 0.3), 0px 1px 3px 1px rgba(60, 64, 67, 0.15);\n",
              "        fill: #174EA6;\n",
              "      }\n",
              "\n",
              "      [theme=dark] .colab-df-generate {\n",
              "        background-color: #3B4455;\n",
              "        fill: #D2E3FC;\n",
              "      }\n",
              "\n",
              "      [theme=dark] .colab-df-generate:hover {\n",
              "        background-color: #434B5C;\n",
              "        box-shadow: 0px 1px 3px 1px rgba(0, 0, 0, 0.15);\n",
              "        filter: drop-shadow(0px 1px 2px rgba(0, 0, 0, 0.3));\n",
              "        fill: #FFFFFF;\n",
              "      }\n",
              "    </style>\n",
              "    <button class=\"colab-df-generate\" onclick=\"generateWithVariable('statistical_summary')\"\n",
              "            title=\"Generate code using this dataframe.\"\n",
              "            style=\"display:none;\">\n",
              "\n",
              "  <svg xmlns=\"http://www.w3.org/2000/svg\" height=\"24px\"viewBox=\"0 0 24 24\"\n",
              "       width=\"24px\">\n",
              "    <path d=\"M7,19H8.4L18.45,9,17,7.55,7,17.6ZM5,21V16.75L18.45,3.32a2,2,0,0,1,2.83,0l1.4,1.43a1.91,1.91,0,0,1,.58,1.4,1.91,1.91,0,0,1-.58,1.4L9.25,21ZM18.45,9,17,7.55Zm-12,3A5.31,5.31,0,0,0,4.9,8.1,5.31,5.31,0,0,0,1,6.5,5.31,5.31,0,0,0,4.9,4.9,5.31,5.31,0,0,0,6.5,1,5.31,5.31,0,0,0,8.1,4.9,5.31,5.31,0,0,0,12,6.5,5.46,5.46,0,0,0,6.5,12Z\"/>\n",
              "  </svg>\n",
              "    </button>\n",
              "    <script>\n",
              "      (() => {\n",
              "      const buttonEl =\n",
              "        document.querySelector('#id_9a472f11-3fcf-4167-a6b4-8cf12c783d9f button.colab-df-generate');\n",
              "      buttonEl.style.display =\n",
              "        google.colab.kernel.accessAllowed ? 'block' : 'none';\n",
              "\n",
              "      buttonEl.onclick = () => {\n",
              "        google.colab.notebook.generateWithVariable('statistical_summary');\n",
              "      }\n",
              "      })();\n",
              "    </script>\n",
              "  </div>\n",
              "\n",
              "    </div>\n",
              "  </div>\n"
            ],
            "application/vnd.google.colaboratory.intrinsic+json": {
              "type": "dataframe",
              "variable_name": "statistical_summary",
              "summary": "{\n  \"name\": \"statistical_summary\",\n  \"rows\": 8,\n  \"fields\": [\n    {\n      \"column\": \"id\",\n      \"properties\": {\n        \"dtype\": \"number\",\n        \"std\": 331.26770950292183,\n        \"min\": 1.0,\n        \"max\": 920.0,\n        \"num_unique_values\": 6,\n        \"samples\": [\n          920.0,\n          460.5,\n          690.25\n        ],\n        \"semantic_type\": \"\",\n        \"description\": \"\"\n      }\n    },\n    {\n      \"column\": \"age\",\n      \"properties\": {\n        \"dtype\": \"number\",\n        \"std\": 309.3334389931605,\n        \"min\": 9.424685209576857,\n        \"max\": 920.0,\n        \"num_unique_values\": 8,\n        \"samples\": [\n          53.51086956521739,\n          54.0,\n          920.0\n        ],\n        \"semantic_type\": \"\",\n        \"description\": \"\"\n      }\n    },\n    {\n      \"column\": \"trestbps\",\n      \"properties\": {\n        \"dtype\": \"number\",\n        \"std\": 274.94505778449957,\n        \"min\": 0.0,\n        \"max\": 861.0,\n        \"num_unique_values\": 8,\n        \"samples\": [\n          132.13240418118468,\n          130.0,\n          861.0\n        ],\n        \"semantic_type\": \"\",\n        \"description\": \"\"\n      }\n    },\n    {\n      \"column\": \"chol\",\n      \"properties\": {\n        \"dtype\": \"number\",\n        \"std\": 292.2503812409585,\n        \"min\": 0.0,\n        \"max\": 890.0,\n        \"num_unique_values\": 8,\n        \"samples\": [\n          199.13033707865168,\n          223.0,\n          890.0\n        ],\n        \"semantic_type\": \"\",\n        \"description\": \"\"\n      }\n    },\n    {\n      \"column\": \"thalch\",\n      \"properties\": {\n        \"dtype\": \"number\",\n        \"std\": 268.975948988382,\n        \"min\": 25.926276492797594,\n        \"max\": 865.0,\n        \"num_unique_values\": 8,\n        \"samples\": [\n          137.5456647398844,\n          140.0,\n          865.0\n        ],\n        \"semantic_type\": \"\",\n        \"description\": \"\"\n      }\n    },\n    {\n      \"column\": \"oldpeak\",\n      \"properties\": {\n        \"dtype\": \"number\",\n        \"std\": 302.97624420626846,\n        \"min\": -2.6,\n        \"max\": 858.0,\n        \"num_unique_values\": 8,\n        \"samples\": [\n          0.8787878787878788,\n          0.5,\n          858.0\n        ],\n        \"semantic_type\": \"\",\n        \"description\": \"\"\n      }\n    },\n    {\n      \"column\": \"ca\",\n      \"properties\": {\n        \"dtype\": \"number\",\n        \"std\": 108.96902697369576,\n        \"min\": 0.0,\n        \"max\": 309.0,\n        \"num_unique_values\": 6,\n        \"samples\": [\n          309.0,\n          0.6763754045307443,\n          3.0\n        ],\n        \"semantic_type\": \"\",\n        \"description\": \"\"\n      }\n    },\n    {\n      \"column\": \"num\",\n      \"properties\": {\n        \"dtype\": \"number\",\n        \"std\": 324.8100629420021,\n        \"min\": 0.0,\n        \"max\": 920.0,\n        \"num_unique_values\": 7,\n        \"samples\": [\n          920.0,\n          0.9956521739130435,\n          2.0\n        ],\n        \"semantic_type\": \"\",\n        \"description\": \"\"\n      }\n    }\n  ]\n}"
            }
          },
          "metadata": {},
          "execution_count": 27
        }
      ]
    },
    {
      "cell_type": "markdown",
      "source": [
        "The dataset consists of 920 entries, indicating there are 920 patient's records.\n",
        "There are 16 columns in total.\n",
        "These columns are a mix of numerical (int64 and float64) and categorical (object) data types.\n",
        "There are missing values in the dataset, as indicated by the non-null values in each column which we will deal later after exploring different columns just to get a better understanding of the dataset."
      ],
      "metadata": {
        "id": "ygo6VbCb61vK"
      }
    },
    {
      "cell_type": "markdown",
      "source": [
        "**Exploring Different Columns:**"
      ],
      "metadata": {
        "id": "BoRbfo-l7AFt"
      }
    },
    {
      "cell_type": "code",
      "source": [
        "num = df['num'].value_counts()\n",
        "print(num)"
      ],
      "metadata": {
        "colab": {
          "base_uri": "https://localhost:8080/"
        },
        "id": "9ywzZ0nc6vHi",
        "outputId": "e016a822-1e05-49b8-eeb3-043ac9c8853c"
      },
      "execution_count": null,
      "outputs": [
        {
          "output_type": "stream",
          "name": "stdout",
          "text": [
            "0    411\n",
            "1    265\n",
            "2    109\n",
            "3    107\n",
            "4     28\n",
            "Name: num, dtype: int64\n"
          ]
        }
      ]
    },
    {
      "cell_type": "code",
      "source": [
        "# plot\n",
        "plt.figure(figsize=(10,6))\n",
        "sns.countplot(x='num',data=df, palette='Set2')\n",
        "plt.title('Heart Disease Frequency')"
      ],
      "metadata": {
        "colab": {
          "base_uri": "https://localhost:8080/",
          "height": 581
        },
        "id": "LFIfG6Jl7E3w",
        "outputId": "29f5083f-77d4-4676-9c90-17c17757c13e"
      },
      "execution_count": null,
      "outputs": [
        {
          "output_type": "execute_result",
          "data": {
            "text/plain": [
              "Text(0.5, 1.0, 'Heart Disease Frequency')"
            ]
          },
          "metadata": {},
          "execution_count": 29
        },
        {
          "output_type": "display_data",
          "data": {
            "text/plain": [
              "<Figure size 1000x600 with 1 Axes>"
            ],
            "image/png": "[encoded data removed]"
          },
          "metadata": {}
        }
      ]
    },
    {
      "cell_type": "markdown",
      "source": [
        "\n",
        "Observations :\n",
        "\n",
        "The target variable in this dataset is num, which represents the diagnosis of heart disease. The values in this variable and their counts are as follows:\n",
        "\n",
        "0: 411 instances - Likely representing no presence of heart disease.\n",
        "1: 265 instances - Indicating a certain level or type of heart disease.\n",
        "2: 109 instances - Representing a different level or type of heart disease.\n",
        "3: 107 instances - Another level or type of heart disease.\n",
        "4: 28 instances - Yet another level or type of heart disease.\n",
        "It appears that num is not just a binary indicator (presence or absence of heart disease) but rather seems to categorize the disease into different levels or types, with '0' possibly indicating the absence of disease. This understanding is important for modeling, as it suggests that the task could be a multi-class classification problem."
      ],
      "metadata": {
        "id": "g11QrR1X7jP4"
      }
    },
    {
      "cell_type": "markdown",
      "source": [
        " **Age Column**"
      ],
      "metadata": {
        "id": "nde4k2yj7rKV"
      }
    },
    {
      "cell_type": "code",
      "source": [
        "max_age= df['age'].max()\n",
        "min_age= df['age'].min()\n",
        "print(\"Observation: \".upper())\n",
        "print(\"---\")\n",
        "print(f\"Max age of the patient: {max_age}\")\n",
        "print(f'Min age of the patient: {min_age}')\n",
        "print(f\"So, the age of the patient is between {min_age} and {max_age}\")"
      ],
      "metadata": {
        "colab": {
          "base_uri": "https://localhost:8080/"
        },
        "id": "Yq5izR3i7PMg",
        "outputId": "2488963d-4591-43f5-ec05-9e3336d67180"
      },
      "execution_count": null,
      "outputs": [
        {
          "output_type": "stream",
          "name": "stdout",
          "text": [
            "OBSERVATION: \n",
            "---\n",
            "Max age of the patient: 77\n",
            "Min age of the patient: 28\n",
            "So, the age of the patient is between 28 and 77\n"
          ]
        }
      ]
    },
    {
      "cell_type": "code",
      "source": [
        "# plot\n",
        "plt.figure(figsize=(10,6))\n",
        "sns.histplot(df['age'], color='#0cc4a9', bins=50)\n",
        "plt.title('Distribution of Age')"
      ],
      "metadata": {
        "colab": {
          "base_uri": "https://localhost:8080/",
          "height": 581
        },
        "id": "zBJA9a8I7w1G",
        "outputId": "0c44fa89-19fe-4e7d-86b3-4909026ce53c"
      },
      "execution_count": null,
      "outputs": [
        {
          "output_type": "execute_result",
          "data": {
            "text/plain": [
              "Text(0.5, 1.0, 'Distribution of Age')"
            ]
          },
          "metadata": {},
          "execution_count": 31
        },
        {
          "output_type": "display_data",
          "data": {
            "text/plain": [
              "<Figure size 1000x600 with 1 Axes>"
            ],
            "image/png": "[encoded data removed]"
          },
          "metadata": {}
        }
      ]
    },
    {
      "cell_type": "markdown",
      "source": [
        "**CP (chest pain) Column**"
      ],
      "metadata": {
        "id": "VOk9blcd75sq"
      }
    },
    {
      "cell_type": "code",
      "source": [
        "df['cp'].value_counts()"
      ],
      "metadata": {
        "colab": {
          "base_uri": "https://localhost:8080/"
        },
        "id": "Slu6ZSF1711k",
        "outputId": "3efc5d88-6c51-4cb7-d0b0-30c6c791aa32"
      },
      "execution_count": null,
      "outputs": [
        {
          "output_type": "execute_result",
          "data": {
            "text/plain": [
              "asymptomatic       496\n",
              "non-anginal        204\n",
              "atypical angina    174\n",
              "typical angina      46\n",
              "Name: cp, dtype: int64"
            ]
          },
          "metadata": {},
          "execution_count": 32
        }
      ]
    },
    {
      "cell_type": "code",
      "source": [
        "# plot\n",
        "plt.figure(figsize=(10,6))\n",
        "sns.countplot(x='cp',data=df, palette='Set2')\n",
        "plt.title('Chest Pain Type')"
      ],
      "metadata": {
        "colab": {
          "base_uri": "https://localhost:8080/",
          "height": 581
        },
        "id": "3NqiAmNo790f",
        "outputId": "5f07e74e-2916-40ea-a58d-62f55fb571c1"
      },
      "execution_count": null,
      "outputs": [
        {
          "output_type": "execute_result",
          "data": {
            "text/plain": [
              "Text(0.5, 1.0, 'Chest Pain Type')"
            ]
          },
          "metadata": {},
          "execution_count": 33
        },
        {
          "output_type": "display_data",
          "data": {
            "text/plain": [
              "<Figure size 1000x600 with 1 Axes>"
            ],
            "image/png": "[encoded data removed]"
          },
          "metadata": {}
        }
      ]
    },
    {
      "cell_type": "markdown",
      "source": [
        "\n",
        "**Clinical Relevance**\n",
        "\n",
        "Asymptomatic:\n",
        "This indicates the absence of chest pain or discomfort, even in the presence of heart disease. Some individuals with heart disease do not experience the typical chest pain symptoms.\n",
        "\n",
        "Non-Anginal Pain:\n",
        "\n",
        "This refers to chest pain that is not related to heart disease. It might be caused by other factors such as muscular issues, gastrointestinal problems, or other non-cardiac conditions.\n",
        "\n",
        "Atypical Angina:\n",
        "\n",
        "This type of chest pain is similar to typical angina but differs in its characteristics, such as duration, intensity, or triggers. It may not always follow the classic pattern of typical angina.\n",
        "\n",
        "Typical Angina:\n",
        "\n",
        "The most common type of chest pain associated with heart disease, typically triggered by physical activity or stress and relieved by rest or medication like nitroglycerin. It's often described as a feeling of pressure or squeezing in the chest.\n",
        "\n",
        "Each type of chest pain provides valuable information regarding the likelihood and nature of heart disease in a patient."
      ],
      "metadata": {
        "id": "I8ENgDJi8M1U"
      }
    },
    {
      "cell_type": "markdown",
      "source": [
        "**Trestbps (resting blood pressure) Column:**"
      ],
      "metadata": {
        "id": "BJFaXil88cjq"
      }
    },
    {
      "cell_type": "code",
      "source": [
        "max_trestbps = df['trestbps'].max()\n",
        "min_trestbps= df['trestbps'].min()\n",
        "print(\"Observation: \".upper())\n",
        "print(\"---\")\n",
        "print(f\"Max trestbps of the patient: {max_trestbps}\")\n",
        "print(f'Min trestbps of the patient: {min_trestbps}')\n"
      ],
      "metadata": {
        "colab": {
          "base_uri": "https://localhost:8080/"
        },
        "id": "P0Xb5Wd68Cmj",
        "outputId": "2a81bc76-b192-4562-bef9-9315436a2d92"
      },
      "execution_count": null,
      "outputs": [
        {
          "output_type": "stream",
          "name": "stdout",
          "text": [
            "OBSERVATION: \n",
            "---\n",
            "Max trestbps of the patient: 200.0\n",
            "Min trestbps of the patient: 0.0\n"
          ]
        }
      ]
    },
    {
      "cell_type": "code",
      "source": [
        "# plot\n",
        "plt.figure(figsize=(10,6))\n",
        "sns.histplot(df['trestbps'], color='lightcoral')\n",
        "plt.title('Resting Blood Pressure')\n"
      ],
      "metadata": {
        "colab": {
          "base_uri": "https://localhost:8080/",
          "height": 581
        },
        "id": "uqn_hqbX8jVX",
        "outputId": "c91156bf-418b-4580-defe-bbaf3b06cc55"
      },
      "execution_count": null,
      "outputs": [
        {
          "output_type": "execute_result",
          "data": {
            "text/plain": [
              "Text(0.5, 1.0, 'Resting Blood Pressure')"
            ]
          },
          "metadata": {},
          "execution_count": 35
        },
        {
          "output_type": "display_data",
          "data": {
            "text/plain": [
              "<Figure size 1000x600 with 1 Axes>"
            ],
            "image/png": "[encoded data removed]"
          },
          "metadata": {}
        }
      ]
    },
    {
      "cell_type": "markdown",
      "source": [
        "\n",
        "Clinical Relevance:\n",
        "Normal resting blood pressure is typically around 120/80 mmHg. Values significantly higher or lower can indicate health issues. High resting blood pressure (hypertension) is a risk factor for heart disease and other cardiovascular conditions. Low resting blood pressure (hypotension) can also be concerning, though it's less commonly associated with heart disease"
      ],
      "metadata": {
        "id": "0jm5Eb8F8xYI"
      }
    },
    {
      "cell_type": "markdown",
      "source": [
        "**Chol (serum cholesterol) Column:**"
      ],
      "metadata": {
        "id": "9k3sRdQk85os"
      }
    },
    {
      "cell_type": "code",
      "source": [
        "\n",
        "max_chol = df['chol'].max()\n",
        "min_chol= df['chol'].min()\n",
        "print(\"Observation: \".upper())\n",
        "print(\"---\")\n",
        "print(f\"Max Cholestrol of the patient: {max_chol}\")\n",
        "print(f'Min Cholestrol of the patient: {min_chol}')\n"
      ],
      "metadata": {
        "colab": {
          "base_uri": "https://localhost:8080/"
        },
        "id": "IwDud6V583hu",
        "outputId": "68d163ee-9d50-49e2-96be-f015989860da"
      },
      "execution_count": null,
      "outputs": [
        {
          "output_type": "stream",
          "name": "stdout",
          "text": [
            "OBSERVATION: \n",
            "---\n",
            "Max Cholestrol of the patient: 603.0\n",
            "Min Cholestrol of the patient: 0.0\n"
          ]
        }
      ]
    },
    {
      "cell_type": "code",
      "source": [
        "#plot\n",
        "plt.figure(figsize=(10,6))\n",
        "sns.histplot(df['chol'], color='#24403c')\n",
        "plt.title('Cholestrol')"
      ],
      "metadata": {
        "colab": {
          "base_uri": "https://localhost:8080/",
          "height": 581
        },
        "id": "dlbCsIeX8pCF",
        "outputId": "1cc43607-7534-4d44-8b9b-b568cbb7c9f8"
      },
      "execution_count": null,
      "outputs": [
        {
          "output_type": "execute_result",
          "data": {
            "text/plain": [
              "Text(0.5, 1.0, 'Cholestrol')"
            ]
          },
          "metadata": {},
          "execution_count": 38
        },
        {
          "output_type": "display_data",
          "data": {
            "text/plain": [
              "<Figure size 1000x600 with 1 Axes>"
            ],
            "image/png": "[encoded data removed]"
          },
          "metadata": {}
        }
      ]
    },
    {
      "cell_type": "markdown",
      "source": [
        "**Clinical Interpretation:**\n",
        "Normal Levels: Typically, cholesterol levels below 200 mg/dL are considered desirable. Levels between 200 and 239 mg/dL are borderline high, and levels 240 mg/dL and above are considered high.\n",
        "\n",
        "High Cholesterol: Elevated cholesterol levels are a risk factor for heart disease, as they can lead to the buildup of plaques in artery walls (atherosclerosis), restricting blood flow.\n",
        "\n",
        "Low Cholesterol: While less common, very low cholesterol levels may also be a health concern, potentially linked to other medical conditions."
      ],
      "metadata": {
        "id": "jlQi6Nff9PeV"
      }
    },
    {
      "cell_type": "markdown",
      "source": [
        "**Fbs (fasting blood sugar) Column:**"
      ],
      "metadata": {
        "id": "iK8cTXgK9Zz0"
      }
    },
    {
      "cell_type": "code",
      "source": [
        "df['fbs'].value_counts()"
      ],
      "metadata": {
        "colab": {
          "base_uri": "https://localhost:8080/"
        },
        "id": "ubrw0ocv82QR",
        "outputId": "88db3306-1ccc-4a71-bec7-caf8e6225b81"
      },
      "execution_count": null,
      "outputs": [
        {
          "output_type": "execute_result",
          "data": {
            "text/plain": [
              "False    692\n",
              "True     138\n",
              "Name: fbs, dtype: int64"
            ]
          },
          "metadata": {},
          "execution_count": 40
        }
      ]
    },
    {
      "cell_type": "code",
      "source": [
        "\n",
        "# plot\n",
        "plt.figure(figsize=(10,6))\n",
        "sns.countplot(x='fbs',data=df, palette='Set1')\n",
        "plt.title('Fasting Blood Sugar')\n"
      ],
      "metadata": {
        "colab": {
          "base_uri": "https://localhost:8080/",
          "height": 581
        },
        "id": "eoSUSmBb9OSb",
        "outputId": "cbea0b56-66c4-4c3c-c0b9-08db57112d42"
      },
      "execution_count": null,
      "outputs": [
        {
          "output_type": "execute_result",
          "data": {
            "text/plain": [
              "Text(0.5, 1.0, 'Fasting Blood Sugar')"
            ]
          },
          "metadata": {},
          "execution_count": 41
        },
        {
          "output_type": "display_data",
          "data": {
            "text/plain": [
              "<Figure size 1000x600 with 1 Axes>"
            ],
            "image/png": "[encoded data removed]"
          },
          "metadata": {}
        }
      ]
    },
    {
      "cell_type": "markdown",
      "source": [
        "**Clinical Interpretation:**\n",
        "The fbs column, representing fasting blood sugar, is clinically important because a level above 120 mg/dL is often indicative of diabetes, which is a significant risk factor for heart disease. Elevated fasting blood sugar can damage blood vessels and increase the risk of cardiovascular conditions. In the context of heart disease prediction, this variable helps assess the impact of blood sugar levels on heart health.\n",
        "\n",
        "0: Fasting blood sugar is below 120 mg/dL.\n",
        "1: Fasting blood sugar is above 120 mg/dL"
      ],
      "metadata": {
        "id": "hBQMtYSC9mup"
      }
    },
    {
      "cell_type": "markdown",
      "source": [
        "**Restecg (resting electrocardiographic results) Column:**"
      ],
      "metadata": {
        "id": "rYZ5tAsM9tiC"
      }
    },
    {
      "cell_type": "code",
      "source": [
        "df['restecg'].value_counts()"
      ],
      "metadata": {
        "colab": {
          "base_uri": "https://localhost:8080/"
        },
        "id": "0qMuc-d89irW",
        "outputId": "32752ed3-9ffe-437c-85de-2f7fa2539e67"
      },
      "execution_count": null,
      "outputs": [
        {
          "output_type": "execute_result",
          "data": {
            "text/plain": [
              "normal              551\n",
              "lv hypertrophy      188\n",
              "st-t abnormality    179\n",
              "Name: restecg, dtype: int64"
            ]
          },
          "metadata": {},
          "execution_count": 42
        }
      ]
    },
    {
      "cell_type": "code",
      "source": [
        "# plot\n",
        "plt.figure(figsize=(10,6))\n",
        "sns.countplot(x='restecg',data=df, palette='Set1')\n",
        "plt.title('Resting Electrocardiographic Results')"
      ],
      "metadata": {
        "colab": {
          "base_uri": "https://localhost:8080/",
          "height": 581
        },
        "id": "iW_FcYuJ9yOo",
        "outputId": "acf772d7-8311-455f-f694-76373db25760"
      },
      "execution_count": null,
      "outputs": [
        {
          "output_type": "execute_result",
          "data": {
            "text/plain": [
              "Text(0.5, 1.0, 'Resting Electrocardiographic Results')"
            ]
          },
          "metadata": {},
          "execution_count": 43
        },
        {
          "output_type": "display_data",
          "data": {
            "text/plain": [
              "<Figure size 1000x600 with 1 Axes>"
            ],
            "image/png": "[encoded data removed]"
          },
          "metadata": {}
        }
      ]
    },
    {
      "cell_type": "markdown",
      "source": [
        "**Clinical Interpretation:**\n",
        "The restecg column usually includes a few distinct categories, each representing different electrocardiographic results. These typically include:\n",
        "\n",
        "Normal: Indicating no significant abnormalities in the ECG.\n",
        "ST-T Wave Abnormality: Suggesting potential issues with the heart's electrical activity.\n",
        "Left Ventricular Hypertrophy: Indicating enlargement of the heart's left ventricle"
      ],
      "metadata": {
        "id": "3eN69HxT96lQ"
      }
    },
    {
      "cell_type": "markdown",
      "source": [
        " **Thalach (maximum heart rate achieved) Column:**"
      ],
      "metadata": {
        "id": "wztvdRzp-C4k"
      }
    },
    {
      "cell_type": "code",
      "source": [
        "max_thalch = df['thalch'].max()\n",
        "min_thalch= df['thalch'].min()\n",
        "print(\"Observation: \".upper())\n",
        "print(\"---\")\n",
        "print(f\"Max heart rate of the patient: {max_thalch}\")\n",
        "print(f'Min heart rate of the patient: {min_thalch}')"
      ],
      "metadata": {
        "colab": {
          "base_uri": "https://localhost:8080/"
        },
        "id": "Gc7YiWbw93Zz",
        "outputId": "ff817953-dbe4-439c-9267-bce51909d4b9"
      },
      "execution_count": null,
      "outputs": [
        {
          "output_type": "stream",
          "name": "stdout",
          "text": [
            "OBSERVATION: \n",
            "---\n",
            "Max heart rate of the patient: 202.0\n",
            "Min heart rate of the patient: 60.0\n"
          ]
        }
      ]
    },
    {
      "cell_type": "code",
      "source": [
        "# plot\n",
        "plt.figure(figsize=(10,6))\n",
        "sns.histplot(df['thalch'], color='#084299')\n",
        "plt.title('Maximum Heart Rate Achieved')"
      ],
      "metadata": {
        "colab": {
          "base_uri": "https://localhost:8080/",
          "height": 581
        },
        "id": "PVp4XUwd-Ize",
        "outputId": "93cc8e21-025e-426c-f3f2-daf781511c29"
      },
      "execution_count": null,
      "outputs": [
        {
          "output_type": "execute_result",
          "data": {
            "text/plain": [
              "Text(0.5, 1.0, 'Maximum Heart Rate Achieved')"
            ]
          },
          "metadata": {},
          "execution_count": 45
        },
        {
          "output_type": "display_data",
          "data": {
            "text/plain": [
              "<Figure size 1000x600 with 1 Axes>"
            ],
            "image/png": "[encoded data removed]"
          },
          "metadata": {}
        }
      ]
    },
    {
      "cell_type": "markdown",
      "source": [
        "**Observations:**\n",
        "Max Heart Rate (202 bpm): This is a high value, typically reached during intense physical exertion. In a stress test context, it might indicate good exercise tolerance, but if experienced during minimal exertion, it could signal underlying cardiac issues or an abnormal heart response.\n",
        "\n",
        "Min Heart Rate (60 bpm): This is within the normal resting heart rate range for adults (60-100 bpm). A resting rate of 60 bpm generally suggests a healthy heart function, especially if the individual is physically fit."
      ],
      "metadata": {
        "id": "shIerJ_--Rsu"
      }
    },
    {
      "cell_type": "markdown",
      "source": [
        "**Clinical Interpretation:**\n",
        "The maximum heart rate achieved during a stress test can provide insights into the heart's health and functioning. A lower-than-expected maximum heart rate can indicate compromised heart function.\n",
        "\n",
        "A lower maximum heart rate can be associated with a higher risk of cardiac events.\n",
        "\n",
        "Maximum heart rate typically decreases with age, so the thalach values are often considered in the context of the patient's age.\n",
        "\n"
      ],
      "metadata": {
        "id": "iqclvYD2-Yis"
      }
    },
    {
      "cell_type": "markdown",
      "source": [
        "**Exang (exercise-induced angina) Column:**"
      ],
      "metadata": {
        "id": "KpVdeDSz-gx_"
      }
    },
    {
      "cell_type": "code",
      "source": [
        "df['exang'].value_counts()"
      ],
      "metadata": {
        "colab": {
          "base_uri": "https://localhost:8080/"
        },
        "id": "mcW8L901-OgP",
        "outputId": "6bf7d5f1-98e3-4ae5-8909-a8b51ae9d86d"
      },
      "execution_count": null,
      "outputs": [
        {
          "output_type": "execute_result",
          "data": {
            "text/plain": [
              "False    528\n",
              "True     337\n",
              "Name: exang, dtype: int64"
            ]
          },
          "metadata": {},
          "execution_count": 46
        }
      ]
    },
    {
      "cell_type": "code",
      "source": [
        "# plot\n",
        "plt.figure(figsize=(10,6))\n",
        "sns.countplot(x='exang',data=df, palette='Set1')\n",
        "plt.title('Exercise Induced Angina')"
      ],
      "metadata": {
        "colab": {
          "base_uri": "https://localhost:8080/",
          "height": 581
        },
        "id": "ejuGBHwO-kx0",
        "outputId": "1daaff19-0ee4-477f-d9e8-2e85409771a8"
      },
      "execution_count": null,
      "outputs": [
        {
          "output_type": "execute_result",
          "data": {
            "text/plain": [
              "Text(0.5, 1.0, 'Exercise Induced Angina')"
            ]
          },
          "metadata": {},
          "execution_count": 47
        },
        {
          "output_type": "display_data",
          "data": {
            "text/plain": [
              "<Figure size 1000x600 with 1 Axes>"
            ],
            "image/png": "[encoded data removed]"
          },
          "metadata": {}
        }
      ]
    },
    {
      "cell_type": "markdown",
      "source": [
        "**Clinical Interpretation:**\n",
        "Exang represents whether a patient experiences exercise-induced angina (chest pain).\n",
        "\n",
        "Positive (exang = 1): Indicates chest pain during exercise, often a sign of coronary artery disease.\n",
        "\n",
        "Negative (exang = 0): No chest pain with exercise, typically suggesting better heart health."
      ],
      "metadata": {
        "id": "a7XGRk4r-tH5"
      }
    },
    {
      "cell_type": "markdown",
      "source": [
        " **Oldpeak (ST depression induced by exercise relative to rest) Column:**"
      ],
      "metadata": {
        "id": "bGpvEqwt-ybN"
      }
    },
    {
      "cell_type": "code",
      "source": [
        "max_oldpeak= df['oldpeak'].max()\n",
        "min_oldpeak= df['oldpeak'].min()\n",
        "print(\"Observation: \".upper())\n",
        "print(\"---\")\n",
        "print(f\"Max oldpeak of the patient: {max_oldpeak}\")\n",
        "print(f'Min oldpeak of the patient: {min_oldpeak}')"
      ],
      "metadata": {
        "colab": {
          "base_uri": "https://localhost:8080/"
        },
        "id": "5_FxBxco-pMO",
        "outputId": "c044f6c8-9001-4912-969e-d188f47c5486"
      },
      "execution_count": null,
      "outputs": [
        {
          "output_type": "stream",
          "name": "stdout",
          "text": [
            "OBSERVATION: \n",
            "---\n",
            "Max oldpeak of the patient: 6.2\n",
            "Min oldpeak of the patient: -2.6\n"
          ]
        }
      ]
    },
    {
      "cell_type": "code",
      "source": [
        "# plot\n",
        "plt.figure(figsize=(10,6))\n",
        "sns.histplot(df['oldpeak'], color='#f2a154')\n",
        "plt.title('ST Depression Induced by Exercise Relative to Rest')"
      ],
      "metadata": {
        "colab": {
          "base_uri": "https://localhost:8080/",
          "height": 581
        },
        "id": "MyYlxnAD-4n_",
        "outputId": "212fc55c-d4e4-4e9d-a30a-306e1809533d"
      },
      "execution_count": null,
      "outputs": [
        {
          "output_type": "execute_result",
          "data": {
            "text/plain": [
              "Text(0.5, 1.0, 'ST Depression Induced by Exercise Relative to Rest')"
            ]
          },
          "metadata": {},
          "execution_count": 49
        },
        {
          "output_type": "display_data",
          "data": {
            "text/plain": [
              "<Figure size 1000x600 with 1 Axes>"
            ],
            "image/png": "[encoded data removed]"
          },
          "metadata": {}
        }
      ]
    },
    {
      "cell_type": "markdown",
      "source": [
        "**Clinical Interpretation and Insight:**\n",
        "Oldpeak refers to the ST depression induced by exercise relative to rest. It's a significant indicator in stress test results.\n",
        "\n",
        "**Max Oldpeak (6.2)**: This is a very high value for ST depression. Clinically, such a significant ST depression during exercise suggests severe myocardial ischemia, indicating a high likelihood of substantial coronary artery disease. It's an important marker for high cardiovascular risk.\n",
        "\n",
        "**Min Oldpeak (-2.6):** Negative values for ST depression are unusual and atypical. A value of -2.6 might be indicative of measurement error, data entry error, or an unusual ECG pattern. Negative ST depression is not typically associated with exercise-induced cardiac stress, and its clinical significance might require further investigation."
      ],
      "metadata": {
        "id": "eDtziYmI_CTo"
      }
    },
    {
      "cell_type": "markdown",
      "source": [
        "**Slope Column:**"
      ],
      "metadata": {
        "id": "KmpD0u9x_QeS"
      }
    },
    {
      "cell_type": "code",
      "source": [
        "df['slope'].value_counts()"
      ],
      "metadata": {
        "colab": {
          "base_uri": "https://localhost:8080/"
        },
        "id": "Dv0ML9FA-9d4",
        "outputId": "1cabe4a6-a51f-4e39-fa7d-fa80372494bc"
      },
      "execution_count": null,
      "outputs": [
        {
          "output_type": "execute_result",
          "data": {
            "text/plain": [
              "flat           345\n",
              "upsloping      203\n",
              "downsloping     63\n",
              "Name: slope, dtype: int64"
            ]
          },
          "metadata": {},
          "execution_count": 50
        }
      ]
    },
    {
      "cell_type": "markdown",
      "source": [
        "**Clinical Interpretation and Insight:**\n",
        "The slope attribute in the UCI Heart Disease dataset refers to the slope of the peak exercise ST segment, an important indicator in an electrocardiogram (ECG) stress test. The ST segment is analyzed in an ECG to assess how the heart responds to stress or exercise. The three categories you've mentioned—flat, upsloping, and downsloping—have distinct clinical interpretations:\n",
        "\n",
        "Flat (345 cases): May indicate potential heart issues, often requires further investigation.\n",
        "Upsloping (203 cases): Generally considered normal, usually not indicative of significant heart disease.\n",
        "Downsloping (63 cases): Most concerning, often associated with significant coronary artery disease."
      ],
      "metadata": {
        "id": "ZVqAvVbQ_Yxw"
      }
    },
    {
      "cell_type": "markdown",
      "source": [
        "**Ca (number of major vessels) Column:**"
      ],
      "metadata": {
        "id": "fwYzW4wV_eyv"
      }
    },
    {
      "cell_type": "code",
      "source": [
        "df['ca'].value_counts()"
      ],
      "metadata": {
        "colab": {
          "base_uri": "https://localhost:8080/"
        },
        "id": "umgqUl3x_UIQ",
        "outputId": "464efac6-6070-4aa2-99c7-dd865ad7a085"
      },
      "execution_count": null,
      "outputs": [
        {
          "output_type": "execute_result",
          "data": {
            "text/plain": [
              "0.0    181\n",
              "1.0     67\n",
              "2.0     41\n",
              "3.0     20\n",
              "Name: ca, dtype: int64"
            ]
          },
          "metadata": {},
          "execution_count": 51
        }
      ]
    },
    {
      "cell_type": "code",
      "source": [
        "# plot\n",
        "plt.figure(figsize=(10,6))\n",
        "sns.countplot(x='ca',data=df, palette='Set2')\n",
        "plt.title('Number of Major Vessels')"
      ],
      "metadata": {
        "colab": {
          "base_uri": "https://localhost:8080/",
          "height": 581
        },
        "id": "TwWI5FIC_h9B",
        "outputId": "45511445-3882-42af-e0f5-f9b5be7c2117"
      },
      "execution_count": null,
      "outputs": [
        {
          "output_type": "execute_result",
          "data": {
            "text/plain": [
              "Text(0.5, 1.0, 'Number of Major Vessels')"
            ]
          },
          "metadata": {},
          "execution_count": 52
        },
        {
          "output_type": "display_data",
          "data": {
            "text/plain": [
              "<Figure size 1000x600 with 1 Axes>"
            ],
            "image/png": "[encoded data removed]"
          },
          "metadata": {}
        }
      ]
    },
    {
      "cell_type": "markdown",
      "source": [
        "**Clinical Interpretation and Insight:**\n",
        "The ca attribute in the UCI Heart Disease dataset refers to the number of major blood vessels (0 to 4) detected by fluoroscopy to be blocked or narrowed.\n",
        "\n",
        "**0 Blocked Vessels (181 cases)**:\n",
        "\n",
        "This is the most common finding, suggesting that a significant portion of patients do not have major blockages in their coronary arteries. This group is likely at a lower risk for severe coronary artery disease.\n",
        "\n",
        "**1 Blocked Vessel (67 cases)**:\n",
        "\n",
        "A notable number of patients have one major blood vessel affected. This indicates the presence of coronary artery disease, but the risk of heart-related events varies depending on other factors like the specific vessel affected and overall heart health.\n",
        "\n",
        "**2 Blocked Vessels (41 cases)**:\n",
        "\n",
        "Patients with two affected vessels represent a more serious condition, implying a higher degree of coronary artery disease. This group is at an increased risk for heart complications compared to those with fewer affected vessels.\n",
        "\n",
        "3 Blocked Vessels (20 cases):\n",
        "\n",
        "The presence of blockages in three vessels is a serious concern and often indicates advanced coronary artery disease. Patients in this category are at a high risk for significant cardiac events.\n",
        "\n"
      ],
      "metadata": {
        "id": "M3UZq5Xt_ptc"
      }
    },
    {
      "cell_type": "markdown",
      "source": [
        "**Thal (Thalassemia) Column**"
      ],
      "metadata": {
        "id": "dyiGDVBV_2P9"
      }
    },
    {
      "cell_type": "code",
      "source": [
        "df['thal'].value_counts()"
      ],
      "metadata": {
        "colab": {
          "base_uri": "https://localhost:8080/"
        },
        "id": "VLUQvNcN_kyw",
        "outputId": "b1ad43ab-a582-46dc-a73a-e8b451145b40"
      },
      "execution_count": null,
      "outputs": [
        {
          "output_type": "execute_result",
          "data": {
            "text/plain": [
              "normal               196\n",
              "reversable defect    192\n",
              "fixed defect          46\n",
              "Name: thal, dtype: int64"
            ]
          },
          "metadata": {},
          "execution_count": 53
        }
      ]
    },
    {
      "cell_type": "code",
      "source": [
        "# plot\n",
        "plt.figure(figsize=(10,6))\n",
        "sns.countplot(x='thal',data=df, palette='Set2')\n",
        "plt.title('Thal')"
      ],
      "metadata": {
        "colab": {
          "base_uri": "https://localhost:8080/",
          "height": 581
        },
        "id": "CW98_AW8_5cY",
        "outputId": "b4478a73-e986-48d8-d2f3-02414ba299e2"
      },
      "execution_count": null,
      "outputs": [
        {
          "output_type": "execute_result",
          "data": {
            "text/plain": [
              "Text(0.5, 1.0, 'Thal')"
            ]
          },
          "metadata": {},
          "execution_count": 54
        },
        {
          "output_type": "display_data",
          "data": {
            "text/plain": [
              "<Figure size 1000x600 with 1 Axes>"
            ],
            "image/png": "[encoded data removed]"
          },
          "metadata": {}
        }
      ]
    },
    {
      "cell_type": "markdown",
      "source": [
        "**Clinical Interpretation and Insight:**\n",
        "The thal column in the UCI Heart Disease dataset refers to thallium stress test results, which are used to diagnose coronary artery disease and the severity of any heart muscle damage. The three categories in this column are:\n",
        "\n",
        "**Normal:**\n",
        "\n",
        "Indicates a normal blood flow to the heart muscle during exercise and rest, suggesting no significant coronary artery blockages.\n",
        "\n",
        "**Fixed Defect:**\n",
        "\n",
        "This often points to scar tissue from a past heart attack or longstanding blockage, indicating some degree of permanent damage to the heart muscle.\n",
        "\n",
        "**Reversible Defect:**\n",
        "\n",
        "It's often associated with partially blocked coronary arteries, which could lead to serious heart problems if not managed.\n",
        "\n"
      ],
      "metadata": {
        "id": "noYcJo9YAB0c"
      }
    },
    {
      "cell_type": "markdown",
      "source": [
        "**Data Cleaning and Preprocessing**\n",
        "\n",
        "\n"
      ],
      "metadata": {
        "id": "Sew1ZvfFAx-S"
      }
    },
    {
      "cell_type": "markdown",
      "source": [
        "Let's start by checking for missing values in the dataset. Missing values can be problematic for machine learning models, so it's important to identify and address them before training the models."
      ],
      "metadata": {
        "id": "kNy8r2KNBEgW"
      }
    },
    {
      "cell_type": "code",
      "source": [
        "# Let's make a plot to see the missing values\n",
        "plt.figure(figsize=(20,10))\n",
        "sns.heatmap(df.isnull(), yticklabels=False, cbar=False)\n",
        "plt.title('Missing Values')"
      ],
      "metadata": {
        "colab": {
          "base_uri": "https://localhost:8080/",
          "height": 696
        },
        "id": "WlHuAnv1BIi9",
        "outputId": "13cc3b62-d251-44df-ef90-8f07b9a69bbf"
      },
      "execution_count": null,
      "outputs": [
        {
          "output_type": "execute_result",
          "data": {
            "text/plain": [
              "Text(0.5, 1.0, 'Missing Values')"
            ]
          },
          "metadata": {},
          "execution_count": 55
        },
        {
          "output_type": "display_data",
          "data": {
            "text/plain": [
              "<Figure size 2000x1000 with 1 Axes>"
            ],
            "image/png": "[encoded data removed]"
          },
          "metadata": {}
        }
      ]
    },
    {
      "cell_type": "code",
      "source": [
        "round(((df.isnull().sum() / len(df)) * 100).sort_values(ascending=False),2)"
      ],
      "metadata": {
        "colab": {
          "base_uri": "https://localhost:8080/"
        },
        "id": "oF5WBj15BPc3",
        "outputId": "6e535eef-6691-45dc-ddac-8b1e9ab8b857"
      },
      "execution_count": null,
      "outputs": [
        {
          "output_type": "execute_result",
          "data": {
            "text/plain": [
              "ca          66.41\n",
              "thal        52.83\n",
              "slope       33.59\n",
              "fbs          9.78\n",
              "oldpeak      6.74\n",
              "trestbps     6.41\n",
              "thalch       5.98\n",
              "exang        5.98\n",
              "chol         3.26\n",
              "restecg      0.22\n",
              "id           0.00\n",
              "age          0.00\n",
              "sex          0.00\n",
              "dataset      0.00\n",
              "cp           0.00\n",
              "num          0.00\n",
              "dtype: float64"
            ]
          },
          "metadata": {},
          "execution_count": 56
        }
      ]
    },
    {
      "cell_type": "markdown",
      "source": [
        "**Observations:**\n",
        "\n",
        "There are 10 columns with missing values in the dataset.\n",
        "7 of these columns have missing values less than 10%.\n",
        "3 of these columns 'ca', 'thal', and 'slope' have higher numbers of missing values.\n",
        "'ca' having the highest number of missing values (66%).\n",
        "'thal' having the second-highest number of missing values (53%).\n",
        "'slope' having the third-highest number of missing values (34%).\n",
        "Predictive analysis is likely to face challenges due to the substantial levels of incompleteness.So we gotta deal with these missing values.\n",
        "\n",
        "First, Drop the Irrelevant Columns cz There are 13 columns that are relevant for medical parameters (excluding id and dataset), which will be used to predict the target feature num (the intensity of the heart disease)."
      ],
      "metadata": {
        "id": "gT9irwslBUx5"
      }
    },
    {
      "cell_type": "code",
      "source": [
        "df.isnull().sum()[df.isnull().sum() > 0].sort_values(ascending=False)\n",
        "missing_data_cols = df.isnull().sum()[df.isnull().sum() > 0].index.tolist()\n",
        "missing_data_cols"
      ],
      "metadata": {
        "colab": {
          "base_uri": "https://localhost:8080/"
        },
        "id": "HxyYHcyCBg3R",
        "outputId": "31532952-936f-485a-bbfc-7edf285f654d"
      },
      "execution_count": null,
      "outputs": [
        {
          "output_type": "execute_result",
          "data": {
            "text/plain": [
              "['trestbps',\n",
              " 'chol',\n",
              " 'fbs',\n",
              " 'restecg',\n",
              " 'thalch',\n",
              " 'exang',\n",
              " 'oldpeak',\n",
              " 'slope',\n",
              " 'ca',\n",
              " 'thal']"
            ]
          },
          "metadata": {},
          "execution_count": 57
        }
      ]
    },
    {
      "cell_type": "code",
      "source": [
        "categorical_cols = ['thal', 'ca', 'slope', 'exang', 'restecg','fbs', 'cp', 'sex', 'num']\n",
        "bool_cols = ['fbs', 'exang']\n",
        "numeric_cols = ['oldpeak', 'thalch', 'chol', 'trestbps', 'age']"
      ],
      "metadata": {
        "id": "wVRY0mmmBmfo"
      },
      "execution_count": null,
      "outputs": []
    },
    {
      "cell_type": "markdown",
      "source": [
        "**Applying the Random Forest Machine learning method to impute missing values**"
      ],
      "metadata": {
        "id": "7iENYCNsBqDk"
      }
    },
    {
      "cell_type": "code",
      "source": [
        "# define the function to impute the missing values in thal column\n",
        "\n",
        "def impute_categorical_missing_data(passed_col):\n",
        "\n",
        "    df_null = df[df[passed_col].isnull()]\n",
        "    df_not_null = df[df[passed_col].notnull()]\n",
        "\n",
        "    X = df_not_null.drop(passed_col, axis=1)\n",
        "    y = df_not_null[passed_col]\n",
        "\n",
        "    other_missing_cols = [col for col in missing_data_cols if col != passed_col]\n",
        "\n",
        "    label_encoder = LabelEncoder()\n",
        "\n",
        "    for col in X.columns:\n",
        "        if X[col].dtype == 'object' or X[col].dtype == 'category':\n",
        "            X[col] = label_encoder.fit_transform(X[col])\n",
        "\n",
        "    if passed_col in bool_cols:\n",
        "        y = label_encoder.fit_transform(y)\n",
        "\n",
        "    iterative_imputer = IterativeImputer(estimator=RandomForestRegressor(random_state=42), add_indicator=True)\n",
        "\n",
        "    for col in other_missing_cols:\n",
        "        if X[col].isnull().sum() > 0:\n",
        "            col_with_missing_values = X[col].values.reshape(-1, 1)\n",
        "            imputed_values = iterative_imputer.fit_transform(col_with_missing_values)\n",
        "            X[col] = imputed_values[:, 0]\n",
        "        else:\n",
        "            pass\n",
        "\n",
        "    X_train, X_test, y_train, y_test = train_test_split(X, y, test_size=0.2, random_state=42)\n",
        "\n",
        "    rf_classifier = RandomForestClassifier()\n",
        "\n",
        "    rf_classifier.fit(X_train, y_train)\n",
        "\n",
        "    y_pred = rf_classifier.predict(X_test)\n",
        "\n",
        "    acc_score = accuracy_score(y_test, y_pred)\n",
        "\n",
        "    print(\"The feature '\"+ passed_col+ \"' has been imputed with\", round((acc_score * 100), 2), \"accuracy\\n\")\n",
        "\n",
        "    X = df_null.drop(passed_col, axis=1)\n",
        "\n",
        "    for col in X.columns:\n",
        "        if X[col].dtype == 'object' or X[col].dtype == 'category':\n",
        "            X[col] = label_encoder.fit_transform(X[col])\n",
        "\n",
        "    for col in other_missing_cols:\n",
        "        if X[col].isnull().sum() > 0:\n",
        "            col_with_missing_values = X[col].values.reshape(-1, 1)\n",
        "            imputed_values = iterative_imputer.fit_transform(col_with_missing_values)\n",
        "            X[col] = imputed_values[:, 0]\n",
        "        else:\n",
        "            pass\n",
        "\n",
        "    if len(df_null) > 0:\n",
        "        df_null[passed_col] = rf_classifier.predict(X)\n",
        "        if passed_col in bool_cols:\n",
        "            df_null[passed_col] = df_null[passed_col].map({0: False, 1: True})\n",
        "        else:\n",
        "            pass\n",
        "    else:\n",
        "        pass\n",
        "\n",
        "    df_combined = pd.concat([df_not_null, df_null])\n",
        "\n",
        "    return df_combined[passed_col]\n",
        "\n",
        "def impute_continuous_missing_data(passed_col):\n",
        "\n",
        "    df_null = df[df[passed_col].isnull()]\n",
        "    df_not_null = df[df[passed_col].notnull()]\n",
        "\n",
        "    X = df_not_null.drop(passed_col, axis=1)\n",
        "    y = df_not_null[passed_col]\n",
        "\n",
        "    other_missing_cols = [col for col in missing_data_cols if col != passed_col]\n",
        "\n",
        "    label_encoder = LabelEncoder()\n",
        "\n",
        "    for col in X.columns:\n",
        "        if X[col].dtype == 'object' or X[col].dtype == 'category':\n",
        "            X[col] = label_encoder.fit_transform(X[col])\n",
        "\n",
        "    iterative_imputer = IterativeImputer(estimator=RandomForestRegressor(random_state=42), add_indicator=True)\n",
        "\n",
        "    for col in other_missing_cols:\n",
        "        if X[col].isnull().sum() > 0:\n",
        "            col_with_missing_values = X[col].values.reshape(-1, 1)\n",
        "            imputed_values = iterative_imputer.fit_transform(col_with_missing_values)\n",
        "            X[col] = imputed_values[:, 0]\n",
        "        else:\n",
        "            pass\n",
        "\n",
        "    X_train, X_test, y_train, y_test = train_test_split(X, y, test_size=0.2, random_state=42)\n",
        "\n",
        "    rf_regressor = RandomForestRegressor()\n",
        "\n",
        "    rf_regressor.fit(X_train, y_train)\n",
        "\n",
        "    y_pred = rf_regressor.predict(X_test)\n",
        "\n",
        "    print(\"MAE =\", mean_absolute_error(y_test, y_pred), \"\\n\")\n",
        "    print(\"RMSE =\", mean_squared_error(y_test, y_pred, squared=False), \"\\n\")\n",
        "    print(\"R2 =\", r2_score(y_test, y_pred), \"\\n\")\n",
        "\n",
        "    X = df_null.drop(passed_col, axis=1)\n",
        "\n",
        "    for col in X.columns:\n",
        "        if X[col].dtype == 'object' or X[col].dtype == 'category':\n",
        "            X[col] = label_encoder.fit_transform(X[col])\n",
        "\n",
        "    for col in other_missing_cols:\n",
        "        if X[col].isnull().sum() > 0:\n",
        "            col_with_missing_values = X[col].values.reshape(-1, 1)\n",
        "            imputed_values = iterative_imputer.fit_transform(col_with_missing_values)\n",
        "            X[col] = imputed_values[:, 0]\n",
        "        else:\n",
        "            pass\n",
        "\n",
        "    if len(df_null) > 0:\n",
        "        df_null[passed_col] = rf_regressor.predict(X)\n",
        "    else:\n",
        "        pass\n",
        "\n",
        "    df_combined = pd.concat([df_not_null, df_null])\n",
        "\n",
        "    return df_combined[passed_col]"
      ],
      "metadata": {
        "id": "2Z7qAHfPB4lQ"
      },
      "execution_count": null,
      "outputs": []
    },
    {
      "cell_type": "code",
      "source": [
        "df.isnull().sum()[df.isnull().sum() > 0].sort_values(ascending=False)"
      ],
      "metadata": {
        "colab": {
          "base_uri": "https://localhost:8080/"
        },
        "id": "0ADG6NbtB8B-",
        "outputId": "a7e7450b-abb0-4da7-9776-adaae1bfb093"
      },
      "execution_count": null,
      "outputs": [
        {
          "output_type": "execute_result",
          "data": {
            "text/plain": [
              "ca          611\n",
              "thal        486\n",
              "slope       309\n",
              "fbs          90\n",
              "oldpeak      62\n",
              "trestbps     59\n",
              "thalch       55\n",
              "exang        55\n",
              "chol         30\n",
              "restecg       2\n",
              "dtype: int64"
            ]
          },
          "metadata": {},
          "execution_count": 60
        }
      ]
    },
    {
      "cell_type": "markdown",
      "source": [],
      "metadata": {
        "id": "Wbz4aFAlBgl3"
      }
    },
    {
      "cell_type": "code",
      "source": [
        "# remove warning\n",
        "import warnings\n",
        "warnings.filterwarnings('ignore')\n",
        "\n",
        "# impute missing values using our functions\n",
        "for col in missing_data_cols:\n",
        "    print(\"Missing Values\", col, \":\", str(round((df[col].isnull().sum() / len(df)) * 100, 2))+\"%\")\n",
        "    if col in categorical_cols:\n",
        "        df[col] = impute_categorical_missing_data(col)\n",
        "    elif col in numeric_cols:\n",
        "        df[col] = impute_continuous_missing_data(col)\n",
        "    else:\n",
        "        pass"
      ],
      "metadata": {
        "colab": {
          "base_uri": "https://localhost:8080/"
        },
        "id": "Ve8yNYmFB_9Z",
        "outputId": "b8d161e5-5812-4d62-a70c-2c5e6536372d"
      },
      "execution_count": null,
      "outputs": [
        {
          "output_type": "stream",
          "name": "stdout",
          "text": [
            "Missing Values trestbps : 6.41%\n",
            "MAE = 13.090173410404624 \n",
            "\n",
            "RMSE = 17.03151339590564 \n",
            "\n",
            "R2 = 0.09430018690746378 \n",
            "\n",
            "Missing Values chol : 3.26%\n",
            "MAE = 45.36123595505617 \n",
            "\n",
            "RMSE = 64.05101138585215 \n",
            "\n",
            "R2 = 0.6750095276604854 \n",
            "\n",
            "Missing Values fbs : 9.78%\n",
            "The feature 'fbs' has been imputed with 80.12 accuracy\n",
            "\n",
            "Missing Values restecg : 0.22%\n",
            "The feature 'restecg' has been imputed with 61.96 accuracy\n",
            "\n",
            "Missing Values thalch : 5.98%\n",
            "MAE = 16.863526011560694 \n",
            "\n",
            "RMSE = 21.929560973915336 \n",
            "\n",
            "R2 = 0.30072309010478016 \n",
            "\n",
            "Missing Values exang : 5.98%\n",
            "The feature 'exang' has been imputed with 77.46 accuracy\n",
            "\n",
            "Missing Values oldpeak : 6.74%\n",
            "MAE = 0.5611802325581395 \n",
            "\n",
            "RMSE = 0.7857561940650725 \n",
            "\n",
            "R2 = 0.4117884171634839 \n",
            "\n",
            "Missing Values slope : 33.59%\n",
            "The feature 'slope' has been imputed with 67.48 accuracy\n",
            "\n",
            "Missing Values ca : 66.41%\n",
            "The feature 'ca' has been imputed with 64.52 accuracy\n",
            "\n",
            "Missing Values thal : 52.83%\n",
            "The feature 'thal' has been imputed with 72.41 accuracy\n",
            "\n"
          ]
        }
      ]
    },
    {
      "cell_type": "code",
      "source": [
        "round(((df.isnull().sum() / len(df)) * 100).sort_values(ascending=False),2)"
      ],
      "metadata": {
        "colab": {
          "base_uri": "https://localhost:8080/"
        },
        "id": "X97XKExsCF7E",
        "outputId": "07538b2e-51b7-43d7-943e-467d00d8044d"
      },
      "execution_count": null,
      "outputs": [
        {
          "output_type": "execute_result",
          "data": {
            "text/plain": [
              "id          0.0\n",
              "age         0.0\n",
              "sex         0.0\n",
              "dataset     0.0\n",
              "cp          0.0\n",
              "trestbps    0.0\n",
              "chol        0.0\n",
              "fbs         0.0\n",
              "restecg     0.0\n",
              "thalch      0.0\n",
              "exang       0.0\n",
              "oldpeak     0.0\n",
              "slope       0.0\n",
              "ca          0.0\n",
              "thal        0.0\n",
              "num         0.0\n",
              "dtype: float64"
            ]
          },
          "metadata": {},
          "execution_count": 62
        }
      ]
    },
    {
      "cell_type": "markdown",
      "source": [
        "**Why I choose this method?**\n",
        "\n",
        "It is a powerful method for imputing missing values.\n",
        "It is a non-parametric method, which means it does not rely on any assumptions about the distribution of the data.\n",
        "It is a robust method that can handle outliers and nonlinear relationships.\n",
        "It is a fast method that can efficiently handle high-dimensional data.\n",
        "It prevents bias by taking into account all the variables in the dataset."
      ],
      "metadata": {
        "id": "vRGmwSVICNL6"
      }
    },
    {
      "cell_type": "markdown",
      "source": [
        "**Dealing with outliers**"
      ],
      "metadata": {
        "id": "H6Bl2mOyCTQD"
      }
    },
    {
      "cell_type": "code",
      "source": [
        "# create box plots for all numeric columns using for loop and subplot\n",
        "plt.figure(figsize=(20, 20))\n",
        "\n",
        "colors = ['red', 'green', 'blue', 'orange', 'purple']\n",
        "\n",
        "for i, col in enumerate(numeric_cols):\n",
        "    plt.subplot(3, 2, i+1)\n",
        "    sns.boxplot(x=df[col], color=colors[i])\n",
        "    plt.title(col)\n",
        "plt.show()"
      ],
      "metadata": {
        "colab": {
          "base_uri": "https://localhost:8080/",
          "height": 1000
        },
        "id": "5RtS8CeoCYcF",
        "outputId": "64d763b4-4e51-48ac-d732-194809341985"
      },
      "execution_count": null,
      "outputs": [
        {
          "output_type": "display_data",
          "data": {
            "text/plain": [
              "<Figure size 2000x2000 with 5 Axes>"
            ],
            "image/png": "[encoded data removed]"
          },
          "metadata": {}
        }
      ]
    },
    {
      "cell_type": "code",
      "source": [
        "fig = px.box(data_frame=df, y='age')\n",
        "fig.show()\n",
        "\n",
        "fig = px.box(data_frame=df, y='trestbps')\n",
        "fig.show()\n",
        "\n",
        "fig = px.box(data_frame=df, y='chol')\n",
        "fig.show()\n",
        "\n",
        "fig = px.box(data_frame=df, y='thalch')\n",
        "fig.show()\n",
        "\n",
        "fig = px.box(data_frame=df, y='oldpeak')\n",
        "fig.show()"
      ],
      "metadata": {
        "colab": {
          "base_uri": "https://localhost:8080/",
          "height": 1000
        },
        "id": "NshyxijtCdOr",
        "outputId": "1b003540-493f-427f-cdaf-9670cf5916c4"
      },
      "execution_count": null,
      "outputs": [
        {
          "output_type": "display_data",
          "data": {
            "text/html": [
              "<html>\n",
              "<head><meta charset=\"utf-8\" /></head>\n",
              "<body>\n",
              "    <div>            <script src=\"https://cdnjs.cloudflare.com/ajax/libs/mathjax/2.7.5/MathJax.js?config=TeX-AMS-MML_SVG\"></script><script type=\"text/javascript\">if (window.MathJax && window.MathJax.Hub && window.MathJax.Hub.Config) {window.MathJax.Hub.Config({SVG: {font: \"STIX-Web\"}});}</script>                <script type=\"text/javascript\">window.PlotlyConfig = {MathJaxConfig: 'local'};</script>\n",
              "        <script charset=\"utf-8\" src=\"https://cdn.plot.ly/plotly-2.24.1.min.js\"></script>                <div id=\"39e288b5-2bff-4980-8c9e-e40afed60cad\" class=\"plotly-graph-div\" style=\"height:525px; width:100%;\"></div>            <script type=\"text/javascript\">                                    window.PLOTLYENV=window.PLOTLYENV || {};                                    if (document.getElementById(\"39e288b5-2bff-4980-8c9e-e40afed60cad\")) {                    Plotly.newPlot(                        \"39e288b5-2bff-4980-8c9e-e40afed60cad\",                        [{\"alignmentgroup\":\"True\",\"hovertemplate\":\"age=%{y}\\u003cextra\\u003e\\u003c\\u002fextra\\u003e\",\"legendgroup\":\"\",\"marker\":{\"color\":\"#636efa\"},\"name\":\"\",\"notched\":false,\"offsetgroup\":\"\",\"orientation\":\"v\",\"showlegend\":false,\"x0\":\" \",\"xaxis\":\"x\",\"y\":[63,67,67,37,41,56,62,57,63,53,57,56,56,44,52,57,48,54,48,49,64,58,58,58,60,50,58,66,43,40,69,60,64,59,44,42,43,57,55,61,65,40,71,59,61,58,51,50,65,53,41,65,44,44,60,54,50,41,54,51,51,46,58,54,54,60,60,54,59,46,65,67,62,65,44,65,60,51,48,58,45,53,39,68,52,44,47,53,53,51,66,62,62,44,63,52,59,60,52,48,45,34,57,71,49,54,59,57,61,39,61,56,52,43,62,41,58,35,63,65,48,63,51,55,65,45,56,54,44,62,54,51,29,51,43,55,70,62,35,51,59,59,52,64,58,47,57,41,45,60,52,42,67,55,64,70,51,58,60,68,46,77,54,58,48,57,52,54,35,45,70,53,59,62,64,57,52,56,43,53,48,56,42,59,60,63,42,66,54,69,50,51,43,62,68,67,69,45,50,59,50,64,57,64,43,45,58,50,55,62,37,38,41,66,52,56,46,46,64,59,41,54,39,53,63,34,47,67,54,66,52,55,49,74,54,54,56,46,49,42,41,41,49,61,60,67,58,47,52,62,57,58,64,51,43,42,67,76,70,57,44,58,60,44,61,42,52,59,40,42,61,66,46,71,59,64,66,39,57,58,57,47,55,35,61,58,58,58,56,56,67,55,44,63,63,41,59,57,45,68,57,57,38,28,29,29,30,31,32,32,32,33,34,34,34,35,35,35,35,36,36,36,36,37,37,37,37,37,37,37,38,38,38,39,39,39,39,39,39,39,39,39,39,40,40,40,40,40,41,41,41,41,41,41,41,42,42,42,42,42,42,42,43,43,43,43,43,43,43,43,44,44,44,44,45,45,45,45,45,45,45,46,46,46,46,46,46,46,47,47,47,47,47,48,48,48,48,48,48,48,48,48,48,48,49,49,49,49,49,49,49,49,50,50,50,50,50,50,50,51,51,51,51,51,51,51,52,52,52,52,52,52,52,52,53,53,53,53,53,53,53,53,53,54,54,54,54,54,54,54,54,54,54,54,54,54,54,54,54,55,55,55,55,55,55,55,55,55,55,56,56,56,56,56,57,57,57,58,58,58,58,59,59,59,59,59,60,61,61,62,62,31,33,34,35,36,37,38,38,38,40,41,41,43,46,46,46,47,47,48,48,48,49,49,49,50,50,51,52,54,54,55,57,58,59,60,63,65,32,38,39,40,43,45,46,46,48,48,48,48,50,52,52,53,54,54,54,54,54,55,56,57,58,58,41,43,44,44,46,47,48,49,49,51,52,52,52,52,53,53,54,55,55,55,56,56,56,58,59,59,65,66,41,43,44,47,47,49,49,50,50,52,52,54,56,58,65,32,34,35,36,38,38,38,38,38,38,40,41,42,42,43,43,43,45,46,46,47,47,47,47,48,50,50,50,50,51,51,51,51,51,51,51,52,52,52,52,53,53,53,53,53,53,53,53,54,54,54,55,55,55,55,56,56,56,56,56,56,56,56,57,57,57,57,57,57,58,58,58,59,59,59,59,59,60,60,60,60,60,60,61,61,61,61,61,61,61,61,61,62,62,62,62,62,62,62,63,63,63,63,63,64,64,64,65,65,65,65,66,66,67,68,68,69,69,70,70,72,73,74,63,44,60,55,66,66,65,60,60,60,56,59,62,63,57,62,63,46,63,60,58,64,63,74,52,69,51,60,56,55,54,77,63,55,52,64,60,60,58,59,61,40,61,41,57,63,59,51,59,42,55,63,62,56,53,68,53,60,62,59,51,61,57,56,58,69,67,58,65,63,55,57,65,54,72,75,49,51,60,64,58,61,67,62,65,63,69,51,62,55,75,40,67,58,60,63,35,62,43,63,68,65,48,63,64,61,50,59,55,45,65,61,49,72,50,64,55,63,59,56,62,74,54,57,62,76,54,70,61,48,48,61,66,68,55,62,71,74,53,58,75,56,58,64,54,54,59,55,57,61,41,71,38,55,56,69,64,72,69,56,62,67,57,69,51,48,69,69,64,57,53,37,67,74,63,58,61,64,58,60,57,55,55,56,57,61,61,58,74,68,51,62,53,62,46,54,62,55,58,62],\"y0\":\" \",\"yaxis\":\"y\",\"type\":\"box\"}],                        {\"template\":{\"data\":{\"histogram2dcontour\":[{\"type\":\"histogram2dcontour\",\"colorbar\":{\"outlinewidth\":0,\"ticks\":\"\"},\"colorscale\":[[0.0,\"#0d0887\"],[0.1111111111111111,\"#46039f\"],[0.2222222222222222,\"#7201a8\"],[0.3333333333333333,\"#9c179e\"],[0.4444444444444444,\"#bd3786\"],[0.5555555555555556,\"#d8576b\"],[0.6666666666666666,\"#ed7953\"],[0.7777777777777778,\"#fb9f3a\"],[0.8888888888888888,\"#fdca26\"],[1.0,\"#f0f921\"]]}],\"choropleth\":[{\"type\":\"choropleth\",\"colorbar\":{\"outlinewidth\":0,\"ticks\":\"\"}}],\"histogram2d\":[{\"type\":\"histogram2d\",\"colorbar\":{\"outlinewidth\":0,\"ticks\":\"\"},\"colorscale\":[[0.0,\"#0d0887\"],[0.1111111111111111,\"#46039f\"],[0.2222222222222222,\"#7201a8\"],[0.3333333333333333,\"#9c179e\"],[0.4444444444444444,\"#bd3786\"],[0.5555555555555556,\"#d8576b\"],[0.6666666666666666,\"#ed7953\"],[0.7777777777777778,\"#fb9f3a\"],[0.8888888888888888,\"#fdca26\"],[1.0,\"#f0f921\"]]}],\"heatmap\":[{\"type\":\"heatmap\",\"colorbar\":{\"outlinewidth\":0,\"ticks\":\"\"},\"colorscale\":[[0.0,\"#0d0887\"],[0.1111111111111111,\"#46039f\"],[0.2222222222222222,\"#7201a8\"],[0.3333333333333333,\"#9c179e\"],[0.4444444444444444,\"#bd3786\"],[0.5555555555555556,\"#d8576b\"],[0.6666666666666666,\"#ed7953\"],[0.7777777777777778,\"#fb9f3a\"],[0.8888888888888888,\"#fdca26\"],[1.0,\"#f0f921\"]]}],\"heatmapgl\":[{\"type\":\"heatmapgl\",\"colorbar\":{\"outlinewidth\":0,\"ticks\":\"\"},\"colorscale\":[[0.0,\"#0d0887\"],[0.1111111111111111,\"#46039f\"],[0.2222222222222222,\"#7201a8\"],[0.3333333333333333,\"#9c179e\"],[0.4444444444444444,\"#bd3786\"],[0.5555555555555556,\"#d8576b\"],[0.6666666666666666,\"#ed7953\"],[0.7777777777777778,\"#fb9f3a\"],[0.8888888888888888,\"#fdca26\"],[1.0,\"#f0f921\"]]}],\"contourcarpet\":[{\"type\":\"contourcarpet\",\"colorbar\":{\"outlinewidth\":0,\"ticks\":\"\"}}],\"contour\":[{\"type\":\"contour\",\"colorbar\":{\"outlinewidth\":0,\"ticks\":\"\"},\"colorscale\":[[0.0,\"#0d0887\"],[0.1111111111111111,\"#46039f\"],[0.2222222222222222,\"#7201a8\"],[0.3333333333333333,\"#9c179e\"],[0.4444444444444444,\"#bd3786\"],[0.5555555555555556,\"#d8576b\"],[0.6666666666666666,\"#ed7953\"],[0.7777777777777778,\"#fb9f3a\"],[0.8888888888888888,\"#fdca26\"],[1.0,\"#f0f921\"]]}],\"surface\":[{\"type\":\"surface\",\"colorbar\":{\"outlinewidth\":0,\"ticks\":\"\"},\"colorscale\":[[0.0,\"#0d0887\"],[0.1111111111111111,\"#46039f\"],[0.2222222222222222,\"#7201a8\"],[0.3333333333333333,\"#9c179e\"],[0.4444444444444444,\"#bd3786\"],[0.5555555555555556,\"#d8576b\"],[0.6666666666666666,\"#ed7953\"],[0.7777777777777778,\"#fb9f3a\"],[0.8888888888888888,\"#fdca26\"],[1.0,\"#f0f921\"]]}],\"mesh3d\":[{\"type\":\"mesh3d\",\"colorbar\":{\"outlinewidth\":0,\"ticks\":\"\"}}],\"scatter\":[{\"fillpattern\":{\"fillmode\":\"overlay\",\"size\":10,\"solidity\":0.2},\"type\":\"scatter\"}],\"parcoords\":[{\"type\":\"parcoords\",\"line\":{\"colorbar\":{\"outlinewidth\":0,\"ticks\":\"\"}}}],\"scatterpolargl\":[{\"type\":\"scatterpolargl\",\"marker\":{\"colorbar\":{\"outlinewidth\":0,\"ticks\":\"\"}}}],\"bar\":[{\"error_x\":{\"color\":\"#2a3f5f\"},\"error_y\":{\"color\":\"#2a3f5f\"},\"marker\":{\"line\":{\"color\":\"#E5ECF6\",\"width\":0.5},\"pattern\":{\"fillmode\":\"overlay\",\"size\":10,\"solidity\":0.2}},\"type\":\"bar\"}],\"scattergeo\":[{\"type\":\"scattergeo\",\"marker\":{\"colorbar\":{\"outlinewidth\":0,\"ticks\":\"\"}}}],\"scatterpolar\":[{\"type\":\"scatterpolar\",\"marker\":{\"colorbar\":{\"outlinewidth\":0,\"ticks\":\"\"}}}],\"histogram\":[{\"marker\":{\"pattern\":{\"fillmode\":\"overlay\",\"size\":10,\"solidity\":0.2}},\"type\":\"histogram\"}],\"scattergl\":[{\"type\":\"scattergl\",\"marker\":{\"colorbar\":{\"outlinewidth\":0,\"ticks\":\"\"}}}],\"scatter3d\":[{\"type\":\"scatter3d\",\"line\":{\"colorbar\":{\"outlinewidth\":0,\"ticks\":\"\"}},\"marker\":{\"colorbar\":{\"outlinewidth\":0,\"ticks\":\"\"}}}],\"scattermapbox\":[{\"type\":\"scattermapbox\",\"marker\":{\"colorbar\":{\"outlinewidth\":0,\"ticks\":\"\"}}}],\"scatterternary\":[{\"type\":\"scatterternary\",\"marker\":{\"colorbar\":{\"outlinewidth\":0,\"ticks\":\"\"}}}],\"scattercarpet\":[{\"type\":\"scattercarpet\",\"marker\":{\"colorbar\":{\"outlinewidth\":0,\"ticks\":\"\"}}}],\"carpet\":[{\"aaxis\":{\"endlinecolor\":\"#2a3f5f\",\"gridcolor\":\"white\",\"linecolor\":\"white\",\"minorgridcolor\":\"white\",\"startlinecolor\":\"#2a3f5f\"},\"baxis\":{\"endlinecolor\":\"#2a3f5f\",\"gridcolor\":\"white\",\"linecolor\":\"white\",\"minorgridcolor\":\"white\",\"startlinecolor\":\"#2a3f5f\"},\"type\":\"carpet\"}],\"table\":[{\"cells\":{\"fill\":{\"color\":\"#EBF0F8\"},\"line\":{\"color\":\"white\"}},\"header\":{\"fill\":{\"color\":\"#C8D4E3\"},\"line\":{\"color\":\"white\"}},\"type\":\"table\"}],\"barpolar\":[{\"marker\":{\"line\":{\"color\":\"#E5ECF6\",\"width\":0.5},\"pattern\":{\"fillmode\":\"overlay\",\"size\":10,\"solidity\":0.2}},\"type\":\"barpolar\"}],\"pie\":[{\"automargin\":true,\"type\":\"pie\"}]},\"layout\":{\"autotypenumbers\":\"strict\",\"colorway\":[\"#636efa\",\"#EF553B\",\"#00cc96\",\"#ab63fa\",\"#FFA15A\",\"#19d3f3\",\"#FF6692\",\"#B6E880\",\"#FF97FF\",\"#FECB52\"],\"font\":{\"color\":\"#2a3f5f\"},\"hovermode\":\"closest\",\"hoverlabel\":{\"align\":\"left\"},\"paper_bgcolor\":\"white\",\"plot_bgcolor\":\"#E5ECF6\",\"polar\":{\"bgcolor\":\"#E5ECF6\",\"angularaxis\":{\"gridcolor\":\"white\",\"linecolor\":\"white\",\"ticks\":\"\"},\"radialaxis\":{\"gridcolor\":\"white\",\"linecolor\":\"white\",\"ticks\":\"\"}},\"ternary\":{\"bgcolor\":\"#E5ECF6\",\"aaxis\":{\"gridcolor\":\"white\",\"linecolor\":\"white\",\"ticks\":\"\"},\"baxis\":{\"gridcolor\":\"white\",\"linecolor\":\"white\",\"ticks\":\"\"},\"caxis\":{\"gridcolor\":\"white\",\"linecolor\":\"white\",\"ticks\":\"\"}},\"coloraxis\":{\"colorbar\":{\"outlinewidth\":0,\"ticks\":\"\"}},\"colorscale\":{\"sequential\":[[0.0,\"#0d0887\"],[0.1111111111111111,\"#46039f\"],[0.2222222222222222,\"#7201a8\"],[0.3333333333333333,\"#9c179e\"],[0.4444444444444444,\"#bd3786\"],[0.5555555555555556,\"#d8576b\"],[0.6666666666666666,\"#ed7953\"],[0.7777777777777778,\"#fb9f3a\"],[0.8888888888888888,\"#fdca26\"],[1.0,\"#f0f921\"]],\"sequentialminus\":[[0.0,\"#0d0887\"],[0.1111111111111111,\"#46039f\"],[0.2222222222222222,\"#7201a8\"],[0.3333333333333333,\"#9c179e\"],[0.4444444444444444,\"#bd3786\"],[0.5555555555555556,\"#d8576b\"],[0.6666666666666666,\"#ed7953\"],[0.7777777777777778,\"#fb9f3a\"],[0.8888888888888888,\"#fdca26\"],[1.0,\"#f0f921\"]],\"diverging\":[[0,\"#8e0152\"],[0.1,\"#c51b7d\"],[0.2,\"#de77ae\"],[0.3,\"#f1b6da\"],[0.4,\"#fde0ef\"],[0.5,\"#f7f7f7\"],[0.6,\"#e6f5d0\"],[0.7,\"#b8e186\"],[0.8,\"#7fbc41\"],[0.9,\"#4d9221\"],[1,\"#276419\"]]},\"xaxis\":{\"gridcolor\":\"white\",\"linecolor\":\"white\",\"ticks\":\"\",\"title\":{\"standoff\":15},\"zerolinecolor\":\"white\",\"automargin\":true,\"zerolinewidth\":2},\"yaxis\":{\"gridcolor\":\"white\",\"linecolor\":\"white\",\"ticks\":\"\",\"title\":{\"standoff\":15},\"zerolinecolor\":\"white\",\"automargin\":true,\"zerolinewidth\":2},\"scene\":{\"xaxis\":{\"backgroundcolor\":\"#E5ECF6\",\"gridcolor\":\"white\",\"linecolor\":\"white\",\"showbackground\":true,\"ticks\":\"\",\"zerolinecolor\":\"white\",\"gridwidth\":2},\"yaxis\":{\"backgroundcolor\":\"#E5ECF6\",\"gridcolor\":\"white\",\"linecolor\":\"white\",\"showbackground\":true,\"ticks\":\"\",\"zerolinecolor\":\"white\",\"gridwidth\":2},\"zaxis\":{\"backgroundcolor\":\"#E5ECF6\",\"gridcolor\":\"white\",\"linecolor\":\"white\",\"showbackground\":true,\"ticks\":\"\",\"zerolinecolor\":\"white\",\"gridwidth\":2}},\"shapedefaults\":{\"line\":{\"color\":\"#2a3f5f\"}},\"annotationdefaults\":{\"arrowcolor\":\"#2a3f5f\",\"arrowhead\":0,\"arrowwidth\":1},\"geo\":{\"bgcolor\":\"white\",\"landcolor\":\"#E5ECF6\",\"subunitcolor\":\"white\",\"showland\":true,\"showlakes\":true,\"lakecolor\":\"white\"},\"title\":{\"x\":0.05},\"mapbox\":{\"style\":\"light\"}}},\"xaxis\":{\"anchor\":\"y\",\"domain\":[0.0,1.0]},\"yaxis\":{\"anchor\":\"x\",\"domain\":[0.0,1.0],\"title\":{\"text\":\"age\"}},\"legend\":{\"tracegroupgap\":0},\"margin\":{\"t\":60},\"boxmode\":\"group\"},                        {\"responsive\": true}                    ).then(function(){\n",
              "                            \n",
              "var gd = document.getElementById('39e288b5-2bff-4980-8c9e-e40afed60cad');\n",
              "var x = new MutationObserver(function (mutations, observer) {{\n",
              "        var display = window.getComputedStyle(gd).display;\n",
              "        if (!display || display === 'none') {{\n",
              "            console.log([gd, 'removed!']);\n",
              "            Plotly.purge(gd);\n",
              "            observer.disconnect();\n",
              "        }}\n",
              "}});\n",
              "\n",
              "// Listen for the removal of the full notebook cells\n",
              "var notebookContainer = gd.closest('#notebook-container');\n",
              "if (notebookContainer) {{\n",
              "    x.observe(notebookContainer, {childList: true});\n",
              "}}\n",
              "\n",
              "// Listen for the clearing of the current output cell\n",
              "var outputEl = gd.closest('.output');\n",
              "if (outputEl) {{\n",
              "    x.observe(outputEl, {childList: true});\n",
              "}}\n",
              "\n",
              "                        })                };                            </script>        </div>\n",
              "</body>\n",
              "</html>"
            ]
          },
          "metadata": {}
        },
        {
          "output_type": "display_data",
          "data": {
            "text/html": [
              "<html>\n",
              "<head><meta charset=\"utf-8\" /></head>\n",
              "<body>\n",
              "    <div>            <script src=\"https://cdnjs.cloudflare.com/ajax/libs/mathjax/2.7.5/MathJax.js?config=TeX-AMS-MML_SVG\"></script><script type=\"text/javascript\">if (window.MathJax && window.MathJax.Hub && window.MathJax.Hub.Config) {window.MathJax.Hub.Config({SVG: {font: \"STIX-Web\"}});}</script>                <script type=\"text/javascript\">window.PlotlyConfig = {MathJaxConfig: 'local'};</script>\n",
              "        <script charset=\"utf-8\" src=\"https://cdn.plot.ly/plotly-2.24.1.min.js\"></script>                <div id=\"6f3d7a0c-c66a-44de-9666-e688a7b43639\" class=\"plotly-graph-div\" style=\"height:525px; width:100%;\"></div>            <script type=\"text/javascript\">                                    window.PLOTLYENV=window.PLOTLYENV || {};                                    if (document.getElementById(\"6f3d7a0c-c66a-44de-9666-e688a7b43639\")) {                    Plotly.newPlot(                        \"6f3d7a0c-c66a-44de-9666-e688a7b43639\",                        [{\"alignmentgroup\":\"True\",\"hovertemplate\":\"trestbps=%{y}\\u003cextra\\u003e\\u003c\\u002fextra\\u003e\",\"legendgroup\":\"\",\"marker\":{\"color\":\"#636efa\"},\"name\":\"\",\"notched\":false,\"offsetgroup\":\"\",\"orientation\":\"v\",\"showlegend\":false,\"x0\":\" \",\"xaxis\":\"x\",\"y\":[145.0,160.0,120.0,130.0,130.0,120.0,140.0,120.0,130.0,140.0,140.0,140.0,130.0,120.0,172.0,150.0,110.0,140.0,130.0,130.0,110.0,150.0,120.0,132.0,130.0,120.0,120.0,150.0,150.0,110.0,140.0,117.0,140.0,135.0,130.0,140.0,120.0,150.0,132.0,150.0,150.0,140.0,160.0,150.0,130.0,112.0,110.0,150.0,140.0,130.0,105.0,120.0,112.0,130.0,130.0,124.0,140.0,110.0,125.0,125.0,130.0,142.0,128.0,135.0,120.0,145.0,140.0,150.0,170.0,150.0,155.0,125.0,120.0,110.0,110.0,160.0,125.0,140.0,130.0,150.0,104.0,130.0,140.0,180.0,120.0,140.0,138.0,128.0,138.0,130.0,120.0,160.0,130.0,108.0,135.0,128.0,110.0,150.0,134.0,122.0,115.0,118.0,128.0,110.0,120.0,108.0,140.0,128.0,120.0,118.0,145.0,125.0,118.0,132.0,130.0,135.0,140.0,138.0,130.0,135.0,130.0,150.0,100.0,140.0,138.0,130.0,200.0,110.0,120.0,124.0,120.0,94.0,130.0,140.0,122.0,135.0,145.0,120.0,120.0,125.0,140.0,170.0,128.0,125.0,105.0,108.0,165.0,112.0,128.0,102.0,152.0,102.0,115.0,160.0,120.0,130.0,140.0,125.0,140.0,118.0,101.0,125.0,110.0,100.0,124.0,132.0,138.0,132.0,126.0,112.0,160.0,142.0,174.0,140.0,145.0,152.0,108.0,132.0,130.0,130.0,124.0,134.0,148.0,178.0,158.0,140.0,120.0,160.0,192.0,140.0,129.0,140.0,132.0,138.0,120.0,100.0,160.0,138.0,120.0,160.0,110.0,180.0,150.0,140.0,110.0,142.0,128.0,144.0,130.0,150.0,120.0,120.0,130.0,178.0,112.0,120.0,105.0,138.0,130.0,138.0,112.0,108.0,94.0,123.0,108.0,118.0,112.0,152.0,110.0,112.0,136.0,180.0,118.0,120.0,160.0,122.0,130.0,120.0,134.0,120.0,110.0,126.0,130.0,134.0,120.0,120.0,100.0,110.0,125.0,128.0,110.0,146.0,128.0,120.0,115.0,120.0,106.0,140.0,156.0,124.0,118.0,136.0,150.0,120.0,138.0,136.0,128.0,126.0,152.0,130.0,140.0,160.0,140.0,112.0,134.0,170.0,146.0,138.0,154.0,130.0,110.0,130.0,128.0,122.0,148.0,114.0,170.0,125.0,130.0,120.0,152.0,132.0,120.0,140.0,124.0,120.0,164.0,140.0,110.0,144.0,130.0,130.0,138.0,130.0,120.0,140.0,170.0,100.0,105.0,110.0,125.0,120.0,130.0,150.0,98.0,120.0,140.0,120.0,150.0,120.0,112.0,130.0,150.0,120.0,130.0,130.0,130.0,130.0,120.0,130.0,120.0,140.0,145.0,110.0,120.0,120.0,120.0,130.0,190.0,120.0,160.0,110.0,130.0,130.0,140.0,130.0,130.0,140.0,110.0,125.0,130.0,120.0,120.0,125.0,112.0,115.0,120.0,120.0,150.0,120.0,160.0,140.0,100.0,120.0,120.0,120.0,120.0,150.0,150.0,142.0,120.0,120.0,130.0,150.0,130.0,180.0,132.0,140.0,135.0,120.0,140.0,130.0,140.0,120.0,150.0,110.0,110.0,180.0,140.0,130.0,110.0,160.0,140.0,133.76,120.0,120.0,120.0,108.0,120.0,150.0,100.0,130.0,140.0,110.0,110.0,110.0,124.0,130.0,100.0,140.0,120.0,140.0,110.0,120.0,120.0,140.0,170.0,140.0,150.0,160.0,110.0,130.0,150.0,125.0,130.0,130.0,120.0,140.0,125.0,130.0,120.0,140.0,160.0,140.0,113.0,140.0,120.0,120.0,140.0,120.0,124.0,130.0,140.0,120.0,120.0,120.0,130.0,140.0,150.0,160.0,120.0,110.0,120.0,120.0,160.0,160.0,120.0,150.0,150.0,110.0,122.0,130.0,120.0,140.0,145.0,110.0,120.0,120.0,140.0,130.0,130.0,130.0,130.0,120.0,130.0,180.0,140.0,130.0,130.0,140.0,135.0,130.0,140.0,130.0,180.0,140.0,120.0,130.0,125.0,160.0,140.0,120.0,100.0,140.0,110.0,120.0,140.0,110.0,120.0,92.0,120.0,110.0,120.0,150.0,110.0,118.0,120.0,140.0,150.0,106.0,120.0,160.0,160.0,115.0,130.0,140.0,145.0,160.0,130.0,125.0,125.0,140.0,140.0,130.0,130.0,100.0,150.0,140.0,118.0,110.0,110.0,150.0,120.0,130.0,120.0,130.0,122.0,160.0,160.0,160.0,130.0,120.0,170.0,120.0,120.0,130.0,130.0,140.0,200.0,140.0,150.0,150.0,160.0,130.0,130.0,120.0,150.0,130.0,140.0,135.0,138.0,130.0,140.0,135.0,112.0,130.0,140.0,160.0,145.0,180.0,140.0,140.0,160.0,145.0,120.0,150.0,170.0,136.0,130.0,140.0,170.0,140.0,120.0,140.0,135.0,120.0,160.0,128.0,150.0,140.0,140.0,140.0,160.0,130.0,155.0,180.0,130.0,95.0,115.0,127.44,110.0,105.0,110.0,100.0,115.0,135.0,150.0,95.0,125.0,105.0,145.0,100.0,115.0,140.0,110.0,100.0,115.0,110.0,155.0,110.0,160.0,115.0,160.0,115.0,120.0,145.0,120.0,110.0,120.0,130.0,130.0,140.0,95.0,130.0,135.0,165.0,95.0,120.0,130.0,105.0,160.0,120.0,125.0,130.0,80.0,120.0,130.0,180.0,140.0,115.0,120.0,140.0,120.0,125.0,155.0,115.0,120.0,120.0,125.0,140.0,105.0,110.0,140.0,140.0,160.0,95.0,115.0,130.0,170.0,125.0,110.0,120.0,125.0,135.0,115.0,125.0,130.0,135.0,160.0,160.0,200.0,105.0,110.0,125.0,130.0,130.0,150.0,150.0,160.0,140.0,120.0,120.0,160.0,115.0,115.0,150.0,100.0,140.0,150.0,150.0,185.0,200.0,95.0,110.0,115.0,145.0,155.0,160.0,155.0,150.0,145.0,135.0,145.0,135.0,141.06,115.0,140.0,160.0,160.0,145.0,140.0,130.0,132.0,142.0,110.0,120.0,150.0,180.0,120.0,160.0,126.0,140.0,110.0,138.44,128.0,120.0,170.0,110.0,126.0,152.0,116.0,120.0,130.0,136.91,128.0,130.0,129.37,130.0,120.0,132.16,133.91,124.0,160.0,0.0,122.0,144.0,133.7,120.0,135.52,154.0,120.0,125.0,133.74,104.0,146.07,136.0,122.0,128.0,127.59,134.0,120.0,142.23,152.0,124.0,126.0,138.0,154.0,139.32,138.66,178.0,131.78,110.0,130.0,170.0,126.0,140.0,142.0,120.0,139.93,142.94,110.0,140.0,132.38,136.0,120.0,170.0,130.0,134.72,142.0,142.0,132.0,146.0,160.0,135.0,136.0,130.0,140.0,129.56,158.0,135.57,136.0,106.0,120.0,110.0,136.14,160.0,131.2,112.0,122.0,130.0,150.0,150.0,102.0,96.0,130.0,120.0,144.0,124.0,150.0,126.36,126.23,132.51,134.11,135.35,130.1,135.7,116.0,110.0,125.0,137.1,141.7,150.0,130.0,110.0,136.15,104.0,138.0,170.0,140.0,130.07,132.0,142.0,112.0,140.74,172.0,120.0,139.31,142.43,155.0,150.0,160.0,143.47,139.22,134.0,134.56,135.73,140.0,134.79,144.0,132.13,150.0,130.0,110.0,158.0,128.0,143.6,150.0,160.0,145.29,141.75,149.17,144.6,156.0,150.1,132.22,140.0,122.0,135.33,141.1,180.0,124.0,118.0,140.0,140.0,142.96,100.0,190.0,130.0,160.0,130.0,122.0,135.43,120.0,130.0,130.0,136.27,120.0,150.0,155.0,134.0,114.0,160.0,144.0,158.0,134.0,127.0,139.71,122.0,150.52,120.0],\"y0\":\" \",\"yaxis\":\"y\",\"type\":\"box\"}],                        {\"template\":{\"data\":{\"histogram2dcontour\":[{\"type\":\"histogram2dcontour\",\"colorbar\":{\"outlinewidth\":0,\"ticks\":\"\"},\"colorscale\":[[0.0,\"#0d0887\"],[0.1111111111111111,\"#46039f\"],[0.2222222222222222,\"#7201a8\"],[0.3333333333333333,\"#9c179e\"],[0.4444444444444444,\"#bd3786\"],[0.5555555555555556,\"#d8576b\"],[0.6666666666666666,\"#ed7953\"],[0.7777777777777778,\"#fb9f3a\"],[0.8888888888888888,\"#fdca26\"],[1.0,\"#f0f921\"]]}],\"choropleth\":[{\"type\":\"choropleth\",\"colorbar\":{\"outlinewidth\":0,\"ticks\":\"\"}}],\"histogram2d\":[{\"type\":\"histogram2d\",\"colorbar\":{\"outlinewidth\":0,\"ticks\":\"\"},\"colorscale\":[[0.0,\"#0d0887\"],[0.1111111111111111,\"#46039f\"],[0.2222222222222222,\"#7201a8\"],[0.3333333333333333,\"#9c179e\"],[0.4444444444444444,\"#bd3786\"],[0.5555555555555556,\"#d8576b\"],[0.6666666666666666,\"#ed7953\"],[0.7777777777777778,\"#fb9f3a\"],[0.8888888888888888,\"#fdca26\"],[1.0,\"#f0f921\"]]}],\"heatmap\":[{\"type\":\"heatmap\",\"colorbar\":{\"outlinewidth\":0,\"ticks\":\"\"},\"colorscale\":[[0.0,\"#0d0887\"],[0.1111111111111111,\"#46039f\"],[0.2222222222222222,\"#7201a8\"],[0.3333333333333333,\"#9c179e\"],[0.4444444444444444,\"#bd3786\"],[0.5555555555555556,\"#d8576b\"],[0.6666666666666666,\"#ed7953\"],[0.7777777777777778,\"#fb9f3a\"],[0.8888888888888888,\"#fdca26\"],[1.0,\"#f0f921\"]]}],\"heatmapgl\":[{\"type\":\"heatmapgl\",\"colorbar\":{\"outlinewidth\":0,\"ticks\":\"\"},\"colorscale\":[[0.0,\"#0d0887\"],[0.1111111111111111,\"#46039f\"],[0.2222222222222222,\"#7201a8\"],[0.3333333333333333,\"#9c179e\"],[0.4444444444444444,\"#bd3786\"],[0.5555555555555556,\"#d8576b\"],[0.6666666666666666,\"#ed7953\"],[0.7777777777777778,\"#fb9f3a\"],[0.8888888888888888,\"#fdca26\"],[1.0,\"#f0f921\"]]}],\"contourcarpet\":[{\"type\":\"contourcarpet\",\"colorbar\":{\"outlinewidth\":0,\"ticks\":\"\"}}],\"contour\":[{\"type\":\"contour\",\"colorbar\":{\"outlinewidth\":0,\"ticks\":\"\"},\"colorscale\":[[0.0,\"#0d0887\"],[0.1111111111111111,\"#46039f\"],[0.2222222222222222,\"#7201a8\"],[0.3333333333333333,\"#9c179e\"],[0.4444444444444444,\"#bd3786\"],[0.5555555555555556,\"#d8576b\"],[0.6666666666666666,\"#ed7953\"],[0.7777777777777778,\"#fb9f3a\"],[0.8888888888888888,\"#fdca26\"],[1.0,\"#f0f921\"]]}],\"surface\":[{\"type\":\"surface\",\"colorbar\":{\"outlinewidth\":0,\"ticks\":\"\"},\"colorscale\":[[0.0,\"#0d0887\"],[0.1111111111111111,\"#46039f\"],[0.2222222222222222,\"#7201a8\"],[0.3333333333333333,\"#9c179e\"],[0.4444444444444444,\"#bd3786\"],[0.5555555555555556,\"#d8576b\"],[0.6666666666666666,\"#ed7953\"],[0.7777777777777778,\"#fb9f3a\"],[0.8888888888888888,\"#fdca26\"],[1.0,\"#f0f921\"]]}],\"mesh3d\":[{\"type\":\"mesh3d\",\"colorbar\":{\"outlinewidth\":0,\"ticks\":\"\"}}],\"scatter\":[{\"fillpattern\":{\"fillmode\":\"overlay\",\"size\":10,\"solidity\":0.2},\"type\":\"scatter\"}],\"parcoords\":[{\"type\":\"parcoords\",\"line\":{\"colorbar\":{\"outlinewidth\":0,\"ticks\":\"\"}}}],\"scatterpolargl\":[{\"type\":\"scatterpolargl\",\"marker\":{\"colorbar\":{\"outlinewidth\":0,\"ticks\":\"\"}}}],\"bar\":[{\"error_x\":{\"color\":\"#2a3f5f\"},\"error_y\":{\"color\":\"#2a3f5f\"},\"marker\":{\"line\":{\"color\":\"#E5ECF6\",\"width\":0.5},\"pattern\":{\"fillmode\":\"overlay\",\"size\":10,\"solidity\":0.2}},\"type\":\"bar\"}],\"scattergeo\":[{\"type\":\"scattergeo\",\"marker\":{\"colorbar\":{\"outlinewidth\":0,\"ticks\":\"\"}}}],\"scatterpolar\":[{\"type\":\"scatterpolar\",\"marker\":{\"colorbar\":{\"outlinewidth\":0,\"ticks\":\"\"}}}],\"histogram\":[{\"marker\":{\"pattern\":{\"fillmode\":\"overlay\",\"size\":10,\"solidity\":0.2}},\"type\":\"histogram\"}],\"scattergl\":[{\"type\":\"scattergl\",\"marker\":{\"colorbar\":{\"outlinewidth\":0,\"ticks\":\"\"}}}],\"scatter3d\":[{\"type\":\"scatter3d\",\"line\":{\"colorbar\":{\"outlinewidth\":0,\"ticks\":\"\"}},\"marker\":{\"colorbar\":{\"outlinewidth\":0,\"ticks\":\"\"}}}],\"scattermapbox\":[{\"type\":\"scattermapbox\",\"marker\":{\"colorbar\":{\"outlinewidth\":0,\"ticks\":\"\"}}}],\"scatterternary\":[{\"type\":\"scatterternary\",\"marker\":{\"colorbar\":{\"outlinewidth\":0,\"ticks\":\"\"}}}],\"scattercarpet\":[{\"type\":\"scattercarpet\",\"marker\":{\"colorbar\":{\"outlinewidth\":0,\"ticks\":\"\"}}}],\"carpet\":[{\"aaxis\":{\"endlinecolor\":\"#2a3f5f\",\"gridcolor\":\"white\",\"linecolor\":\"white\",\"minorgridcolor\":\"white\",\"startlinecolor\":\"#2a3f5f\"},\"baxis\":{\"endlinecolor\":\"#2a3f5f\",\"gridcolor\":\"white\",\"linecolor\":\"white\",\"minorgridcolor\":\"white\",\"startlinecolor\":\"#2a3f5f\"},\"type\":\"carpet\"}],\"table\":[{\"cells\":{\"fill\":{\"color\":\"#EBF0F8\"},\"line\":{\"color\":\"white\"}},\"header\":{\"fill\":{\"color\":\"#C8D4E3\"},\"line\":{\"color\":\"white\"}},\"type\":\"table\"}],\"barpolar\":[{\"marker\":{\"line\":{\"color\":\"#E5ECF6\",\"width\":0.5},\"pattern\":{\"fillmode\":\"overlay\",\"size\":10,\"solidity\":0.2}},\"type\":\"barpolar\"}],\"pie\":[{\"automargin\":true,\"type\":\"pie\"}]},\"layout\":{\"autotypenumbers\":\"strict\",\"colorway\":[\"#636efa\",\"#EF553B\",\"#00cc96\",\"#ab63fa\",\"#FFA15A\",\"#19d3f3\",\"#FF6692\",\"#B6E880\",\"#FF97FF\",\"#FECB52\"],\"font\":{\"color\":\"#2a3f5f\"},\"hovermode\":\"closest\",\"hoverlabel\":{\"align\":\"left\"},\"paper_bgcolor\":\"white\",\"plot_bgcolor\":\"#E5ECF6\",\"polar\":{\"bgcolor\":\"#E5ECF6\",\"angularaxis\":{\"gridcolor\":\"white\",\"linecolor\":\"white\",\"ticks\":\"\"},\"radialaxis\":{\"gridcolor\":\"white\",\"linecolor\":\"white\",\"ticks\":\"\"}},\"ternary\":{\"bgcolor\":\"#E5ECF6\",\"aaxis\":{\"gridcolor\":\"white\",\"linecolor\":\"white\",\"ticks\":\"\"},\"baxis\":{\"gridcolor\":\"white\",\"linecolor\":\"white\",\"ticks\":\"\"},\"caxis\":{\"gridcolor\":\"white\",\"linecolor\":\"white\",\"ticks\":\"\"}},\"coloraxis\":{\"colorbar\":{\"outlinewidth\":0,\"ticks\":\"\"}},\"colorscale\":{\"sequential\":[[0.0,\"#0d0887\"],[0.1111111111111111,\"#46039f\"],[0.2222222222222222,\"#7201a8\"],[0.3333333333333333,\"#9c179e\"],[0.4444444444444444,\"#bd3786\"],[0.5555555555555556,\"#d8576b\"],[0.6666666666666666,\"#ed7953\"],[0.7777777777777778,\"#fb9f3a\"],[0.8888888888888888,\"#fdca26\"],[1.0,\"#f0f921\"]],\"sequentialminus\":[[0.0,\"#0d0887\"],[0.1111111111111111,\"#46039f\"],[0.2222222222222222,\"#7201a8\"],[0.3333333333333333,\"#9c179e\"],[0.4444444444444444,\"#bd3786\"],[0.5555555555555556,\"#d8576b\"],[0.6666666666666666,\"#ed7953\"],[0.7777777777777778,\"#fb9f3a\"],[0.8888888888888888,\"#fdca26\"],[1.0,\"#f0f921\"]],\"diverging\":[[0,\"#8e0152\"],[0.1,\"#c51b7d\"],[0.2,\"#de77ae\"],[0.3,\"#f1b6da\"],[0.4,\"#fde0ef\"],[0.5,\"#f7f7f7\"],[0.6,\"#e6f5d0\"],[0.7,\"#b8e186\"],[0.8,\"#7fbc41\"],[0.9,\"#4d9221\"],[1,\"#276419\"]]},\"xaxis\":{\"gridcolor\":\"white\",\"linecolor\":\"white\",\"ticks\":\"\",\"title\":{\"standoff\":15},\"zerolinecolor\":\"white\",\"automargin\":true,\"zerolinewidth\":2},\"yaxis\":{\"gridcolor\":\"white\",\"linecolor\":\"white\",\"ticks\":\"\",\"title\":{\"standoff\":15},\"zerolinecolor\":\"white\",\"automargin\":true,\"zerolinewidth\":2},\"scene\":{\"xaxis\":{\"backgroundcolor\":\"#E5ECF6\",\"gridcolor\":\"white\",\"linecolor\":\"white\",\"showbackground\":true,\"ticks\":\"\",\"zerolinecolor\":\"white\",\"gridwidth\":2},\"yaxis\":{\"backgroundcolor\":\"#E5ECF6\",\"gridcolor\":\"white\",\"linecolor\":\"white\",\"showbackground\":true,\"ticks\":\"\",\"zerolinecolor\":\"white\",\"gridwidth\":2},\"zaxis\":{\"backgroundcolor\":\"#E5ECF6\",\"gridcolor\":\"white\",\"linecolor\":\"white\",\"showbackground\":true,\"ticks\":\"\",\"zerolinecolor\":\"white\",\"gridwidth\":2}},\"shapedefaults\":{\"line\":{\"color\":\"#2a3f5f\"}},\"annotationdefaults\":{\"arrowcolor\":\"#2a3f5f\",\"arrowhead\":0,\"arrowwidth\":1},\"geo\":{\"bgcolor\":\"white\",\"landcolor\":\"#E5ECF6\",\"subunitcolor\":\"white\",\"showland\":true,\"showlakes\":true,\"lakecolor\":\"white\"},\"title\":{\"x\":0.05},\"mapbox\":{\"style\":\"light\"}}},\"xaxis\":{\"anchor\":\"y\",\"domain\":[0.0,1.0]},\"yaxis\":{\"anchor\":\"x\",\"domain\":[0.0,1.0],\"title\":{\"text\":\"trestbps\"}},\"legend\":{\"tracegroupgap\":0},\"margin\":{\"t\":60},\"boxmode\":\"group\"},                        {\"responsive\": true}                    ).then(function(){\n",
              "                            \n",
              "var gd = document.getElementById('6f3d7a0c-c66a-44de-9666-e688a7b43639');\n",
              "var x = new MutationObserver(function (mutations, observer) {{\n",
              "        var display = window.getComputedStyle(gd).display;\n",
              "        if (!display || display === 'none') {{\n",
              "            console.log([gd, 'removed!']);\n",
              "            Plotly.purge(gd);\n",
              "            observer.disconnect();\n",
              "        }}\n",
              "}});\n",
              "\n",
              "// Listen for the removal of the full notebook cells\n",
              "var notebookContainer = gd.closest('#notebook-container');\n",
              "if (notebookContainer) {{\n",
              "    x.observe(notebookContainer, {childList: true});\n",
              "}}\n",
              "\n",
              "// Listen for the clearing of the current output cell\n",
              "var outputEl = gd.closest('.output');\n",
              "if (outputEl) {{\n",
              "    x.observe(outputEl, {childList: true});\n",
              "}}\n",
              "\n",
              "                        })                };                            </script>        </div>\n",
              "</body>\n",
              "</html>"
            ]
          },
          "metadata": {}
        },
        {
          "output_type": "display_data",
          "data": {
            "text/html": [
              "<html>\n",
              "<head><meta charset=\"utf-8\" /></head>\n",
              "<body>\n",
              "    <div>            <script src=\"https://cdnjs.cloudflare.com/ajax/libs/mathjax/2.7.5/MathJax.js?config=TeX-AMS-MML_SVG\"></script><script type=\"text/javascript\">if (window.MathJax && window.MathJax.Hub && window.MathJax.Hub.Config) {window.MathJax.Hub.Config({SVG: {font: \"STIX-Web\"}});}</script>                <script type=\"text/javascript\">window.PlotlyConfig = {MathJaxConfig: 'local'};</script>\n",
              "        <script charset=\"utf-8\" src=\"https://cdn.plot.ly/plotly-2.24.1.min.js\"></script>                <div id=\"61e77bac-f7d2-4067-a60c-5ba82c9412e3\" class=\"plotly-graph-div\" style=\"height:525px; width:100%;\"></div>            <script type=\"text/javascript\">                                    window.PLOTLYENV=window.PLOTLYENV || {};                                    if (document.getElementById(\"61e77bac-f7d2-4067-a60c-5ba82c9412e3\")) {                    Plotly.newPlot(                        \"61e77bac-f7d2-4067-a60c-5ba82c9412e3\",                        [{\"alignmentgroup\":\"True\",\"hovertemplate\":\"chol=%{y}\\u003cextra\\u003e\\u003c\\u002fextra\\u003e\",\"legendgroup\":\"\",\"marker\":{\"color\":\"#636efa\"},\"name\":\"\",\"notched\":false,\"offsetgroup\":\"\",\"orientation\":\"v\",\"showlegend\":false,\"x0\":\" \",\"xaxis\":\"x\",\"y\":[233.0,286.0,229.0,250.0,204.0,236.0,268.0,354.0,254.0,203.0,192.0,294.0,256.0,263.0,199.0,168.0,229.0,239.0,275.0,266.0,211.0,283.0,284.0,224.0,206.0,219.0,340.0,226.0,247.0,167.0,239.0,230.0,335.0,234.0,233.0,226.0,177.0,276.0,353.0,243.0,225.0,199.0,302.0,212.0,330.0,230.0,175.0,243.0,417.0,197.0,198.0,177.0,290.0,219.0,253.0,266.0,233.0,172.0,273.0,213.0,305.0,177.0,216.0,304.0,188.0,282.0,185.0,232.0,326.0,231.0,269.0,254.0,267.0,248.0,197.0,360.0,258.0,308.0,245.0,270.0,208.0,264.0,321.0,274.0,325.0,235.0,257.0,216.0,234.0,256.0,302.0,164.0,231.0,141.0,252.0,255.0,239.0,258.0,201.0,222.0,260.0,182.0,303.0,265.0,188.0,309.0,177.0,229.0,260.0,219.0,307.0,249.0,186.0,341.0,263.0,203.0,211.0,183.0,330.0,254.0,256.0,407.0,222.0,217.0,282.0,234.0,288.0,239.0,220.0,209.0,258.0,227.0,204.0,261.0,213.0,250.0,174.0,281.0,198.0,245.0,221.0,288.0,205.0,309.0,240.0,243.0,289.0,250.0,308.0,318.0,298.0,265.0,564.0,289.0,246.0,322.0,299.0,300.0,293.0,277.0,197.0,304.0,214.0,248.0,255.0,207.0,223.0,288.0,282.0,160.0,269.0,226.0,249.0,394.0,212.0,274.0,233.0,184.0,315.0,246.0,274.0,409.0,244.0,270.0,305.0,195.0,240.0,246.0,283.0,254.0,196.0,298.0,247.0,294.0,211.0,299.0,234.0,236.0,244.0,273.0,254.0,325.0,126.0,313.0,211.0,309.0,259.0,200.0,262.0,244.0,215.0,231.0,214.0,228.0,230.0,193.0,204.0,243.0,303.0,271.0,268.0,267.0,199.0,282.0,269.0,210.0,204.0,277.0,206.0,212.0,196.0,327.0,149.0,269.0,201.0,286.0,283.0,249.0,271.0,295.0,235.0,306.0,269.0,234.0,178.0,237.0,234.0,275.0,212.0,208.0,201.0,218.0,263.0,295.0,303.0,209.0,223.0,197.0,245.0,261.0,242.0,319.0,240.0,226.0,166.0,315.0,204.0,218.0,223.0,180.0,207.0,228.0,311.0,149.0,204.0,227.0,278.0,220.0,232.0,197.0,335.0,253.0,205.0,192.0,203.0,318.0,225.0,220.0,221.0,240.0,212.0,342.0,169.0,187.0,197.0,157.0,176.0,241.0,264.0,193.0,131.0,236.0,175.0,132.0,243.0,238.86,237.0,219.0,198.0,225.0,254.0,298.0,161.0,214.0,220.0,160.0,167.0,308.0,264.0,166.0,340.0,209.0,160.0,260.0,211.0,173.0,283.0,194.0,223.0,315.0,275.0,297.0,292.0,182.0,245.36,200.0,204.0,258.47,241.0,339.0,147.0,273.0,307.0,275.0,289.0,215.0,281.0,226.7,250.0,184.0,245.0,291.0,295.0,269.0,250.0,211.0,196.0,198.0,268.0,228.0,147.0,358.0,223.0,201.0,215.0,249.0,266.0,186.0,194.45,207.0,218.0,184.0,215.0,412.0,237.0,230.19,297.0,224.0,216.96,225.0,224.0,238.0,275.0,230.0,163.0,238.0,240.0,280.0,257.0,227.55,249.0,263.0,276.0,308.0,245.07,284.0,195.0,163.0,254.0,227.0,226.26,245.0,238.0,211.0,213.55,213.12,201.0,207.0,253.0,187.0,297.0,228.73,202.0,328.0,168.0,216.0,209.0,129.0,215.0,194.0,190.0,220.0,200.0,188.0,224.0,179.0,210.0,218.81,272.0,180.0,284.0,100.0,196.0,259.0,468.0,216.0,274.0,226.38,320.0,195.0,260.0,182.0,243.0,221.0,230.0,273.0,253.0,309.0,230.0,312.0,171.0,208.0,238.0,246.0,195.0,305.0,217.0,212.76,365.0,344.0,320.0,394.0,256.0,196.0,326.0,277.0,220.0,270.0,229.0,219.0,184.0,234.75,276.0,85.0,308.0,347.0,260.0,230.0,251.0,179.0,222.0,188.0,287.0,318.0,213.0,231.6,246.0,294.0,292.0,193.0,271.0,270.0,246.0,156.0,257.0,267.0,207.0,196.0,282.0,117.0,466.0,289.0,237.0,247.0,202.0,186.0,277.0,193.0,226.0,263.0,260.0,268.0,180.0,265.0,206.0,288.0,264.0,303.0,225.0,216.0,224.0,201.0,265.0,213.0,338.0,248.0,223.0,306.0,529.0,265.69,280.0,392.0,291.0,219.0,231.0,222.0,275.0,193.0,329.0,355.0,233.0,182.0,274.06,246.0,237.0,242.0,603.0,317.98,198.0,268.0,213.0,255.0,211.0,263.0,172.0,175.0,288.0,290.0,272.0,248.0,214.0,341.0,234.0,160.0,342.0,298.0,404.0,246.0,518.0,285.0,216.0,295.0,292.0,248.0,279.0,230.0,388.0,164.0,312.99,264.0,263.0,259.5,336.0,288.0,491.0,205.0,291.0,212.0,222.0,231.0,341.0,266.0,331.0,294.0,342.0,393.0,275.0,0.0,0.0,0.0,0.0,0.0,0.0,0.0,0.0,0.0,0.0,0.0,0.0,0.0,0.0,0.0,0.0,0.0,0.0,0.0,0.0,0.0,0.0,0.0,0.0,0.0,0.0,0.0,0.0,0.0,0.0,0.0,0.0,0.0,0.0,0.0,0.0,0.0,0.0,0.0,0.0,0.0,0.0,0.0,0.0,0.0,0.0,0.0,0.0,0.0,0.0,0.0,0.0,0.0,0.0,0.0,0.0,0.0,0.0,0.0,0.0,0.0,0.0,0.0,0.0,0.0,0.0,0.0,0.0,0.0,0.0,0.0,0.0,0.0,0.0,0.0,0.0,0.0,0.0,0.0,0.0,0.0,0.0,0.0,0.0,0.0,0.0,0.0,0.0,0.0,0.0,0.0,0.0,0.0,0.0,0.0,0.0,0.0,0.0,0.0,0.0,0.0,0.0,0.0,0.0,0.0,0.0,0.0,0.0,0.0,0.0,0.0,0.0,0.0,0.0,0.0,0.0,0.0,0.0,0.0,0.0,0.0,0.0,0.0,260.0,209.0,218.0,228.0,213.0,0.0,236.0,0.0,0.0,267.0,166.0,0.0,0.0,0.0,0.0,220.0,177.0,236.0,0.0,0.0,0.0,0.0,0.0,0.0,0.0,0.0,0.0,186.0,100.0,228.0,0.0,171.0,230.0,0.0,0.0,0.0,281.0,0.0,203.0,0.0,0.0,0.0,0.0,0.0,277.0,0.0,233.0,0.0,0.0,240.0,0.0,0.0,153.0,224.0,0.0,0.0,0.0,316.0,0.0,0.0,218.0,0.0,311.0,0.0,0.0,0.0,270.0,0.0,0.0,217.0,214.0,214.0,252.0,220.0,214.0,203.0,0.0,339.0,216.0,276.0,458.0,241.0,384.0,297.0,248.0,308.0,208.0,227.0,210.0,245.0,225.0,240.0,0.0,198.0,195.0,267.0,161.0,258.0,0.0,0.0,195.0,235.0,0.0,305.0,223.0,282.0,349.0,262.12,160.0,236.0,312.0,283.0,142.0,211.0,218.0,306.0,186.0,252.0,222.0,0.0,0.0,258.0,202.0,197.0,204.0,251.74,274.0,192.0,298.0,272.0,220.0,200.0,261.0,181.0,260.0,220.0,221.0,216.0,175.0,219.0,310.0,208.0,232.0,273.0,203.0,182.0,274.0,204.0,270.0,292.0,171.0,221.0,289.0,217.0,223.0,254.0,193.0,280.82,210.0,282.0,170.0,369.0,173.0,289.0,262.25,227.98,216.0,271.0,244.0,285.0,243.0,240.0,219.0,237.0,165.0,213.0,287.0,258.0,256.0,186.0,264.0,271.23,226.0,203.0,207.0,284.0,337.0,219.0,310.0,254.0,258.0,254.0,300.0,170.0,310.0,333.0,139.0,223.0,385.0,254.0],\"y0\":\" \",\"yaxis\":\"y\",\"type\":\"box\"}],                        {\"template\":{\"data\":{\"histogram2dcontour\":[{\"type\":\"histogram2dcontour\",\"colorbar\":{\"outlinewidth\":0,\"ticks\":\"\"},\"colorscale\":[[0.0,\"#0d0887\"],[0.1111111111111111,\"#46039f\"],[0.2222222222222222,\"#7201a8\"],[0.3333333333333333,\"#9c179e\"],[0.4444444444444444,\"#bd3786\"],[0.5555555555555556,\"#d8576b\"],[0.6666666666666666,\"#ed7953\"],[0.7777777777777778,\"#fb9f3a\"],[0.8888888888888888,\"#fdca26\"],[1.0,\"#f0f921\"]]}],\"choropleth\":[{\"type\":\"choropleth\",\"colorbar\":{\"outlinewidth\":0,\"ticks\":\"\"}}],\"histogram2d\":[{\"type\":\"histogram2d\",\"colorbar\":{\"outlinewidth\":0,\"ticks\":\"\"},\"colorscale\":[[0.0,\"#0d0887\"],[0.1111111111111111,\"#46039f\"],[0.2222222222222222,\"#7201a8\"],[0.3333333333333333,\"#9c179e\"],[0.4444444444444444,\"#bd3786\"],[0.5555555555555556,\"#d8576b\"],[0.6666666666666666,\"#ed7953\"],[0.7777777777777778,\"#fb9f3a\"],[0.8888888888888888,\"#fdca26\"],[1.0,\"#f0f921\"]]}],\"heatmap\":[{\"type\":\"heatmap\",\"colorbar\":{\"outlinewidth\":0,\"ticks\":\"\"},\"colorscale\":[[0.0,\"#0d0887\"],[0.1111111111111111,\"#46039f\"],[0.2222222222222222,\"#7201a8\"],[0.3333333333333333,\"#9c179e\"],[0.4444444444444444,\"#bd3786\"],[0.5555555555555556,\"#d8576b\"],[0.6666666666666666,\"#ed7953\"],[0.7777777777777778,\"#fb9f3a\"],[0.8888888888888888,\"#fdca26\"],[1.0,\"#f0f921\"]]}],\"heatmapgl\":[{\"type\":\"heatmapgl\",\"colorbar\":{\"outlinewidth\":0,\"ticks\":\"\"},\"colorscale\":[[0.0,\"#0d0887\"],[0.1111111111111111,\"#46039f\"],[0.2222222222222222,\"#7201a8\"],[0.3333333333333333,\"#9c179e\"],[0.4444444444444444,\"#bd3786\"],[0.5555555555555556,\"#d8576b\"],[0.6666666666666666,\"#ed7953\"],[0.7777777777777778,\"#fb9f3a\"],[0.8888888888888888,\"#fdca26\"],[1.0,\"#f0f921\"]]}],\"contourcarpet\":[{\"type\":\"contourcarpet\",\"colorbar\":{\"outlinewidth\":0,\"ticks\":\"\"}}],\"contour\":[{\"type\":\"contour\",\"colorbar\":{\"outlinewidth\":0,\"ticks\":\"\"},\"colorscale\":[[0.0,\"#0d0887\"],[0.1111111111111111,\"#46039f\"],[0.2222222222222222,\"#7201a8\"],[0.3333333333333333,\"#9c179e\"],[0.4444444444444444,\"#bd3786\"],[0.5555555555555556,\"#d8576b\"],[0.6666666666666666,\"#ed7953\"],[0.7777777777777778,\"#fb9f3a\"],[0.8888888888888888,\"#fdca26\"],[1.0,\"#f0f921\"]]}],\"surface\":[{\"type\":\"surface\",\"colorbar\":{\"outlinewidth\":0,\"ticks\":\"\"},\"colorscale\":[[0.0,\"#0d0887\"],[0.1111111111111111,\"#46039f\"],[0.2222222222222222,\"#7201a8\"],[0.3333333333333333,\"#9c179e\"],[0.4444444444444444,\"#bd3786\"],[0.5555555555555556,\"#d8576b\"],[0.6666666666666666,\"#ed7953\"],[0.7777777777777778,\"#fb9f3a\"],[0.8888888888888888,\"#fdca26\"],[1.0,\"#f0f921\"]]}],\"mesh3d\":[{\"type\":\"mesh3d\",\"colorbar\":{\"outlinewidth\":0,\"ticks\":\"\"}}],\"scatter\":[{\"fillpattern\":{\"fillmode\":\"overlay\",\"size\":10,\"solidity\":0.2},\"type\":\"scatter\"}],\"parcoords\":[{\"type\":\"parcoords\",\"line\":{\"colorbar\":{\"outlinewidth\":0,\"ticks\":\"\"}}}],\"scatterpolargl\":[{\"type\":\"scatterpolargl\",\"marker\":{\"colorbar\":{\"outlinewidth\":0,\"ticks\":\"\"}}}],\"bar\":[{\"error_x\":{\"color\":\"#2a3f5f\"},\"error_y\":{\"color\":\"#2a3f5f\"},\"marker\":{\"line\":{\"color\":\"#E5ECF6\",\"width\":0.5},\"pattern\":{\"fillmode\":\"overlay\",\"size\":10,\"solidity\":0.2}},\"type\":\"bar\"}],\"scattergeo\":[{\"type\":\"scattergeo\",\"marker\":{\"colorbar\":{\"outlinewidth\":0,\"ticks\":\"\"}}}],\"scatterpolar\":[{\"type\":\"scatterpolar\",\"marker\":{\"colorbar\":{\"outlinewidth\":0,\"ticks\":\"\"}}}],\"histogram\":[{\"marker\":{\"pattern\":{\"fillmode\":\"overlay\",\"size\":10,\"solidity\":0.2}},\"type\":\"histogram\"}],\"scattergl\":[{\"type\":\"scattergl\",\"marker\":{\"colorbar\":{\"outlinewidth\":0,\"ticks\":\"\"}}}],\"scatter3d\":[{\"type\":\"scatter3d\",\"line\":{\"colorbar\":{\"outlinewidth\":0,\"ticks\":\"\"}},\"marker\":{\"colorbar\":{\"outlinewidth\":0,\"ticks\":\"\"}}}],\"scattermapbox\":[{\"type\":\"scattermapbox\",\"marker\":{\"colorbar\":{\"outlinewidth\":0,\"ticks\":\"\"}}}],\"scatterternary\":[{\"type\":\"scatterternary\",\"marker\":{\"colorbar\":{\"outlinewidth\":0,\"ticks\":\"\"}}}],\"scattercarpet\":[{\"type\":\"scattercarpet\",\"marker\":{\"colorbar\":{\"outlinewidth\":0,\"ticks\":\"\"}}}],\"carpet\":[{\"aaxis\":{\"endlinecolor\":\"#2a3f5f\",\"gridcolor\":\"white\",\"linecolor\":\"white\",\"minorgridcolor\":\"white\",\"startlinecolor\":\"#2a3f5f\"},\"baxis\":{\"endlinecolor\":\"#2a3f5f\",\"gridcolor\":\"white\",\"linecolor\":\"white\",\"minorgridcolor\":\"white\",\"startlinecolor\":\"#2a3f5f\"},\"type\":\"carpet\"}],\"table\":[{\"cells\":{\"fill\":{\"color\":\"#EBF0F8\"},\"line\":{\"color\":\"white\"}},\"header\":{\"fill\":{\"color\":\"#C8D4E3\"},\"line\":{\"color\":\"white\"}},\"type\":\"table\"}],\"barpolar\":[{\"marker\":{\"line\":{\"color\":\"#E5ECF6\",\"width\":0.5},\"pattern\":{\"fillmode\":\"overlay\",\"size\":10,\"solidity\":0.2}},\"type\":\"barpolar\"}],\"pie\":[{\"automargin\":true,\"type\":\"pie\"}]},\"layout\":{\"autotypenumbers\":\"strict\",\"colorway\":[\"#636efa\",\"#EF553B\",\"#00cc96\",\"#ab63fa\",\"#FFA15A\",\"#19d3f3\",\"#FF6692\",\"#B6E880\",\"#FF97FF\",\"#FECB52\"],\"font\":{\"color\":\"#2a3f5f\"},\"hovermode\":\"closest\",\"hoverlabel\":{\"align\":\"left\"},\"paper_bgcolor\":\"white\",\"plot_bgcolor\":\"#E5ECF6\",\"polar\":{\"bgcolor\":\"#E5ECF6\",\"angularaxis\":{\"gridcolor\":\"white\",\"linecolor\":\"white\",\"ticks\":\"\"},\"radialaxis\":{\"gridcolor\":\"white\",\"linecolor\":\"white\",\"ticks\":\"\"}},\"ternary\":{\"bgcolor\":\"#E5ECF6\",\"aaxis\":{\"gridcolor\":\"white\",\"linecolor\":\"white\",\"ticks\":\"\"},\"baxis\":{\"gridcolor\":\"white\",\"linecolor\":\"white\",\"ticks\":\"\"},\"caxis\":{\"gridcolor\":\"white\",\"linecolor\":\"white\",\"ticks\":\"\"}},\"coloraxis\":{\"colorbar\":{\"outlinewidth\":0,\"ticks\":\"\"}},\"colorscale\":{\"sequential\":[[0.0,\"#0d0887\"],[0.1111111111111111,\"#46039f\"],[0.2222222222222222,\"#7201a8\"],[0.3333333333333333,\"#9c179e\"],[0.4444444444444444,\"#bd3786\"],[0.5555555555555556,\"#d8576b\"],[0.6666666666666666,\"#ed7953\"],[0.7777777777777778,\"#fb9f3a\"],[0.8888888888888888,\"#fdca26\"],[1.0,\"#f0f921\"]],\"sequentialminus\":[[0.0,\"#0d0887\"],[0.1111111111111111,\"#46039f\"],[0.2222222222222222,\"#7201a8\"],[0.3333333333333333,\"#9c179e\"],[0.4444444444444444,\"#bd3786\"],[0.5555555555555556,\"#d8576b\"],[0.6666666666666666,\"#ed7953\"],[0.7777777777777778,\"#fb9f3a\"],[0.8888888888888888,\"#fdca26\"],[1.0,\"#f0f921\"]],\"diverging\":[[0,\"#8e0152\"],[0.1,\"#c51b7d\"],[0.2,\"#de77ae\"],[0.3,\"#f1b6da\"],[0.4,\"#fde0ef\"],[0.5,\"#f7f7f7\"],[0.6,\"#e6f5d0\"],[0.7,\"#b8e186\"],[0.8,\"#7fbc41\"],[0.9,\"#4d9221\"],[1,\"#276419\"]]},\"xaxis\":{\"gridcolor\":\"white\",\"linecolor\":\"white\",\"ticks\":\"\",\"title\":{\"standoff\":15},\"zerolinecolor\":\"white\",\"automargin\":true,\"zerolinewidth\":2},\"yaxis\":{\"gridcolor\":\"white\",\"linecolor\":\"white\",\"ticks\":\"\",\"title\":{\"standoff\":15},\"zerolinecolor\":\"white\",\"automargin\":true,\"zerolinewidth\":2},\"scene\":{\"xaxis\":{\"backgroundcolor\":\"#E5ECF6\",\"gridcolor\":\"white\",\"linecolor\":\"white\",\"showbackground\":true,\"ticks\":\"\",\"zerolinecolor\":\"white\",\"gridwidth\":2},\"yaxis\":{\"backgroundcolor\":\"#E5ECF6\",\"gridcolor\":\"white\",\"linecolor\":\"white\",\"showbackground\":true,\"ticks\":\"\",\"zerolinecolor\":\"white\",\"gridwidth\":2},\"zaxis\":{\"backgroundcolor\":\"#E5ECF6\",\"gridcolor\":\"white\",\"linecolor\":\"white\",\"showbackground\":true,\"ticks\":\"\",\"zerolinecolor\":\"white\",\"gridwidth\":2}},\"shapedefaults\":{\"line\":{\"color\":\"#2a3f5f\"}},\"annotationdefaults\":{\"arrowcolor\":\"#2a3f5f\",\"arrowhead\":0,\"arrowwidth\":1},\"geo\":{\"bgcolor\":\"white\",\"landcolor\":\"#E5ECF6\",\"subunitcolor\":\"white\",\"showland\":true,\"showlakes\":true,\"lakecolor\":\"white\"},\"title\":{\"x\":0.05},\"mapbox\":{\"style\":\"light\"}}},\"xaxis\":{\"anchor\":\"y\",\"domain\":[0.0,1.0]},\"yaxis\":{\"anchor\":\"x\",\"domain\":[0.0,1.0],\"title\":{\"text\":\"chol\"}},\"legend\":{\"tracegroupgap\":0},\"margin\":{\"t\":60},\"boxmode\":\"group\"},                        {\"responsive\": true}                    ).then(function(){\n",
              "                            \n",
              "var gd = document.getElementById('61e77bac-f7d2-4067-a60c-5ba82c9412e3');\n",
              "var x = new MutationObserver(function (mutations, observer) {{\n",
              "        var display = window.getComputedStyle(gd).display;\n",
              "        if (!display || display === 'none') {{\n",
              "            console.log([gd, 'removed!']);\n",
              "            Plotly.purge(gd);\n",
              "            observer.disconnect();\n",
              "        }}\n",
              "}});\n",
              "\n",
              "// Listen for the removal of the full notebook cells\n",
              "var notebookContainer = gd.closest('#notebook-container');\n",
              "if (notebookContainer) {{\n",
              "    x.observe(notebookContainer, {childList: true});\n",
              "}}\n",
              "\n",
              "// Listen for the clearing of the current output cell\n",
              "var outputEl = gd.closest('.output');\n",
              "if (outputEl) {{\n",
              "    x.observe(outputEl, {childList: true});\n",
              "}}\n",
              "\n",
              "                        })                };                            </script>        </div>\n",
              "</body>\n",
              "</html>"
            ]
          },
          "metadata": {}
        },
        {
          "output_type": "display_data",
          "data": {
            "text/html": [
              "<html>\n",
              "<head><meta charset=\"utf-8\" /></head>\n",
              "<body>\n",
              "    <div>            <script src=\"https://cdnjs.cloudflare.com/ajax/libs/mathjax/2.7.5/MathJax.js?config=TeX-AMS-MML_SVG\"></script><script type=\"text/javascript\">if (window.MathJax && window.MathJax.Hub && window.MathJax.Hub.Config) {window.MathJax.Hub.Config({SVG: {font: \"STIX-Web\"}});}</script>                <script type=\"text/javascript\">window.PlotlyConfig = {MathJaxConfig: 'local'};</script>\n",
              "        <script charset=\"utf-8\" src=\"https://cdn.plot.ly/plotly-2.24.1.min.js\"></script>                <div id=\"cd7f7ce5-8187-4bbf-aa7f-49f4cd0ca15c\" class=\"plotly-graph-div\" style=\"height:525px; width:100%;\"></div>            <script type=\"text/javascript\">                                    window.PLOTLYENV=window.PLOTLYENV || {};                                    if (document.getElementById(\"cd7f7ce5-8187-4bbf-aa7f-49f4cd0ca15c\")) {                    Plotly.newPlot(                        \"cd7f7ce5-8187-4bbf-aa7f-49f4cd0ca15c\",                        [{\"alignmentgroup\":\"True\",\"hovertemplate\":\"thalch=%{y}\\u003cextra\\u003e\\u003c\\u002fextra\\u003e\",\"legendgroup\":\"\",\"marker\":{\"color\":\"#636efa\"},\"name\":\"\",\"notched\":false,\"offsetgroup\":\"\",\"orientation\":\"v\",\"showlegend\":false,\"x0\":\" \",\"xaxis\":\"x\",\"y\":[150.0,108.0,129.0,187.0,172.0,178.0,160.0,163.0,147.0,155.0,148.0,153.0,142.0,173.0,162.0,174.0,168.0,160.0,139.0,171.0,144.0,162.0,160.0,173.0,132.0,158.0,172.0,114.0,171.0,114.0,151.0,160.0,158.0,161.0,179.0,178.0,120.0,112.0,132.0,137.0,114.0,178.0,162.0,157.0,169.0,165.0,123.0,128.0,157.0,152.0,168.0,140.0,153.0,188.0,144.0,109.0,163.0,158.0,152.0,125.0,142.0,160.0,131.0,170.0,113.0,142.0,155.0,165.0,140.0,147.0,148.0,163.0,99.0,158.0,177.0,151.0,141.0,142.0,180.0,111.0,148.0,143.0,182.0,150.0,172.0,180.0,156.0,115.0,160.0,149.0,151.0,145.0,146.0,175.0,172.0,161.0,142.0,157.0,158.0,186.0,185.0,174.0,159.0,130.0,139.0,156.0,162.0,150.0,140.0,140.0,146.0,144.0,190.0,136.0,97.0,132.0,165.0,182.0,132.0,127.0,150.0,154.0,143.0,111.0,174.0,175.0,133.0,126.0,170.0,163.0,147.0,154.0,202.0,186.0,165.0,161.0,125.0,103.0,130.0,166.0,164.0,159.0,184.0,131.0,154.0,152.0,124.0,179.0,170.0,160.0,178.0,122.0,160.0,145.0,96.0,109.0,173.0,171.0,170.0,151.0,156.0,162.0,158.0,122.0,175.0,168.0,169.0,159.0,156.0,138.0,112.0,111.0,143.0,157.0,132.0,88.0,147.0,105.0,162.0,173.0,166.0,150.0,178.0,145.0,161.0,179.0,194.0,120.0,195.0,146.0,163.0,122.0,143.0,106.0,115.0,125.0,131.0,152.0,162.0,125.0,159.0,154.0,173.0,133.0,161.0,147.0,130.0,126.0,155.0,154.0,170.0,182.0,168.0,165.0,160.0,162.0,172.0,152.0,122.0,182.0,172.0,167.0,179.0,95.0,169.0,192.0,143.0,172.0,108.0,132.0,169.0,117.0,126.0,121.0,163.0,116.0,103.0,144.0,162.0,162.0,153.0,163.0,163.0,145.0,96.0,71.0,156.0,118.0,168.0,140.0,126.0,105.0,105.0,157.0,181.0,173.0,142.0,116.0,143.0,141.0,149.0,152.0,171.0,169.0,125.0,125.0,156.0,134.0,181.0,150.0,138.0,138.0,120.0,125.0,162.0,155.0,152.0,152.0,164.0,131.0,143.0,179.0,130.0,174.0,161.0,140.0,146.0,144.0,163.0,169.0,150.0,166.0,144.0,144.0,136.0,182.0,90.0,123.0,132.0,141.0,115.0,174.0,173.0,185.0,160.0,170.0,170.0,150.0,165.0,184.0,155.0,185.0,190.0,168.0,150.0,185.0,150.0,180.0,168.0,180.0,184.0,178.0,172.0,130.0,142.0,184.0,98.0,150.0,168.0,158.0,129.0,150.0,130.0,180.0,146.0,160.0,145.0,120.0,106.0,170.0,160.0,132.0,140.0,150.0,172.0,138.0,167.0,188.0,142.0,180.0,150.0,160.0,170.0,144.0,142.0,137.0,150.0,155.0,136.0,152.0,146.0,170.0,142.0,165.0,175.0,176.0,118.0,154.0,175.0,138.0,115.0,142.0,135.0,170.0,170.0,180.0,144.0,122.0,110.0,140.0,144.0,90.0,165.0,150.0,116.0,140.0,140.0,120.0,135.0,145.0,150.0,174.0,125.0,143.56,148.0,120.0,125.0,175.0,110.0,130.0,100.0,160.0,118.0,138.0,160.0,160.0,164.0,135.0,174.0,172.0,132.0,130.0,145.0,110.0,160.0,170.0,116.0,135.0,140.0,170.0,120.0,160.0,120.0,145.0,150.0,100.0,148.0,140.0,139.0,140.0,118.0,138.0,165.0,170.0,127.0,142.0,130.0,132.0,162.0,140.0,112.0,148.0,155.0,138.0,140.0,150.0,155.0,140.0,130.0,130.0,137.0,142.0,154.0,110.0,130.0,175.0,137.0,122.0,134.0,160.0,155.0,150.0,137.0,150.0,155.0,160.0,134.0,140.0,110.0,164.0,100.0,114.0,128.0,140.0,98.0,126.0,140.0,150.0,110.0,160.0,100.0,124.0,150.0,120.0,100.0,140.0,135.0,120.0,115.0,116.0,152.0,153.0,150.0,180.0,140.0,160.0,130.0,166.0,170.0,134.0,152.0,170.0,138.0,130.0,150.0,124.0,125.0,145.0,98.0,110.0,115.0,103.0,156.0,175.0,170.0,140.0,150.0,150.0,120.0,140.0,122.0,130.0,145.0,140.0,130.0,125.0,115.0,87.0,130.0,150.0,150.0,130.0,155.0,130.0,115.0,112.0,150.0,102.0,92.0,99.0,121.0,150.0,126.0,116.0,150.0,91.0,125.0,118.0,142.0,128.0,125.0,92.0,92.0,140.0,130.0,120.0,150.0,100.0,175.0,170.0,108.0,120.0,140.0,150.0,96.0,110.0,124.0,82.0,130.0,120.0,105.0,136.0,143.0,96.0,150.0,124.0,122.0,99.0,125.0,119.0,112.0,94.0,118.0,135.0,135.0,98.0,158.0,96.0,122.0,140.0,125.0,134.0,94.0,100.0,150.0,110.0,115.0,127.0,154.0,130.0,125.0,166.0,156.0,179.0,128.0,150.0,120.0,144.0,176.0,128.0,99.0,122.0,145.0,140.0,138.0,133.0,113.0,120.0,118.0,149.0,124.0,128.0,110.0,120.0,156.0,139.0,127.0,92.0,104.0,170.0,163.0,60.0,126.0,120.0,128.0,122.0,82.0,95.0,120.0,115.0,122.0,120.0,120.0,135.0,141.0,155.0,110.0,150.0,150.0,155.0,92.0,83.0,97.0,98.0,99.0,82.0,100.0,148.0,103.0,121.0,148.0,131.0,120.0,100.0,98.0,182.0,138.0,100.0,105.0,175.0,94.0,115.0,119.0,115.0,143.0,110.0,130.0,63.0,99.0,149.0,70.0,110.0,113.0,105.0,115.0,77.0,105.0,117.0,145.0,143.0,123.0,134.0,72.0,128.0,72.0,78.0,109.0,149.0,86.0,154.0,98.0,140.0,145.0,114.0,93.0,67.0,154.0,122.0,90.0,108.0,125.0,120.0,136.0,130.0,125.13,92.0,157.0,114.0,121.0,123.0,112.0,127.0,140.0,149.0,99.0,120.0,105.0,140.0,141.0,157.0,140.0,117.0,120.0,127.26,148.0,86.0,84.0,125.0,120.0,118.0,124.0,106.0,111.0,119.23,180.0,129.0,120.87,140.0,120.0,125.83,115.94,110.0,105.0,155.0,110.0,122.0,127.56,133.0,114.68,131.0,80.0,165.0,86.0,111.0,113.99,84.0,117.0,107.0,128.0,160.0,125.0,125.26,97.0,161.0,106.0,130.0,140.0,118.83,126.16,120.0,117.47,108.0,148.0,123.0,110.0,118.0,125.0,106.0,123.52,126.41,180.0,144.0,128.0,140.0,102.0,108.0,145.0,128.73,110.0,140.0,69.0,148.0,130.0,130.0,140.0,138.0,140.0,125.2,112.0,138.37,112.0,80.0,150.0,110.0,122.78,88.0,146.93,150.0,120.0,160.0,132.0,120.0,110.0,121.0,128.0,135.0,120.0,117.0,150.0,139.9,126.71,132.05,131.56,122.23,116.88,118.32,102.0,140.0,135.0,118.71,125.58,130.0,112.0,100.0,124.0,120.0,105.0,129.0,120.0,130.02,162.0,100.0,140.0,125.39,73.0,86.0,122.87,121.8,160.0,118.0,112.0,115.38,126.84,102.0,128.94,128.11,154.0,116.72,160.0,119.04,128.0,115.0,105.0,110.0,119.0,123.99,135.0,130.0,119.59,123.36,120.0,122.27,119.0,122.66,122.33,159.0,84.0,126.87,123.2,120.0,122.0,165.0,122.0,94.0,123.68,110.0,150.0,130.0,113.0,140.0,100.0,133.87,127.0,98.0,96.0,128.51,98.0,118.0,112.0,151.0,96.0,108.0,128.0,138.0,126.0,154.0,124.56,100.0,121.86,93.0],\"y0\":\" \",\"yaxis\":\"y\",\"type\":\"box\"}],                        {\"template\":{\"data\":{\"histogram2dcontour\":[{\"type\":\"histogram2dcontour\",\"colorbar\":{\"outlinewidth\":0,\"ticks\":\"\"},\"colorscale\":[[0.0,\"#0d0887\"],[0.1111111111111111,\"#46039f\"],[0.2222222222222222,\"#7201a8\"],[0.3333333333333333,\"#9c179e\"],[0.4444444444444444,\"#bd3786\"],[0.5555555555555556,\"#d8576b\"],[0.6666666666666666,\"#ed7953\"],[0.7777777777777778,\"#fb9f3a\"],[0.8888888888888888,\"#fdca26\"],[1.0,\"#f0f921\"]]}],\"choropleth\":[{\"type\":\"choropleth\",\"colorbar\":{\"outlinewidth\":0,\"ticks\":\"\"}}],\"histogram2d\":[{\"type\":\"histogram2d\",\"colorbar\":{\"outlinewidth\":0,\"ticks\":\"\"},\"colorscale\":[[0.0,\"#0d0887\"],[0.1111111111111111,\"#46039f\"],[0.2222222222222222,\"#7201a8\"],[0.3333333333333333,\"#9c179e\"],[0.4444444444444444,\"#bd3786\"],[0.5555555555555556,\"#d8576b\"],[0.6666666666666666,\"#ed7953\"],[0.7777777777777778,\"#fb9f3a\"],[0.8888888888888888,\"#fdca26\"],[1.0,\"#f0f921\"]]}],\"heatmap\":[{\"type\":\"heatmap\",\"colorbar\":{\"outlinewidth\":0,\"ticks\":\"\"},\"colorscale\":[[0.0,\"#0d0887\"],[0.1111111111111111,\"#46039f\"],[0.2222222222222222,\"#7201a8\"],[0.3333333333333333,\"#9c179e\"],[0.4444444444444444,\"#bd3786\"],[0.5555555555555556,\"#d8576b\"],[0.6666666666666666,\"#ed7953\"],[0.7777777777777778,\"#fb9f3a\"],[0.8888888888888888,\"#fdca26\"],[1.0,\"#f0f921\"]]}],\"heatmapgl\":[{\"type\":\"heatmapgl\",\"colorbar\":{\"outlinewidth\":0,\"ticks\":\"\"},\"colorscale\":[[0.0,\"#0d0887\"],[0.1111111111111111,\"#46039f\"],[0.2222222222222222,\"#7201a8\"],[0.3333333333333333,\"#9c179e\"],[0.4444444444444444,\"#bd3786\"],[0.5555555555555556,\"#d8576b\"],[0.6666666666666666,\"#ed7953\"],[0.7777777777777778,\"#fb9f3a\"],[0.8888888888888888,\"#fdca26\"],[1.0,\"#f0f921\"]]}],\"contourcarpet\":[{\"type\":\"contourcarpet\",\"colorbar\":{\"outlinewidth\":0,\"ticks\":\"\"}}],\"contour\":[{\"type\":\"contour\",\"colorbar\":{\"outlinewidth\":0,\"ticks\":\"\"},\"colorscale\":[[0.0,\"#0d0887\"],[0.1111111111111111,\"#46039f\"],[0.2222222222222222,\"#7201a8\"],[0.3333333333333333,\"#9c179e\"],[0.4444444444444444,\"#bd3786\"],[0.5555555555555556,\"#d8576b\"],[0.6666666666666666,\"#ed7953\"],[0.7777777777777778,\"#fb9f3a\"],[0.8888888888888888,\"#fdca26\"],[1.0,\"#f0f921\"]]}],\"surface\":[{\"type\":\"surface\",\"colorbar\":{\"outlinewidth\":0,\"ticks\":\"\"},\"colorscale\":[[0.0,\"#0d0887\"],[0.1111111111111111,\"#46039f\"],[0.2222222222222222,\"#7201a8\"],[0.3333333333333333,\"#9c179e\"],[0.4444444444444444,\"#bd3786\"],[0.5555555555555556,\"#d8576b\"],[0.6666666666666666,\"#ed7953\"],[0.7777777777777778,\"#fb9f3a\"],[0.8888888888888888,\"#fdca26\"],[1.0,\"#f0f921\"]]}],\"mesh3d\":[{\"type\":\"mesh3d\",\"colorbar\":{\"outlinewidth\":0,\"ticks\":\"\"}}],\"scatter\":[{\"fillpattern\":{\"fillmode\":\"overlay\",\"size\":10,\"solidity\":0.2},\"type\":\"scatter\"}],\"parcoords\":[{\"type\":\"parcoords\",\"line\":{\"colorbar\":{\"outlinewidth\":0,\"ticks\":\"\"}}}],\"scatterpolargl\":[{\"type\":\"scatterpolargl\",\"marker\":{\"colorbar\":{\"outlinewidth\":0,\"ticks\":\"\"}}}],\"bar\":[{\"error_x\":{\"color\":\"#2a3f5f\"},\"error_y\":{\"color\":\"#2a3f5f\"},\"marker\":{\"line\":{\"color\":\"#E5ECF6\",\"width\":0.5},\"pattern\":{\"fillmode\":\"overlay\",\"size\":10,\"solidity\":0.2}},\"type\":\"bar\"}],\"scattergeo\":[{\"type\":\"scattergeo\",\"marker\":{\"colorbar\":{\"outlinewidth\":0,\"ticks\":\"\"}}}],\"scatterpolar\":[{\"type\":\"scatterpolar\",\"marker\":{\"colorbar\":{\"outlinewidth\":0,\"ticks\":\"\"}}}],\"histogram\":[{\"marker\":{\"pattern\":{\"fillmode\":\"overlay\",\"size\":10,\"solidity\":0.2}},\"type\":\"histogram\"}],\"scattergl\":[{\"type\":\"scattergl\",\"marker\":{\"colorbar\":{\"outlinewidth\":0,\"ticks\":\"\"}}}],\"scatter3d\":[{\"type\":\"scatter3d\",\"line\":{\"colorbar\":{\"outlinewidth\":0,\"ticks\":\"\"}},\"marker\":{\"colorbar\":{\"outlinewidth\":0,\"ticks\":\"\"}}}],\"scattermapbox\":[{\"type\":\"scattermapbox\",\"marker\":{\"colorbar\":{\"outlinewidth\":0,\"ticks\":\"\"}}}],\"scatterternary\":[{\"type\":\"scatterternary\",\"marker\":{\"colorbar\":{\"outlinewidth\":0,\"ticks\":\"\"}}}],\"scattercarpet\":[{\"type\":\"scattercarpet\",\"marker\":{\"colorbar\":{\"outlinewidth\":0,\"ticks\":\"\"}}}],\"carpet\":[{\"aaxis\":{\"endlinecolor\":\"#2a3f5f\",\"gridcolor\":\"white\",\"linecolor\":\"white\",\"minorgridcolor\":\"white\",\"startlinecolor\":\"#2a3f5f\"},\"baxis\":{\"endlinecolor\":\"#2a3f5f\",\"gridcolor\":\"white\",\"linecolor\":\"white\",\"minorgridcolor\":\"white\",\"startlinecolor\":\"#2a3f5f\"},\"type\":\"carpet\"}],\"table\":[{\"cells\":{\"fill\":{\"color\":\"#EBF0F8\"},\"line\":{\"color\":\"white\"}},\"header\":{\"fill\":{\"color\":\"#C8D4E3\"},\"line\":{\"color\":\"white\"}},\"type\":\"table\"}],\"barpolar\":[{\"marker\":{\"line\":{\"color\":\"#E5ECF6\",\"width\":0.5},\"pattern\":{\"fillmode\":\"overlay\",\"size\":10,\"solidity\":0.2}},\"type\":\"barpolar\"}],\"pie\":[{\"automargin\":true,\"type\":\"pie\"}]},\"layout\":{\"autotypenumbers\":\"strict\",\"colorway\":[\"#636efa\",\"#EF553B\",\"#00cc96\",\"#ab63fa\",\"#FFA15A\",\"#19d3f3\",\"#FF6692\",\"#B6E880\",\"#FF97FF\",\"#FECB52\"],\"font\":{\"color\":\"#2a3f5f\"},\"hovermode\":\"closest\",\"hoverlabel\":{\"align\":\"left\"},\"paper_bgcolor\":\"white\",\"plot_bgcolor\":\"#E5ECF6\",\"polar\":{\"bgcolor\":\"#E5ECF6\",\"angularaxis\":{\"gridcolor\":\"white\",\"linecolor\":\"white\",\"ticks\":\"\"},\"radialaxis\":{\"gridcolor\":\"white\",\"linecolor\":\"white\",\"ticks\":\"\"}},\"ternary\":{\"bgcolor\":\"#E5ECF6\",\"aaxis\":{\"gridcolor\":\"white\",\"linecolor\":\"white\",\"ticks\":\"\"},\"baxis\":{\"gridcolor\":\"white\",\"linecolor\":\"white\",\"ticks\":\"\"},\"caxis\":{\"gridcolor\":\"white\",\"linecolor\":\"white\",\"ticks\":\"\"}},\"coloraxis\":{\"colorbar\":{\"outlinewidth\":0,\"ticks\":\"\"}},\"colorscale\":{\"sequential\":[[0.0,\"#0d0887\"],[0.1111111111111111,\"#46039f\"],[0.2222222222222222,\"#7201a8\"],[0.3333333333333333,\"#9c179e\"],[0.4444444444444444,\"#bd3786\"],[0.5555555555555556,\"#d8576b\"],[0.6666666666666666,\"#ed7953\"],[0.7777777777777778,\"#fb9f3a\"],[0.8888888888888888,\"#fdca26\"],[1.0,\"#f0f921\"]],\"sequentialminus\":[[0.0,\"#0d0887\"],[0.1111111111111111,\"#46039f\"],[0.2222222222222222,\"#7201a8\"],[0.3333333333333333,\"#9c179e\"],[0.4444444444444444,\"#bd3786\"],[0.5555555555555556,\"#d8576b\"],[0.6666666666666666,\"#ed7953\"],[0.7777777777777778,\"#fb9f3a\"],[0.8888888888888888,\"#fdca26\"],[1.0,\"#f0f921\"]],\"diverging\":[[0,\"#8e0152\"],[0.1,\"#c51b7d\"],[0.2,\"#de77ae\"],[0.3,\"#f1b6da\"],[0.4,\"#fde0ef\"],[0.5,\"#f7f7f7\"],[0.6,\"#e6f5d0\"],[0.7,\"#b8e186\"],[0.8,\"#7fbc41\"],[0.9,\"#4d9221\"],[1,\"#276419\"]]},\"xaxis\":{\"gridcolor\":\"white\",\"linecolor\":\"white\",\"ticks\":\"\",\"title\":{\"standoff\":15},\"zerolinecolor\":\"white\",\"automargin\":true,\"zerolinewidth\":2},\"yaxis\":{\"gridcolor\":\"white\",\"linecolor\":\"white\",\"ticks\":\"\",\"title\":{\"standoff\":15},\"zerolinecolor\":\"white\",\"automargin\":true,\"zerolinewidth\":2},\"scene\":{\"xaxis\":{\"backgroundcolor\":\"#E5ECF6\",\"gridcolor\":\"white\",\"linecolor\":\"white\",\"showbackground\":true,\"ticks\":\"\",\"zerolinecolor\":\"white\",\"gridwidth\":2},\"yaxis\":{\"backgroundcolor\":\"#E5ECF6\",\"gridcolor\":\"white\",\"linecolor\":\"white\",\"showbackground\":true,\"ticks\":\"\",\"zerolinecolor\":\"white\",\"gridwidth\":2},\"zaxis\":{\"backgroundcolor\":\"#E5ECF6\",\"gridcolor\":\"white\",\"linecolor\":\"white\",\"showbackground\":true,\"ticks\":\"\",\"zerolinecolor\":\"white\",\"gridwidth\":2}},\"shapedefaults\":{\"line\":{\"color\":\"#2a3f5f\"}},\"annotationdefaults\":{\"arrowcolor\":\"#2a3f5f\",\"arrowhead\":0,\"arrowwidth\":1},\"geo\":{\"bgcolor\":\"white\",\"landcolor\":\"#E5ECF6\",\"subunitcolor\":\"white\",\"showland\":true,\"showlakes\":true,\"lakecolor\":\"white\"},\"title\":{\"x\":0.05},\"mapbox\":{\"style\":\"light\"}}},\"xaxis\":{\"anchor\":\"y\",\"domain\":[0.0,1.0]},\"yaxis\":{\"anchor\":\"x\",\"domain\":[0.0,1.0],\"title\":{\"text\":\"thalch\"}},\"legend\":{\"tracegroupgap\":0},\"margin\":{\"t\":60},\"boxmode\":\"group\"},                        {\"responsive\": true}                    ).then(function(){\n",
              "                            \n",
              "var gd = document.getElementById('cd7f7ce5-8187-4bbf-aa7f-49f4cd0ca15c');\n",
              "var x = new MutationObserver(function (mutations, observer) {{\n",
              "        var display = window.getComputedStyle(gd).display;\n",
              "        if (!display || display === 'none') {{\n",
              "            console.log([gd, 'removed!']);\n",
              "            Plotly.purge(gd);\n",
              "            observer.disconnect();\n",
              "        }}\n",
              "}});\n",
              "\n",
              "// Listen for the removal of the full notebook cells\n",
              "var notebookContainer = gd.closest('#notebook-container');\n",
              "if (notebookContainer) {{\n",
              "    x.observe(notebookContainer, {childList: true});\n",
              "}}\n",
              "\n",
              "// Listen for the clearing of the current output cell\n",
              "var outputEl = gd.closest('.output');\n",
              "if (outputEl) {{\n",
              "    x.observe(outputEl, {childList: true});\n",
              "}}\n",
              "\n",
              "                        })                };                            </script>        </div>\n",
              "</body>\n",
              "</html>"
            ]
          },
          "metadata": {}
        },
        {
          "output_type": "display_data",
          "data": {
            "text/html": [
              "<html>\n",
              "<head><meta charset=\"utf-8\" /></head>\n",
              "<body>\n",
              "    <div>            <script src=\"https://cdnjs.cloudflare.com/ajax/libs/mathjax/2.7.5/MathJax.js?config=TeX-AMS-MML_SVG\"></script><script type=\"text/javascript\">if (window.MathJax && window.MathJax.Hub && window.MathJax.Hub.Config) {window.MathJax.Hub.Config({SVG: {font: \"STIX-Web\"}});}</script>                <script type=\"text/javascript\">window.PlotlyConfig = {MathJaxConfig: 'local'};</script>\n",
              "        <script charset=\"utf-8\" src=\"https://cdn.plot.ly/plotly-2.24.1.min.js\"></script>                <div id=\"1dfa9bf8-2051-4e05-b5f9-55214bc203b1\" class=\"plotly-graph-div\" style=\"height:525px; width:100%;\"></div>            <script type=\"text/javascript\">                                    window.PLOTLYENV=window.PLOTLYENV || {};                                    if (document.getElementById(\"1dfa9bf8-2051-4e05-b5f9-55214bc203b1\")) {                    Plotly.newPlot(                        \"1dfa9bf8-2051-4e05-b5f9-55214bc203b1\",                        [{\"alignmentgroup\":\"True\",\"hovertemplate\":\"oldpeak=%{y}\\u003cextra\\u003e\\u003c\\u002fextra\\u003e\",\"legendgroup\":\"\",\"marker\":{\"color\":\"#636efa\"},\"name\":\"\",\"notched\":false,\"offsetgroup\":\"\",\"orientation\":\"v\",\"showlegend\":false,\"x0\":\" \",\"xaxis\":\"x\",\"y\":[2.3,1.5,2.6,3.5,1.4,0.8,3.6,0.6,1.4,3.1,0.4,1.3,0.6,0.0,0.5,1.6,1.0,1.2,0.2,0.6,1.8,1.0,1.8,3.2,2.4,1.6,0.0,2.6,1.5,2.0,1.8,1.4,0.0,0.5,0.4,0.0,2.5,0.6,1.2,1.0,1.0,1.4,0.4,1.6,0.0,2.5,0.6,2.6,0.8,1.2,0.0,0.4,0.0,0.0,1.4,2.2,0.6,0.0,0.5,1.4,1.2,1.4,2.2,0.0,1.4,2.8,3.0,1.6,3.4,3.6,0.8,0.2,1.8,0.6,0.0,0.8,2.8,1.5,0.2,0.8,3.0,0.4,0.0,1.6,0.2,0.0,0.0,0.0,0.0,0.5,0.4,6.2,1.8,0.6,0.0,0.0,1.2,2.6,0.8,0.0,0.0,0.0,0.0,0.0,2.0,0.0,0.0,0.4,3.6,1.2,1.0,1.2,0.0,3.0,1.2,0.0,0.0,1.4,1.8,2.8,0.0,4.0,1.2,5.6,1.4,0.6,4.0,2.8,0.0,0.0,0.4,0.0,0.0,0.0,0.2,1.4,2.6,1.4,1.6,2.4,0.0,0.2,0.0,1.8,0.6,0.0,1.0,0.0,0.0,0.0,1.2,0.6,1.6,0.8,2.2,2.4,1.6,0.0,1.2,1.0,0.0,0.0,1.6,1.0,0.0,0.0,0.0,0.0,0.0,0.0,2.9,0.0,0.0,1.2,2.0,1.2,0.1,2.1,1.9,0.0,0.5,1.9,0.8,4.2,0.0,0.0,0.8,0.0,0.0,2.0,0.0,4.2,0.1,1.9,1.5,0.9,0.1,0.2,1.1,0.0,0.0,0.0,0.2,0.2,0.0,0.0,3.0,0.9,0.0,1.4,0.0,3.8,2.0,1.0,0.0,1.9,0.0,0.0,2.0,0.0,0.0,0.0,0.0,2.0,1.8,0.7,0.1,0.0,0.0,0.1,0.1,3.4,0.8,0.2,0.0,3.2,1.6,0.8,0.0,0.0,0.0,0.0,0.0,2.6,0.0,1.0,0.1,1.0,1.0,0.0,1.5,2.0,0.2,0.6,1.2,0.0,0.3,1.1,0.0,0.3,0.3,0.0,0.9,0.0,3.6,1.8,1.0,2.2,0.0,0.0,1.9,2.3,1.8,1.6,0.8,0.6,0.0,0.0,0.0,0.6,3.0,0.0,2.0,0.0,0.0,4.4,2.8,0.4,0.0,0.0,0.8,1.2,2.8,4.0,0.0,0.0,1.0,0.2,1.2,3.4,1.2,0.0,0.0,0.0,0.0,0.0,0.0,0.0,0.0,0.0,0.0,0.0,0.0,0.0,0.0,0.0,0.0,0.0,0.0,0.0,1.0,0.0,0.0,0.0,0.0,0.0,0.0,0.0,0.0,0.0,0.0,0.0,0.0,0.0,2.0,1.0,0.0,0.0,0.0,0.0,0.0,0.0,0.0,0.0,0.0,0.0,0.0,0.0,0.0,0.0,0.0,0.0,0.0,0.0,0.0,0.0,0.0,0.0,0.0,1.5,0.0,0.0,0.0,0.0,0.0,0.0,0.0,0.0,0.0,0.0,0.0,1.0,0.0,0.0,0.0,0.0,0.0,0.0,0.0,0.0,0.0,0.0,0.0,0.0,0.0,1.0,0.0,0.0,1.0,2.0,0.0,0.0,0.0,2.0,0.0,0.0,0.0,2.0,0.0,1.0,0.0,0.0,0.0,0.0,0.0,0.0,0.0,0.0,0.0,0.0,1.0,0.0,0.0,1.0,0.0,0.0,0.0,0.0,0.0,0.0,0.0,2.0,0.5,0.0,0.0,0.0,0.0,0.0,0.0,1.5,0.0,0.0,0.0,0.0,0.0,2.0,0.0,0.0,0.0,0.0,3.0,0.0,0.0,1.0,0.0,1.5,0.0,0.0,0.0,0.0,2.0,0.0,0.0,0.0,1.0,0.0,0.0,0.0,1.0,0.0,0.0,0.0,0.0,0.0,0.0,0.0,0.0,0.0,0.5,0.0,0.0,0.0,1.0,0.0,1.0,0.8,0.0,0.0,0.0,0.0,0.0,1.0,0.0,1.0,0.0,0.0,0.0,1.0,0.0,0.0,1.0,1.5,1.0,0.0,0.0,3.0,1.5,0.0,0.0,2.5,1.0,0.0,1.0,2.0,0.0,0.0,1.0,1.0,1.5,0.0,2.0,1.0,1.0,0.0,0.0,0.0,0.0,1.0,2.0,0.0,2.0,3.0,1.0,0.0,1.5,1.0,0.0,1.5,0.0,1.0,0.0,2.0,0.0,1.0,0.0,0.0,2.0,3.0,1.5,2.0,2.0,0.0,1.5,0.0,1.5,1.0,1.0,0.0,2.0,1.5,1.0,3.0,0.0,2.0,2.0,1.0,3.0,2.0,2.0,0.0,1.5,1.0,1.0,2.0,1.0,1.0,2.0,4.0,0.0,1.5,1.5,0.0,2.0,2.0,1.0,1.5,2.0,2.0,0.0,0.0,2.0,1.0,3.0,2.0,0.0,2.0,3.0,0.0,2.0,5.0,2.5,2.0,2.5,0.0,3.0,1.0,1.0,0.7,0.2,1.1329999999999998,1.0,2.8,0.0,-1.1,0.0,0.0,1.436,0.0,1.6,-1.5,0.0,1.5,2.0,0.5,-0.1,-2.6,1.5,0.0,1.0,2.1,0.0,0.0,0.0,0.5,0.0,0.7,1.5,0.0,0.0,-0.7,0.0,0.0,2.2,0.0,2.0,1.0,0.408,0.0,0.7,0.0,0.0,0.0,1.5,1.0,2.0,0.0,3.0,1.5,0.2,0.1,0.3,0.0,0.0,-2.0,0.0,-1.0,-1.0,0.0,1.0,1.8,0.3,1.4,2.0,0.0,2.0,0.7,0.5,1.0,0.0,2.6,0.0,0.0,0.9,1.0,2.4,0.1,1.1,0.5,0.5,0.4,0.0,1.5,1.4,0.0,0.0,2.5,0.0,2.0,1.0,0.0,1.7,-0.8,0.0,2.5,-0.5,2.0,-0.9,2.0,2.0,3.7,0.0,1.0,1.1,1.3,0.0,1.909,1.0,2.136999999999999,0.0,2.0,0.0,0.0,1.8,0.0,2.424999999999999,0.0,2.0,1.6,0.0,1.3,3.0,0.0,1.5,2.5,1.3,-0.5,0.0,1.5,2.0,0.5,0.0,1.0,0.5,1.546999999999999,1.0,0.0,2.5,2.0,1.5,0.0,1.0,2.0,0.0,1.8719999999999988,3.0,1.0,1.6129999999999993,0.5,1.5,2.853,2.233999999999999,2.0,1.0,1.5,2.0,1.0,2.334,2.0,1.8909999999999991,1.5,0.0,0.0,1.5,0.0,3.2560000000000002,0.0,1.3,0.0,2.0,0.0,2.5,2.107999999999999,1.6,2.0,0.0,3.0,1.5,3.233,2.2819999999999996,0.0,1.6719999999999993,2.0,2.0,2.5,2.0,2.5,2.5,1.5,2.365999999999999,2.1709999999999994,1.2079999999999997,2.0,1.7919999999999998,3.0,1.0,0.0,3.0,3.505000000000001,2.5,1.0,1.0,3.0,0.0,1.0,4.0,2.0,2.0,1.783,3.0,2.3249999999999993,3.0,0.0,1.5,0.0,2.0639999999999996,2.0,1.655,1.7889999999999997,0.5,3.0,0.0,1.5,1.0,1.0,0.5,4.0,1.0,1.0,0.0,1.719,3.142,1.8940000000000001,2.9909999999999997,2.109,1.8429999999999993,3.2939999999999996,0.0,2.0,2.5,2.149999999999999,2.361999999999999,4.0,2.0,0.0,2.087999999999999,3.5,1.5,3.0,0.0,1.9019999999999992,0.0,1.5,1.5,1.9609999999999994,2.0,0.0,2.915,2.8480000000000003,1.999,0.0,2.0,2.755,2.3409999999999997,4.0,1.8979999999999995,1.9009999999999996,2.0,2.0979999999999994,2.0,3.1029999999999998,1.5,0.0,1.5,2.5,2.0,2.595,0.5,1.5,2.388,2.460999999999999,3.0,3.111999999999999,3.0,3.06,2.046,1.5,0.0,1.9979999999999998,2.365999999999999,0.8,2.0,1.0,2.0,0.0,2.0629999999999997,0.0,2.0,0.0,1.0,0.5,0.0,2.0089999999999995,1.7,1.5,1.0,2.2149999999999994,0.0,0.0,1.5,0.0,1.0,3.0,1.5,0.0,0.0,0.0,2.0649999999999995,0.0,2.1139999999999994,0.0],\"y0\":\" \",\"yaxis\":\"y\",\"type\":\"box\"}],                        {\"template\":{\"data\":{\"histogram2dcontour\":[{\"type\":\"histogram2dcontour\",\"colorbar\":{\"outlinewidth\":0,\"ticks\":\"\"},\"colorscale\":[[0.0,\"#0d0887\"],[0.1111111111111111,\"#46039f\"],[0.2222222222222222,\"#7201a8\"],[0.3333333333333333,\"#9c179e\"],[0.4444444444444444,\"#bd3786\"],[0.5555555555555556,\"#d8576b\"],[0.6666666666666666,\"#ed7953\"],[0.7777777777777778,\"#fb9f3a\"],[0.8888888888888888,\"#fdca26\"],[1.0,\"#f0f921\"]]}],\"choropleth\":[{\"type\":\"choropleth\",\"colorbar\":{\"outlinewidth\":0,\"ticks\":\"\"}}],\"histogram2d\":[{\"type\":\"histogram2d\",\"colorbar\":{\"outlinewidth\":0,\"ticks\":\"\"},\"colorscale\":[[0.0,\"#0d0887\"],[0.1111111111111111,\"#46039f\"],[0.2222222222222222,\"#7201a8\"],[0.3333333333333333,\"#9c179e\"],[0.4444444444444444,\"#bd3786\"],[0.5555555555555556,\"#d8576b\"],[0.6666666666666666,\"#ed7953\"],[0.7777777777777778,\"#fb9f3a\"],[0.8888888888888888,\"#fdca26\"],[1.0,\"#f0f921\"]]}],\"heatmap\":[{\"type\":\"heatmap\",\"colorbar\":{\"outlinewidth\":0,\"ticks\":\"\"},\"colorscale\":[[0.0,\"#0d0887\"],[0.1111111111111111,\"#46039f\"],[0.2222222222222222,\"#7201a8\"],[0.3333333333333333,\"#9c179e\"],[0.4444444444444444,\"#bd3786\"],[0.5555555555555556,\"#d8576b\"],[0.6666666666666666,\"#ed7953\"],[0.7777777777777778,\"#fb9f3a\"],[0.8888888888888888,\"#fdca26\"],[1.0,\"#f0f921\"]]}],\"heatmapgl\":[{\"type\":\"heatmapgl\",\"colorbar\":{\"outlinewidth\":0,\"ticks\":\"\"},\"colorscale\":[[0.0,\"#0d0887\"],[0.1111111111111111,\"#46039f\"],[0.2222222222222222,\"#7201a8\"],[0.3333333333333333,\"#9c179e\"],[0.4444444444444444,\"#bd3786\"],[0.5555555555555556,\"#d8576b\"],[0.6666666666666666,\"#ed7953\"],[0.7777777777777778,\"#fb9f3a\"],[0.8888888888888888,\"#fdca26\"],[1.0,\"#f0f921\"]]}],\"contourcarpet\":[{\"type\":\"contourcarpet\",\"colorbar\":{\"outlinewidth\":0,\"ticks\":\"\"}}],\"contour\":[{\"type\":\"contour\",\"colorbar\":{\"outlinewidth\":0,\"ticks\":\"\"},\"colorscale\":[[0.0,\"#0d0887\"],[0.1111111111111111,\"#46039f\"],[0.2222222222222222,\"#7201a8\"],[0.3333333333333333,\"#9c179e\"],[0.4444444444444444,\"#bd3786\"],[0.5555555555555556,\"#d8576b\"],[0.6666666666666666,\"#ed7953\"],[0.7777777777777778,\"#fb9f3a\"],[0.8888888888888888,\"#fdca26\"],[1.0,\"#f0f921\"]]}],\"surface\":[{\"type\":\"surface\",\"colorbar\":{\"outlinewidth\":0,\"ticks\":\"\"},\"colorscale\":[[0.0,\"#0d0887\"],[0.1111111111111111,\"#46039f\"],[0.2222222222222222,\"#7201a8\"],[0.3333333333333333,\"#9c179e\"],[0.4444444444444444,\"#bd3786\"],[0.5555555555555556,\"#d8576b\"],[0.6666666666666666,\"#ed7953\"],[0.7777777777777778,\"#fb9f3a\"],[0.8888888888888888,\"#fdca26\"],[1.0,\"#f0f921\"]]}],\"mesh3d\":[{\"type\":\"mesh3d\",\"colorbar\":{\"outlinewidth\":0,\"ticks\":\"\"}}],\"scatter\":[{\"fillpattern\":{\"fillmode\":\"overlay\",\"size\":10,\"solidity\":0.2},\"type\":\"scatter\"}],\"parcoords\":[{\"type\":\"parcoords\",\"line\":{\"colorbar\":{\"outlinewidth\":0,\"ticks\":\"\"}}}],\"scatterpolargl\":[{\"type\":\"scatterpolargl\",\"marker\":{\"colorbar\":{\"outlinewidth\":0,\"ticks\":\"\"}}}],\"bar\":[{\"error_x\":{\"color\":\"#2a3f5f\"},\"error_y\":{\"color\":\"#2a3f5f\"},\"marker\":{\"line\":{\"color\":\"#E5ECF6\",\"width\":0.5},\"pattern\":{\"fillmode\":\"overlay\",\"size\":10,\"solidity\":0.2}},\"type\":\"bar\"}],\"scattergeo\":[{\"type\":\"scattergeo\",\"marker\":{\"colorbar\":{\"outlinewidth\":0,\"ticks\":\"\"}}}],\"scatterpolar\":[{\"type\":\"scatterpolar\",\"marker\":{\"colorbar\":{\"outlinewidth\":0,\"ticks\":\"\"}}}],\"histogram\":[{\"marker\":{\"pattern\":{\"fillmode\":\"overlay\",\"size\":10,\"solidity\":0.2}},\"type\":\"histogram\"}],\"scattergl\":[{\"type\":\"scattergl\",\"marker\":{\"colorbar\":{\"outlinewidth\":0,\"ticks\":\"\"}}}],\"scatter3d\":[{\"type\":\"scatter3d\",\"line\":{\"colorbar\":{\"outlinewidth\":0,\"ticks\":\"\"}},\"marker\":{\"colorbar\":{\"outlinewidth\":0,\"ticks\":\"\"}}}],\"scattermapbox\":[{\"type\":\"scattermapbox\",\"marker\":{\"colorbar\":{\"outlinewidth\":0,\"ticks\":\"\"}}}],\"scatterternary\":[{\"type\":\"scatterternary\",\"marker\":{\"colorbar\":{\"outlinewidth\":0,\"ticks\":\"\"}}}],\"scattercarpet\":[{\"type\":\"scattercarpet\",\"marker\":{\"colorbar\":{\"outlinewidth\":0,\"ticks\":\"\"}}}],\"carpet\":[{\"aaxis\":{\"endlinecolor\":\"#2a3f5f\",\"gridcolor\":\"white\",\"linecolor\":\"white\",\"minorgridcolor\":\"white\",\"startlinecolor\":\"#2a3f5f\"},\"baxis\":{\"endlinecolor\":\"#2a3f5f\",\"gridcolor\":\"white\",\"linecolor\":\"white\",\"minorgridcolor\":\"white\",\"startlinecolor\":\"#2a3f5f\"},\"type\":\"carpet\"}],\"table\":[{\"cells\":{\"fill\":{\"color\":\"#EBF0F8\"},\"line\":{\"color\":\"white\"}},\"header\":{\"fill\":{\"color\":\"#C8D4E3\"},\"line\":{\"color\":\"white\"}},\"type\":\"table\"}],\"barpolar\":[{\"marker\":{\"line\":{\"color\":\"#E5ECF6\",\"width\":0.5},\"pattern\":{\"fillmode\":\"overlay\",\"size\":10,\"solidity\":0.2}},\"type\":\"barpolar\"}],\"pie\":[{\"automargin\":true,\"type\":\"pie\"}]},\"layout\":{\"autotypenumbers\":\"strict\",\"colorway\":[\"#636efa\",\"#EF553B\",\"#00cc96\",\"#ab63fa\",\"#FFA15A\",\"#19d3f3\",\"#FF6692\",\"#B6E880\",\"#FF97FF\",\"#FECB52\"],\"font\":{\"color\":\"#2a3f5f\"},\"hovermode\":\"closest\",\"hoverlabel\":{\"align\":\"left\"},\"paper_bgcolor\":\"white\",\"plot_bgcolor\":\"#E5ECF6\",\"polar\":{\"bgcolor\":\"#E5ECF6\",\"angularaxis\":{\"gridcolor\":\"white\",\"linecolor\":\"white\",\"ticks\":\"\"},\"radialaxis\":{\"gridcolor\":\"white\",\"linecolor\":\"white\",\"ticks\":\"\"}},\"ternary\":{\"bgcolor\":\"#E5ECF6\",\"aaxis\":{\"gridcolor\":\"white\",\"linecolor\":\"white\",\"ticks\":\"\"},\"baxis\":{\"gridcolor\":\"white\",\"linecolor\":\"white\",\"ticks\":\"\"},\"caxis\":{\"gridcolor\":\"white\",\"linecolor\":\"white\",\"ticks\":\"\"}},\"coloraxis\":{\"colorbar\":{\"outlinewidth\":0,\"ticks\":\"\"}},\"colorscale\":{\"sequential\":[[0.0,\"#0d0887\"],[0.1111111111111111,\"#46039f\"],[0.2222222222222222,\"#7201a8\"],[0.3333333333333333,\"#9c179e\"],[0.4444444444444444,\"#bd3786\"],[0.5555555555555556,\"#d8576b\"],[0.6666666666666666,\"#ed7953\"],[0.7777777777777778,\"#fb9f3a\"],[0.8888888888888888,\"#fdca26\"],[1.0,\"#f0f921\"]],\"sequentialminus\":[[0.0,\"#0d0887\"],[0.1111111111111111,\"#46039f\"],[0.2222222222222222,\"#7201a8\"],[0.3333333333333333,\"#9c179e\"],[0.4444444444444444,\"#bd3786\"],[0.5555555555555556,\"#d8576b\"],[0.6666666666666666,\"#ed7953\"],[0.7777777777777778,\"#fb9f3a\"],[0.8888888888888888,\"#fdca26\"],[1.0,\"#f0f921\"]],\"diverging\":[[0,\"#8e0152\"],[0.1,\"#c51b7d\"],[0.2,\"#de77ae\"],[0.3,\"#f1b6da\"],[0.4,\"#fde0ef\"],[0.5,\"#f7f7f7\"],[0.6,\"#e6f5d0\"],[0.7,\"#b8e186\"],[0.8,\"#7fbc41\"],[0.9,\"#4d9221\"],[1,\"#276419\"]]},\"xaxis\":{\"gridcolor\":\"white\",\"linecolor\":\"white\",\"ticks\":\"\",\"title\":{\"standoff\":15},\"zerolinecolor\":\"white\",\"automargin\":true,\"zerolinewidth\":2},\"yaxis\":{\"gridcolor\":\"white\",\"linecolor\":\"white\",\"ticks\":\"\",\"title\":{\"standoff\":15},\"zerolinecolor\":\"white\",\"automargin\":true,\"zerolinewidth\":2},\"scene\":{\"xaxis\":{\"backgroundcolor\":\"#E5ECF6\",\"gridcolor\":\"white\",\"linecolor\":\"white\",\"showbackground\":true,\"ticks\":\"\",\"zerolinecolor\":\"white\",\"gridwidth\":2},\"yaxis\":{\"backgroundcolor\":\"#E5ECF6\",\"gridcolor\":\"white\",\"linecolor\":\"white\",\"showbackground\":true,\"ticks\":\"\",\"zerolinecolor\":\"white\",\"gridwidth\":2},\"zaxis\":{\"backgroundcolor\":\"#E5ECF6\",\"gridcolor\":\"white\",\"linecolor\":\"white\",\"showbackground\":true,\"ticks\":\"\",\"zerolinecolor\":\"white\",\"gridwidth\":2}},\"shapedefaults\":{\"line\":{\"color\":\"#2a3f5f\"}},\"annotationdefaults\":{\"arrowcolor\":\"#2a3f5f\",\"arrowhead\":0,\"arrowwidth\":1},\"geo\":{\"bgcolor\":\"white\",\"landcolor\":\"#E5ECF6\",\"subunitcolor\":\"white\",\"showland\":true,\"showlakes\":true,\"lakecolor\":\"white\"},\"title\":{\"x\":0.05},\"mapbox\":{\"style\":\"light\"}}},\"xaxis\":{\"anchor\":\"y\",\"domain\":[0.0,1.0]},\"yaxis\":{\"anchor\":\"x\",\"domain\":[0.0,1.0],\"title\":{\"text\":\"oldpeak\"}},\"legend\":{\"tracegroupgap\":0},\"margin\":{\"t\":60},\"boxmode\":\"group\"},                        {\"responsive\": true}                    ).then(function(){\n",
              "                            \n",
              "var gd = document.getElementById('1dfa9bf8-2051-4e05-b5f9-55214bc203b1');\n",
              "var x = new MutationObserver(function (mutations, observer) {{\n",
              "        var display = window.getComputedStyle(gd).display;\n",
              "        if (!display || display === 'none') {{\n",
              "            console.log([gd, 'removed!']);\n",
              "            Plotly.purge(gd);\n",
              "            observer.disconnect();\n",
              "        }}\n",
              "}});\n",
              "\n",
              "// Listen for the removal of the full notebook cells\n",
              "var notebookContainer = gd.closest('#notebook-container');\n",
              "if (notebookContainer) {{\n",
              "    x.observe(notebookContainer, {childList: true});\n",
              "}}\n",
              "\n",
              "// Listen for the clearing of the current output cell\n",
              "var outputEl = gd.closest('.output');\n",
              "if (outputEl) {{\n",
              "    x.observe(outputEl, {childList: true});\n",
              "}}\n",
              "\n",
              "                        })                };                            </script>        </div>\n",
              "</body>\n",
              "</html>"
            ]
          },
          "metadata": {}
        }
      ]
    },
    {
      "cell_type": "markdown",
      "source": [
        "\n",
        "I'm leaving outliers in the dataset because they can be useful for predictive modeling. Outliers can provide valuable information about the data and help us understand the relationships between variables. They can also help us identify potential errors in the data."
      ],
      "metadata": {
        "id": "L2sAvgzFCk5f"
      }
    },
    {
      "cell_type": "markdown",
      "source": [
        "**Training the models**"
      ],
      "metadata": {
        "id": "y34_8PLOCn-G"
      }
    },
    {
      "cell_type": "markdown",
      "source": [
        "**1. Decision Tree**"
      ],
      "metadata": {
        "id": "H1OiSPVnCrx1"
      }
    },
    {
      "cell_type": "code",
      "source": [
        "# train test split\n",
        "\n",
        "X = df.drop('num', axis=1)\n",
        "y = df['num']\n",
        "\n",
        "# encode the categorical columns using for lopp and le\n",
        "from sklearn.preprocessing import LabelEncoder\n",
        "\n",
        "le = LabelEncoder()\n",
        "for col in X.columns:\n",
        "    if X[col].dtype == 'object' or X[col].dtype == 'category':\n",
        "        X[col] = le.fit_transform(X[col])\n",
        "\n",
        "\n",
        "# split the data into train and test sets\n",
        "X_train, X_test, y_train, y_test = train_test_split(X, y, test_size=0.2 , random_state=42)"
      ],
      "metadata": {
        "id": "bvtBVgihCwQK"
      },
      "execution_count": null,
      "outputs": []
    },
    {
      "cell_type": "code",
      "source": [
        "%%time\n",
        "# train the decision tree model\n",
        "dt = DecisionTreeClassifier(max_depth=5, random_state=42)\n",
        "dt.fit(X_train, y_train)\n",
        "\n",
        "# predict the test data\n",
        "y_pred = dt.predict(X_test)\n",
        "\n",
        "print('Accuracy score: ', accuracy_score(y_test, y_pred))\n",
        "print('Precision score: ', precision_score(y_test, y_pred, average='micro'))\n",
        "print('Recall score: ', recall_score(y_test, y_pred, average='micro'))\n",
        "print('F1 score: ', f1_score(y_test, y_pred, average='micro'))"
      ],
      "metadata": {
        "colab": {
          "base_uri": "https://localhost:8080/"
        },
        "id": "6RjPSMNICzhQ",
        "outputId": "41547a10-f038-4581-e382-cd0579f37ad3"
      },
      "execution_count": null,
      "outputs": [
        {
          "output_type": "stream",
          "name": "stdout",
          "text": [
            "Accuracy score:  0.6195652173913043\n",
            "Precision score:  0.6195652173913043\n",
            "Recall score:  0.6195652173913043\n",
            "F1 score:  0.6195652173913043\n",
            "CPU times: user 24.4 ms, sys: 695 µs, total: 25.1 ms\n",
            "Wall time: 56.4 ms\n"
          ]
        }
      ]
    },
    {
      "cell_type": "markdown",
      "source": [
        "**2. Random Forest**"
      ],
      "metadata": {
        "id": "2SbgiUu5_9R0"
      }
    },
    {
      "cell_type": "code",
      "source": [
        "%%time\n",
        "# train the random forest model\n",
        "rf = RandomForestClassifier(n_estimators=100, random_state=42)\n",
        "rf.fit(X_train, y_train)\n",
        "\n",
        "# predict the test data\n",
        "y_pred = rf.predict(X_test)\n",
        "\n",
        "print('Accuracy score: ', accuracy_score(y_test, y_pred))\n",
        "print('Precision score: ', precision_score(y_test, y_pred, average='micro'))\n",
        "print('Recall score: ', recall_score(y_test, y_pred, average='micro'))\n",
        "print('F1 score: ', f1_score(y_test, y_pred, average='micro'))"
      ],
      "metadata": {
        "colab": {
          "base_uri": "https://localhost:8080/"
        },
        "id": "iC6BbFgLQxfA",
        "outputId": "c39278d1-d5ba-40a5-d4cb-e62e56921111"
      },
      "execution_count": null,
      "outputs": [
        {
          "output_type": "stream",
          "name": "stdout",
          "text": [
            "Accuracy score:  0.625\n",
            "Precision score:  0.625\n",
            "Recall score:  0.625\n",
            "F1 score:  0.625\n",
            "CPU times: user 311 ms, sys: 6.58 ms, total: 318 ms\n",
            "Wall time: 332 ms\n"
          ]
        }
      ]
    },
    {
      "cell_type": "markdown",
      "source": [
        "**3. Xgboost**"
      ],
      "metadata": {
        "id": "pyBZJB_EQ5W-"
      }
    },
    {
      "cell_type": "code",
      "source": [
        "%%time\n",
        "# train the xgboost model\n",
        "xgb = XGBClassifier(n_estimators=100, random_state=42)\n",
        "xgb.fit(X_train, y_train)\n",
        "\n",
        "# predict the test data\n",
        "y_pred = xgb.predict(X_test)\n",
        "\n",
        "print('Accuracy score: ', accuracy_score(y_test, y_pred))\n",
        "print('Precision score: ', precision_score(y_test, y_pred, average='micro'))\n",
        "print('Recall score: ', recall_score(y_test, y_pred, average='micro'))\n",
        "print('F1 score: ', f1_score(y_test, y_pred, average='micro'))"
      ],
      "metadata": {
        "colab": {
          "base_uri": "https://localhost:8080/"
        },
        "id": "cygOUdzFQ23u",
        "outputId": "35d76f0c-9860-43da-a68a-7926c6735945"
      },
      "execution_count": null,
      "outputs": [
        {
          "output_type": "stream",
          "name": "stdout",
          "text": [
            "Accuracy score:  0.6358695652173914\n",
            "Precision score:  0.6358695652173914\n",
            "Recall score:  0.6358695652173914\n",
            "F1 score:  0.6358695652173914\n",
            "CPU times: user 3.05 s, sys: 0 ns, total: 3.05 s\n",
            "Wall time: 3.19 s\n"
          ]
        }
      ]
    },
    {
      "cell_type": "code",
      "source": [
        "# make a bar plot showing each of the matrix with respect to the model\n",
        "plt.figure(figsize=(15, 4))\n",
        "plt.subplot(1, 4, 1)\n",
        "sns.barplot(x=['Accuracy', 'Precision', 'Recall', 'F1'], y=[accuracy_score(y_test, y_pred), precision_score(y_test, y_pred, average='micro'), recall_score(y_test, y_pred, average='micro'), f1_score(y_test, y_pred, average='micro')])\n",
        "plt.title('Decision Tree')\n",
        "plt.subplot(1, 4, 2)\n",
        "sns.barplot(x=['Accuracy', 'Precision', 'Recall', 'F1'], y=[accuracy_score(y_test, y_pred), precision_score(y_test, y_pred, average='micro'), recall_score(y_test, y_pred, average='micro'), f1_score(y_test, y_pred, average='micro')])\n",
        "plt.title('Random Forest')\n",
        "plt.subplot(1, 4, 3)\n",
        "sns.barplot(x=['Accuracy', 'Precision', 'Recall', 'F1'], y=[accuracy_score(y_test, y_pred), precision_score(y_test, y_pred, average='micro'), recall_score(y_test, y_pred, average='micro'), f1_score(y_test, y_pred, average='micro')])\n",
        "plt.title('XGBoost')\n",
        "# plt.tight_layout()\n",
        "plt.show()"
      ],
      "metadata": {
        "colab": {
          "base_uri": "https://localhost:8080/",
          "height": 391
        },
        "id": "t3liShvNQ2mJ",
        "outputId": "e0fbc8d4-9424-437d-9279-d53c264be6f2"
      },
      "execution_count": null,
      "outputs": [
        {
          "output_type": "display_data",
          "data": {
            "text/plain": [
              "<Figure size 1500x400 with 3 Axes>"
            ],
            "image/png": "[encoded data removed]"
          },
          "metadata": {}
        }
      ]
    },
    {
      "cell_type": "markdown",
      "source": [
        "**Summary**\n",
        "In this notebook, I have successfully navigated through several critical stages of a data science project using the UCI Heart Disease dataset. My journey included:\n",
        "\n",
        "Data Exploration and Preprocessing:\n",
        "\n",
        "I have effectively explored and understood the dataset, delving into the specifics of various clinical attributes. The preprocessing steps, including handling missing values and outliers, were methodically approached, ensuring the data quality for model training.\n",
        "\n",
        "Model Training and Evaluation:\n",
        "\n",
        "I trained three different models: Decision Tree, Random Forest, and XGBoost, with a focus on predicting the presence of heart disease. Each model's performance was evaluated using metrics like accuracy, precision, recall, and F1 score.\n",
        "\n",
        "Results:\n",
        "\n",
        "XGBoost showed slightly superior performance compared to the Decision Tree and Random Forest models, though all models need further tuning for improved accuracy."
      ],
      "metadata": {
        "id": "1DnDcaMcRPCC"
      }
    },
    {
      "cell_type": "code",
      "source": [],
      "metadata": {
        "id": "dw4ydSJ3QtPZ"
      },
      "execution_count": null,
      "outputs": []
    }
  ]
}